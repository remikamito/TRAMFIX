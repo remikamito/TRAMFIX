{
 "cells": [
  {
   "cell_type": "markdown",
   "id": "bf693b1a",
   "metadata": {},
   "source": [
    "# **Analysis 2: Comparing tract-averaged means**"
   ]
  },
  {
   "cell_type": "markdown",
   "id": "9fbada69",
   "metadata": {},
   "source": [
    "*Date:* 27 May 2025\n",
    "\n",
    "*Description:* This notebook compares tract-averageed means for the Travelling Heads (TRAMFIX) dataset.\n",
    "\n",
    "There are 4 key analyses run here:\n",
    "1. Comparing tract-averaged means for FBA metrics (using site-specific pipeline)\n",
    "2. Comparing tract-averaged means for FBA metrics (using group pipeline)\n",
    "3. Comparing tract-averaged means for DTI metrics for comparison (using site-specific pipeline)\n",
    "4. Comparing tract-averaged means for DTI metrics for comparison (using group pipeline)"
   ]
  },
  {
   "cell_type": "markdown",
   "id": "9863a091",
   "metadata": {},
   "source": [
    "## **Set up: import & organise data**"
   ]
  },
  {
   "cell_type": "markdown",
   "id": "d1caba5b",
   "metadata": {},
   "source": [
    "### Step 1: Set up input & output dirs"
   ]
  },
  {
   "cell_type": "code",
   "execution_count": 1,
   "id": "0905ff10",
   "metadata": {},
   "outputs": [
    {
     "name": "stderr",
     "output_type": "stream",
     "text": [
      "/Users/remika/opt/anaconda3/lib/python3.9/site-packages/pandas/core/computation/expressions.py:21: UserWarning: Pandas requires version '2.8.4' or newer of 'numexpr' (version '2.8.3' currently installed).\n",
      "  from pandas.core.computation.check import NUMEXPR_INSTALLED\n",
      "/Users/remika/opt/anaconda3/lib/python3.9/site-packages/pandas/core/arrays/masked.py:60: UserWarning: Pandas requires version '1.3.6' or newer of 'bottleneck' (version '1.3.5' currently installed).\n",
      "  from pandas.core import (\n"
     ]
    }
   ],
   "source": [
    "import pandas as pd\n",
    "import os\n",
    "\n",
    "## Input dir containing data\n",
    "input_dir = '/Users/remika/Library/CloudStorage/OneDrive-TheUniversityofMelbourne/RESEARCH_PROJECTS/DECRA/TravellingHeads/Data/Analysis2_tractmeans'\n",
    "\n",
    "## Output dir for plots\n",
    "output_dir = '/Users/remika/Library/CloudStorage/OneDrive-TheUniversityofMelbourne/RESEARCH_PROJECTS/DECRA/TravellingHeads/Data/plots'"
   ]
  },
  {
   "cell_type": "markdown",
   "id": "4c4bb948",
   "metadata": {},
   "source": [
    "### Step 2: Import data"
   ]
  },
  {
   "cell_type": "code",
   "execution_count": 2,
   "id": "4148b0a0",
   "metadata": {},
   "outputs": [],
   "source": [
    "## FD (DF1)\n",
    "input_dir = '/Users/remika/Library/CloudStorage/OneDrive-TheUniversityofMelbourne/RESEARCH_PROJECTS/DECRA/TravellingHeads/Data/Analysis2_tractmeans'\n",
    "tract_fd_df1 = os.path.join(input_dir, 'FD_tractmeans_RM.csv')\n",
    "tract_df1 = pd.read_csv(tract_fd_df1, sep=',')"
   ]
  },
  {
   "cell_type": "code",
   "execution_count": 4,
   "id": "ec0044e5",
   "metadata": {},
   "outputs": [],
   "source": [
    "## FC (DF2)\n",
    "tract_fc_df2 = os.path.join(input_dir, 'FC_tractmeans_RM.csv')\n",
    "tract_df2 = pd.read_csv(tract_fc_df2, sep=',')"
   ]
  },
  {
   "cell_type": "code",
   "execution_count": 6,
   "id": "ff1caeac",
   "metadata": {},
   "outputs": [],
   "source": [
    "## FDC (DF3)\n",
    "tract_fdc_df3 = os.path.join(input_dir, 'FDC_tractmeans_RM.csv')\n",
    "tract_df3 = pd.read_csv(tract_fdc_df3, sep=',')"
   ]
  },
  {
   "cell_type": "code",
   "execution_count": 40,
   "id": "10b67d6b",
   "metadata": {},
   "outputs": [],
   "source": [
    "## FA (DF_FA)\n",
    "tract_fa_dir = os.path.join(input_dir, 'FA_tractmeans_poptemp1.csv')\n",
    "tract_fa_df = pd.read_csv(tract_fa_dir, sep=',')"
   ]
  },
  {
   "cell_type": "code",
   "execution_count": 41,
   "id": "b8e1646a",
   "metadata": {},
   "outputs": [],
   "source": [
    "## ADC (DF_ADC)\n",
    "tract_adc_dir = os.path.join(input_dir, 'ADC_tractmeans_poptemp1.csv')\n",
    "tract_adc_df = pd.read_csv(tract_adc_dir, sep=',')"
   ]
  },
  {
   "cell_type": "markdown",
   "id": "8bc72655",
   "metadata": {},
   "source": [
    "### Step 3: Separate site & ID"
   ]
  },
  {
   "cell_type": "code",
   "execution_count": 7,
   "id": "eb01e8c7",
   "metadata": {},
   "outputs": [],
   "source": [
    "# Separate site & ID\n",
    "tract_df1[['ID', 'Site']] = tract_df1['ID'].str.split('_', expand=True)\n",
    "tract_df2[['ID', 'Site']] = tract_df2['ID'].str.split('_', expand=True)\n",
    "tract_df3[['ID', 'Site']] = tract_df3['ID'].str.split('_', expand=True)"
   ]
  },
  {
   "cell_type": "code",
   "execution_count": null,
   "id": "0cd95a14",
   "metadata": {},
   "outputs": [],
   "source": [
    "# DTI measures\n",
    "tract_fa_df[['ID', 'Site']] = tract_fa_df['ID'].str.split('_', expand=True)\n",
    "tract_adc_df[['ID', 'Site']] = tract_adc_df['ID'].str.split('_', expand=True)"
   ]
  },
  {
   "cell_type": "markdown",
   "id": "ae1d30a3",
   "metadata": {},
   "source": [
    "### Step 4: Convert to long"
   ]
  },
  {
   "cell_type": "code",
   "execution_count": 8,
   "id": "26829c97",
   "metadata": {},
   "outputs": [],
   "source": [
    "# DF1\n",
    "tract_df1_long = tract_df1.melt(id_vars=['ID', 'Site'],\n",
    "                                  var_name=\"Tract\",\n",
    "                                  value_name='FD')"
   ]
  },
  {
   "cell_type": "code",
   "execution_count": 9,
   "id": "e9872f68",
   "metadata": {},
   "outputs": [],
   "source": [
    "# DF2\n",
    "tract_df2_long = tract_df2.melt(id_vars=['ID', 'Site'],\n",
    "                                  var_name=\"Tract\",\n",
    "                                  value_name='FC')"
   ]
  },
  {
   "cell_type": "code",
   "execution_count": 10,
   "id": "7d6e6e4a",
   "metadata": {},
   "outputs": [],
   "source": [
    "# DF3\n",
    "tract_df3_long = tract_df3.melt(id_vars=['ID', 'Site'],\n",
    "                                  var_name=\"Tract\",\n",
    "                                  value_name='FDC')"
   ]
  },
  {
   "cell_type": "code",
   "execution_count": 54,
   "id": "db51890b",
   "metadata": {},
   "outputs": [],
   "source": [
    "# DF FA\n",
    "tract_fa_df_long = tract_fa_df.melt(id_vars=['ID', 'Site'],\n",
    "                                  var_name=\"Tract\",\n",
    "                                  value_name='FA')"
   ]
  },
  {
   "cell_type": "code",
   "execution_count": 43,
   "id": "54297470",
   "metadata": {},
   "outputs": [],
   "source": [
    "# DF ADC\n",
    "tract_adc_df_long = tract_adc_df.melt(id_vars=['ID', 'Site'],\n",
    "                                  var_name=\"Tract\",\n",
    "                                  value_name='MD')"
   ]
  },
  {
   "cell_type": "markdown",
   "id": "310f9f09",
   "metadata": {},
   "source": [
    "# **FBA metrics (site-specific pipeline)**"
   ]
  },
  {
   "cell_type": "markdown",
   "id": "30c558d4",
   "metadata": {},
   "source": [
    "## **Tract-averaged FD**"
   ]
  },
  {
   "cell_type": "markdown",
   "id": "f0cb6f05",
   "metadata": {},
   "source": [
    "### Step 1: Compute means & CV"
   ]
  },
  {
   "cell_type": "code",
   "execution_count": 11,
   "id": "c612ff72",
   "metadata": {},
   "outputs": [],
   "source": [
    "cv_results_df1 = []\n",
    "for tract in tract_df1_long['Tract'].unique():\n",
    "    subset = tract_df1_long[tract_df1_long['Tract'] == tract]\n",
    "    mean = subset['FD'].mean()\n",
    "    std = subset['FD'].std() \n",
    "    cv = std/mean*100\n",
    "    cv_results_df1.append({'Tract': tract, 'mean': mean, 'std': std, 'CV': cv})\n",
    "\n",
    "# Convert to DataFrame\n",
    "cv_df1 = pd.DataFrame(cv_results_df1)"
   ]
  },
  {
   "cell_type": "code",
   "execution_count": 12,
   "id": "a9d04812",
   "metadata": {},
   "outputs": [
    {
     "name": "stdout",
     "output_type": "stream",
     "text": [
      "           Tract      mean       std        CV\n",
      "0        AF_left  0.354545  0.013915  3.924708\n",
      "1       AF_right  0.354725  0.014530  4.096090\n",
      "2       ATR_left  0.325250  0.012632  3.883849\n",
      "3      ATR_right  0.330127  0.016145  4.890427\n",
      "4             CA  0.341722  0.031677  9.269817\n",
      "..           ...       ...       ...       ...\n",
      "67  T_PREF_right  0.380896  0.017576  4.614259\n",
      "68   T_PREM_left  0.371895  0.017132  4.606777\n",
      "69  T_PREM_right  0.404963  0.017958  4.434360\n",
      "70       UF_left  0.346057  0.017366  5.018251\n",
      "71      UF_right  0.335296  0.018743  5.589980\n",
      "\n",
      "[72 rows x 4 columns]\n"
     ]
    }
   ],
   "source": [
    "print(cv_df1)"
   ]
  },
  {
   "cell_type": "markdown",
   "id": "c257fab2",
   "metadata": {},
   "source": [
    "### Step 2: Compute ICC"
   ]
  },
  {
   "cell_type": "code",
   "execution_count": 21,
   "id": "0355ce51",
   "metadata": {},
   "outputs": [],
   "source": [
    "# Compute ICC(3,1) for each tract\n",
    "\n",
    "import pingouin as pg\n",
    "\n",
    "icc_results_df1 = []\n",
    "for tract in tract_df1_long['Tract'].unique():\n",
    "    subset = tract_df1_long[tract_df1_long['Tract'] == tract]  \n",
    "    icc = pg.intraclass_corr(data=subset, targets='ID', raters='Site', ratings='FD')\n",
    "    icc_2_1 = icc[icc['Type'] == 'ICC2']['ICC'].values[0] \n",
    "    icc_3_1 = icc[icc['Type'] == 'ICC3']['ICC'].values[0]  # Extract ICC(3,1)\n",
    "    icc_3_pval = icc[icc['Type'] == 'ICC3']['pval'].values[0] # extract pval for ICC3\n",
    "    icc_results_df1.append({'Tract': tract, 'ICC(2,1)': icc_2_1, 'ICC(3,1)': icc_3_1, 'pval': icc_3_pval})\n",
    "\n",
    "# Convert to DataFrame\n",
    "icc_df1 = pd.DataFrame(icc_results_df1)"
   ]
  },
  {
   "cell_type": "code",
   "execution_count": 14,
   "id": "4ecdd65a",
   "metadata": {},
   "outputs": [
    {
     "name": "stdout",
     "output_type": "stream",
     "text": [
      "           Tract   ICC_3_1          pval\n",
      "0        AF_left  0.961612  1.907921e-18\n",
      "1       AF_right  0.965662  4.279073e-19\n",
      "2       ATR_left  0.865124  3.460696e-11\n",
      "3      ATR_right  0.958204  5.964297e-18\n",
      "4             CA  0.964435  6.852539e-19\n",
      "..           ...       ...           ...\n",
      "67  T_PREF_right  0.973446  1.356905e-20\n",
      "68   T_PREM_left  0.938860  9.646569e-16\n",
      "69  T_PREM_right  0.942172  4.586912e-16\n",
      "70       UF_left  0.930183  5.659781e-15\n",
      "71      UF_right  0.916422  6.196180e-14\n",
      "\n",
      "[72 rows x 3 columns]\n"
     ]
    }
   ],
   "source": [
    "print(icc_df1)"
   ]
  },
  {
   "cell_type": "markdown",
   "id": "cc0f4179",
   "metadata": {},
   "source": [
    "### Step 3: Combine results"
   ]
  },
  {
   "cell_type": "code",
   "execution_count": 22,
   "id": "be959748",
   "metadata": {},
   "outputs": [],
   "source": [
    "results_df1 = pd.merge(cv_df1, icc_df1, on=\"Tract\")\n",
    "results_df1['Tract'] = results_df1['Tract'].str.replace(\"_\", \" \")"
   ]
  },
  {
   "cell_type": "code",
   "execution_count": 17,
   "id": "a94202b5",
   "metadata": {},
   "outputs": [
    {
     "data": {
      "application/vnd.microsoft.datawrangler.viewer.v0+json": {
       "columns": [
        {
         "name": "index",
         "rawType": "object",
         "type": "string"
        },
        {
         "name": "CV",
         "rawType": "float64",
         "type": "float"
        }
       ],
       "ref": "a20c3c86-a817-41a3-b6c1-aa4681cc69c9",
       "rows": [
        [
         "min",
         "2.286234856243128"
        ],
        [
         "max",
         "9.269816669189476"
        ]
       ],
       "shape": {
        "columns": 1,
        "rows": 2
       }
      },
      "text/plain": [
       "min    2.286235\n",
       "max    9.269817\n",
       "Name: CV, dtype: float64"
      ]
     },
     "execution_count": 17,
     "metadata": {},
     "output_type": "execute_result"
    }
   ],
   "source": [
    "results_df1['CV'].agg(['min', 'max'])"
   ]
  },
  {
   "cell_type": "code",
   "execution_count": null,
   "id": "afe3aa94",
   "metadata": {},
   "outputs": [
    {
     "data": {
      "application/vnd.microsoft.datawrangler.viewer.v0+json": {
       "columns": [
        {
         "name": "index",
         "rawType": "object",
         "type": "string"
        },
        {
         "name": "ICC_3_1",
         "rawType": "float64",
         "type": "float"
        }
       ],
       "ref": "14d3790c-276a-4f37-a130-3fc1cf661864",
       "rows": [
        [
         "min",
         "0.6523889890137397"
        ],
        [
         "max",
         "0.9803655147031278"
        ]
       ],
       "shape": {
        "columns": 1,
        "rows": 2
       }
      },
      "text/plain": [
       "min    0.652389\n",
       "max    0.980366\n",
       "Name: ICC_3_1, dtype: float64"
      ]
     },
     "execution_count": 18,
     "metadata": {},
     "output_type": "execute_result"
    }
   ],
   "source": [
    "results_df1['ICC(3,1)'].agg(['min', 'max'])"
   ]
  },
  {
   "cell_type": "code",
   "execution_count": 39,
   "id": "4b813530",
   "metadata": {},
   "outputs": [
    {
     "data": {
      "application/vnd.microsoft.datawrangler.viewer.v0+json": {
       "columns": [
        {
         "name": "index",
         "rawType": "object",
         "type": "string"
        },
        {
         "name": "ICC(2,1)",
         "rawType": "float64",
         "type": "float"
        }
       ],
       "ref": "c1673b29-3c79-4fa5-98ad-44169a1306cc",
       "rows": [
        [
         "min",
         "0.538301547671943"
        ],
        [
         "max",
         "0.9633517646049877"
        ]
       ],
       "shape": {
        "columns": 1,
        "rows": 2
       }
      },
      "text/plain": [
       "min    0.538302\n",
       "max    0.963352\n",
       "Name: ICC(2,1), dtype: float64"
      ]
     },
     "execution_count": 39,
     "metadata": {},
     "output_type": "execute_result"
    }
   ],
   "source": [
    "results_df1['ICC(2,1)'].agg(['min', 'max'])"
   ]
  },
  {
   "cell_type": "markdown",
   "id": "6862e4e7",
   "metadata": {},
   "source": [
    "### Step 4: Plot ICC"
   ]
  },
  {
   "cell_type": "code",
   "execution_count": 80,
   "id": "a4ff2f0f",
   "metadata": {},
   "outputs": [
    {
     "name": "stderr",
     "output_type": "stream",
     "text": [
      "/var/folders/g8/w52c85dx1fsgxg5681hppls80000gn/T/ipykernel_82075/777676933.py:13: MatplotlibDeprecationWarning: The get_cmap function was deprecated in Matplotlib 3.7 and will be removed in 3.11. Use ``matplotlib.colormaps[name]`` or ``matplotlib.colormaps.get_cmap()`` or ``pyplot.get_cmap()`` instead.\n",
      "  cmap = cm.get_cmap(\"Spectral\")\n",
      "/var/folders/g8/w52c85dx1fsgxg5681hppls80000gn/T/ipykernel_82075/777676933.py:25: FutureWarning: \n",
      "\n",
      "Passing `palette` without assigning `hue` is deprecated and will be removed in v0.14.0. Assign the `y` variable to `hue` and set `legend=False` for the same effect.\n",
      "\n",
      "  bars = sns.barplot(\n",
      "/var/folders/g8/w52c85dx1fsgxg5681hppls80000gn/T/ipykernel_82075/777676933.py:45: UserWarning: No artists with labels found to put in legend.  Note that artists whose label start with an underscore are ignored when legend() is called with no argument.\n",
      "  plt.legend()\n"
     ]
    },
    {
     "data": {
      "image/png": "[encoded data removed]",
      "text/plain": [
       "<Figure size 600x1200 with 2 Axes>"
      ]
     },
     "metadata": {},
     "output_type": "display_data"
    }
   ],
   "source": [
    "import matplotlib.pyplot as plt\n",
    "import seaborn as sns\n",
    "import matplotlib.cm as cm\n",
    "import matplotlib.colors as mcolors\n",
    "\n",
    "# Sort by ICC values (low to high)\n",
    "icc_df1_sorted = results_df1.sort_values(by=\"ICC(3,1)\", ascending=False)\n",
    "\n",
    "plt.rcParams['font.family'] = 'Arial'\n",
    "\n",
    "# manual colour mapping (range from 0 to 1 for ICC)\n",
    "norm = mcolors.Normalize(vmin=0, vmax=1)\n",
    "cmap = cm.get_cmap(\"Spectral\")\n",
    "# or using rocket without mapping\n",
    "# norm = mcolors.Normalize(vmin=results_df1['ICC_3_1'].min(), vmax=results_df1['ICC_3_1'].max())\n",
    "# cmap = cm.get_cmap(\"rocket\")\n",
    "colours = [cmap(norm(val)) for val in icc_df1_sorted['ICC(3,1)']]\n",
    "\n",
    "# # Plot\n",
    "# plt.figure(figsize=(6, 12))\n",
    "# sns.barplot(data=icc_df1_sorted, x=\"ICC_3_1\", y=\"Tract\", palette=colours)\n",
    "\n",
    "# plot\n",
    "fig, ax = plt.subplots(figsize=(6,12))\n",
    "bars = sns.barplot(\n",
    "    data=icc_df1_sorted,\n",
    "    y=\"Tract\",\n",
    "    x=\"ICC(3,1)\",\n",
    "    palette=colours,\n",
    "    ax=ax\n",
    ")\n",
    "# Add vertical colorbar\n",
    "sm = cm.ScalarMappable(cmap=cmap, norm=norm)\n",
    "sm.set_array([])  # Required for matplotlib < 3.1\n",
    "cbar = fig.colorbar(sm, ax=ax, orientation=\"vertical\")\n",
    "cbar.set_label(\"ICC(3,1)\", rotation=270, labelpad=15)\n",
    "\n",
    "# Format plot\n",
    "#plt.xticks(rotation=90, fontsize=10)  # Rotate measure names for visibility\n",
    "plt.ylabel(\"Tract\")\n",
    "plt.xlabel(\"ICC(3,1)\")\n",
    "plt.title(\"ICC for FD measure\")\n",
    "#plt.axhline(y=0.75, color='g', linestyle='--', label=\"Excellent Agreement (0.75)\")\n",
    "#plt.axhline(y=0.40, color='r', linestyle='--', label=\"Poor Agreement (0.40)\")\n",
    "plt.legend()\n",
    "\n",
    "##output_plt = os.path.join(output_dir, \"icc_plot_fd.svg\")\n",
    "\n",
    "#plt.savefig(os.path.join(output_dir, \"icc_plot_fd_template1.svg\"), format=\"svg\", bbox_inches=\"tight\")\n",
    "\n",
    "plt.show()"
   ]
  },
  {
   "cell_type": "code",
   "execution_count": 81,
   "id": "9a746ac6",
   "metadata": {},
   "outputs": [],
   "source": [
    "icc_df1_sorted['hexcode'] = icc_df1_sorted['ICC(3,1)'].apply(lambda val: mcolors.to_hex(cmap(norm(val))))"
   ]
  },
  {
   "cell_type": "markdown",
   "id": "c4c5b1a3",
   "metadata": {},
   "source": [
    "## **Tract-averaged FC**"
   ]
  },
  {
   "cell_type": "markdown",
   "id": "f10c2170",
   "metadata": {},
   "source": [
    "### Step 1: Compute means & CV"
   ]
  },
  {
   "cell_type": "code",
   "execution_count": 23,
   "id": "db542e50",
   "metadata": {},
   "outputs": [],
   "source": [
    "cv_results_df2 = []\n",
    "for tract in tract_df2_long['Tract'].unique():\n",
    "    subset = tract_df2_long[tract_df2_long['Tract'] == tract]\n",
    "    mean = subset['FC'].mean()\n",
    "    std = subset['FC'].std() \n",
    "    cv = std/mean*100\n",
    "    cv_results_df2.append({'Tract': tract, 'mean': mean, 'std': std, 'CV': cv})\n",
    "\n",
    "# Convert to DataFrame\n",
    "cv_df2 = pd.DataFrame(cv_results_df2)"
   ]
  },
  {
   "cell_type": "markdown",
   "id": "e8841e38",
   "metadata": {},
   "source": [
    "### Step 2: Compute ICC"
   ]
  },
  {
   "cell_type": "code",
   "execution_count": 24,
   "id": "e7a0ccff",
   "metadata": {},
   "outputs": [],
   "source": [
    "icc_results_df2 = []\n",
    "for tract in tract_df2_long['Tract'].unique():\n",
    "    subset = tract_df2_long[tract_df2_long['Tract'] == tract]  \n",
    "    icc = pg.intraclass_corr(data=subset, targets='ID', raters='Site', ratings='FC')\n",
    "    icc_2_1 = icc[icc['Type'] == 'ICC2']['ICC'].values[0] \n",
    "    icc_3_1 = icc[icc['Type'] == 'ICC3']['ICC'].values[0]  # Extract ICC(3,1)\n",
    "    icc_3_pval = icc[icc['Type'] == 'ICC3']['pval'].values[0] # extract pval for ICC3\n",
    "    icc_results_df2.append({'Tract': tract, 'ICC(2,1)': icc_2_1, 'ICC(3,1)': icc_3_1, 'pval': icc_3_pval})\n",
    "\n",
    "# Convert to DataFrame\n",
    "icc_df2 = pd.DataFrame(icc_results_df2)"
   ]
  },
  {
   "cell_type": "markdown",
   "id": "4abb3cf3",
   "metadata": {},
   "source": [
    "### Step 3: Combine results"
   ]
  },
  {
   "cell_type": "code",
   "execution_count": 25,
   "id": "ac663131",
   "metadata": {},
   "outputs": [],
   "source": [
    "results_df2 = pd.merge(cv_df2, icc_df2, on=\"Tract\")\n",
    "results_df2['Tract'] = results_df2['Tract'].str.replace(\"_\", \" \")"
   ]
  },
  {
   "cell_type": "code",
   "execution_count": 26,
   "id": "3649c02e",
   "metadata": {},
   "outputs": [
    {
     "data": {
      "application/vnd.microsoft.datawrangler.viewer.v0+json": {
       "columns": [
        {
         "name": "index",
         "rawType": "object",
         "type": "string"
        },
        {
         "name": "CV",
         "rawType": "float64",
         "type": "float"
        }
       ],
       "ref": "22dc4bc4-7973-4fc7-b703-bc049b3fd17a",
       "rows": [
        [
         "min",
         "5.310129011234124"
        ],
        [
         "max",
         "10.907569279565593"
        ]
       ],
       "shape": {
        "columns": 1,
        "rows": 2
       }
      },
      "text/plain": [
       "min     5.310129\n",
       "max    10.907569\n",
       "Name: CV, dtype: float64"
      ]
     },
     "execution_count": 26,
     "metadata": {},
     "output_type": "execute_result"
    }
   ],
   "source": [
    "results_df2['CV'].agg(['min', 'max'])"
   ]
  },
  {
   "cell_type": "code",
   "execution_count": 28,
   "id": "8bd2f719",
   "metadata": {},
   "outputs": [
    {
     "data": {
      "application/vnd.microsoft.datawrangler.viewer.v0+json": {
       "columns": [
        {
         "name": "index",
         "rawType": "object",
         "type": "string"
        },
        {
         "name": "ICC(3,1)",
         "rawType": "float64",
         "type": "float"
        }
       ],
       "ref": "554327aa-4127-499d-bc1d-fd689727439f",
       "rows": [
        [
         "min",
         "0.9657924250769533"
        ],
        [
         "max",
         "0.9982992485720608"
        ]
       ],
       "shape": {
        "columns": 1,
        "rows": 2
       }
      },
      "text/plain": [
       "min    0.965792\n",
       "max    0.998299\n",
       "Name: ICC(3,1), dtype: float64"
      ]
     },
     "execution_count": 28,
     "metadata": {},
     "output_type": "execute_result"
    }
   ],
   "source": [
    "results_df2['ICC(3,1)'].agg(['min', 'max'])"
   ]
  },
  {
   "cell_type": "markdown",
   "id": "680c8b49",
   "metadata": {},
   "source": []
  },
  {
   "cell_type": "markdown",
   "id": "5d5d34a9",
   "metadata": {},
   "source": [
    "## **Tract-averaged FDC**"
   ]
  },
  {
   "cell_type": "markdown",
   "id": "d815d0ac",
   "metadata": {},
   "source": [
    "### Step 1: Compute means & CV"
   ]
  },
  {
   "cell_type": "code",
   "execution_count": 32,
   "id": "63904ca7",
   "metadata": {},
   "outputs": [],
   "source": [
    "cv_results_df3 = []\n",
    "for tract in tract_df3_long['Tract'].unique():\n",
    "    subset = tract_df3_long[tract_df3_long['Tract'] == tract]\n",
    "    mean = subset['FDC'].mean()\n",
    "    std = subset['FDC'].std() \n",
    "    cv = std/mean*100\n",
    "    cv_results_df3.append({'Tract': tract, 'mean': mean, 'std': std, 'CV': cv})\n",
    "\n",
    "# Convert to DataFrame\n",
    "cv_df3 = pd.DataFrame(cv_results_df3)"
   ]
  },
  {
   "cell_type": "markdown",
   "id": "396dba70",
   "metadata": {},
   "source": [
    "### Step 2: Compute ICC"
   ]
  },
  {
   "cell_type": "code",
   "execution_count": 34,
   "id": "99d53086",
   "metadata": {},
   "outputs": [],
   "source": [
    "icc_results_df3 = []\n",
    "for tract in tract_df3_long['Tract'].unique():\n",
    "    subset = tract_df3_long[tract_df3_long['Tract'] == tract]  \n",
    "    icc = pg.intraclass_corr(data=subset, targets='ID', raters='Site', ratings='FDC')\n",
    "    icc_2_1 = icc[icc['Type'] == 'ICC2']['ICC'].values[0] \n",
    "    icc_3_1 = icc[icc['Type'] == 'ICC3']['ICC'].values[0]  # Extract ICC(3,1)\n",
    "    icc_3_pval = icc[icc['Type'] == 'ICC3']['pval'].values[0] # extract pval for ICC3\n",
    "    icc_results_df3.append({'Tract': tract, 'ICC(2,1)': icc_2_1, 'ICC(3,1)': icc_3_1, 'pval': icc_3_pval})\n",
    "\n",
    "# Convert to DataFrame\n",
    "icc_df3 = pd.DataFrame(icc_results_df3)"
   ]
  },
  {
   "cell_type": "markdown",
   "id": "28a12501",
   "metadata": {},
   "source": [
    "### Step 3: Combine results"
   ]
  },
  {
   "cell_type": "code",
   "execution_count": 35,
   "id": "61f6c7a9",
   "metadata": {},
   "outputs": [],
   "source": [
    "results_df3 = pd.merge(cv_df3, icc_df3, on=\"Tract\")\n",
    "results_df3['Tract'] = results_df3['Tract'].str.replace(\"_\", \" \")"
   ]
  },
  {
   "cell_type": "code",
   "execution_count": 36,
   "id": "def30f0a",
   "metadata": {},
   "outputs": [
    {
     "data": {
      "application/vnd.microsoft.datawrangler.viewer.v0+json": {
       "columns": [
        {
         "name": "index",
         "rawType": "object",
         "type": "string"
        },
        {
         "name": "CV",
         "rawType": "float64",
         "type": "float"
        }
       ],
       "ref": "0fe7b7c0-a2c3-45a8-a333-1463441a5ab8",
       "rows": [
        [
         "min",
         "6.409880743678325"
        ],
        [
         "max",
         "18.118527698281017"
        ]
       ],
       "shape": {
        "columns": 1,
        "rows": 2
       }
      },
      "text/plain": [
       "min     6.409881\n",
       "max    18.118528\n",
       "Name: CV, dtype: float64"
      ]
     },
     "execution_count": 36,
     "metadata": {},
     "output_type": "execute_result"
    }
   ],
   "source": [
    "results_df3['CV'].agg(['min', 'max'])"
   ]
  },
  {
   "cell_type": "code",
   "execution_count": 38,
   "id": "148e0e46",
   "metadata": {},
   "outputs": [
    {
     "data": {
      "application/vnd.microsoft.datawrangler.viewer.v0+json": {
       "columns": [
        {
         "name": "index",
         "rawType": "object",
         "type": "string"
        },
        {
         "name": "ICC(3,1)",
         "rawType": "float64",
         "type": "float"
        }
       ],
       "ref": "9e1e2b87-c14e-4afa-a23c-413b3feddcb4",
       "rows": [
        [
         "min",
         "0.9157763880681739"
        ],
        [
         "max",
         "0.9945033405266764"
        ]
       ],
       "shape": {
        "columns": 1,
        "rows": 2
       }
      },
      "text/plain": [
       "min    0.915776\n",
       "max    0.994503\n",
       "Name: ICC(3,1), dtype: float64"
      ]
     },
     "execution_count": 38,
     "metadata": {},
     "output_type": "execute_result"
    }
   ],
   "source": [
    "results_df3['ICC(3,1)'].agg(['min', 'max'])"
   ]
  },
  {
   "cell_type": "markdown",
   "id": "1b24d34c",
   "metadata": {},
   "source": [
    "# **FBA metrics (group pipeline)**"
   ]
  },
  {
   "cell_type": "markdown",
   "id": "3771b02b",
   "metadata": {},
   "source": [
    "# **DTI metrics (site-specific pipeline)**"
   ]
  },
  {
   "cell_type": "markdown",
   "id": "9e956121",
   "metadata": {},
   "source": [
    "## **Tract-averaged FA**"
   ]
  },
  {
   "cell_type": "markdown",
   "id": "0e7a9a18",
   "metadata": {},
   "source": [
    "### Step 1: Compute means & CV"
   ]
  },
  {
   "cell_type": "code",
   "execution_count": 53,
   "id": "70d59672",
   "metadata": {},
   "outputs": [],
   "source": [
    "cv_results_fa_df = []\n",
    "for tract in tract_fa_df_long['Tract'].unique():\n",
    "    subset = tract_fa_df_long[tract_fa_df_long['Tract'] == tract]\n",
    "    mean = subset['FA'].mean()\n",
    "    std = subset['FA'].std() \n",
    "    cv = std/mean*100\n",
    "    cv_results_fa_df.append({'Tract': tract, 'mean': mean, 'std': std, 'CV': cv})\n",
    "\n",
    "# Convert to DataFrame\n",
    "cv_fa_df = pd.DataFrame(cv_results_fa_df)"
   ]
  },
  {
   "cell_type": "code",
   "execution_count": 46,
   "id": "f1fc13f4",
   "metadata": {},
   "outputs": [
    {
     "name": "stdout",
     "output_type": "stream",
     "text": [
      "           Tract      mean       std        CV\n",
      "0        AF_left  0.347130  0.011431  3.292962\n",
      "1       AF_right  0.354095  0.011700  3.304097\n",
      "2       ATR_left  0.320152  0.014944  4.667722\n",
      "3      ATR_right  0.324123  0.014454  4.459421\n",
      "4             CA  0.339830  0.024340  7.162384\n",
      "..           ...       ...       ...       ...\n",
      "67  T_PREF_right  0.348202  0.013846  3.976367\n",
      "68   T_PREM_left  0.353499  0.017711  5.010303\n",
      "69  T_PREM_right  0.370795  0.019045  5.136246\n",
      "70       UF_left  0.325854  0.014847  4.556250\n",
      "71      UF_right  0.319809  0.013888  4.342577\n",
      "\n",
      "[72 rows x 4 columns]\n"
     ]
    }
   ],
   "source": [
    "print(cv_fa_df)"
   ]
  },
  {
   "cell_type": "markdown",
   "id": "0a7fd888",
   "metadata": {},
   "source": [
    "### Step 2: Compute ICC"
   ]
  },
  {
   "cell_type": "code",
   "execution_count": 65,
   "id": "b6fd7452",
   "metadata": {},
   "outputs": [],
   "source": [
    "# Compute ICC(3,1) for each tract\n",
    "\n",
    "import pingouin as pg\n",
    "\n",
    "icc_results_fa_df = []\n",
    "for tract in tract_fa_df_long['Tract'].unique():\n",
    "    subset = tract_fa_df_long[tract_fa_df_long['Tract'] == tract]  \n",
    "    icc = pg.intraclass_corr(data=subset, targets='ID', raters='Site', ratings='FA')\n",
    "    icc_2_1 = icc[icc['Type'] == 'ICC2']['ICC'].values[0] \n",
    "    icc_3_1 = icc[icc['Type'] == 'ICC3']['ICC'].values[0]  # Extract ICC(3,1)\n",
    "    icc_3_pval = icc[icc['Type'] == 'ICC3']['pval'].values[0] # extract pval for ICC3\n",
    "    icc_results_fa_df.append({'Tract': tract, 'ICC(2,1)': icc_2_1, 'ICC(3,1)': icc_3_1, 'pval': icc_3_pval})\n",
    "\n",
    "# Convert to DataFrame\n",
    "icc_fa_df = pd.DataFrame(icc_results_fa_df)"
   ]
  },
  {
   "cell_type": "markdown",
   "id": "caa6587b",
   "metadata": {},
   "source": [
    "### Step 3: Combine results"
   ]
  },
  {
   "cell_type": "code",
   "execution_count": 66,
   "id": "70daa4ca",
   "metadata": {},
   "outputs": [],
   "source": [
    "results_fa_df = pd.merge(cv_fa_df, icc_fa_df, on=\"Tract\")\n",
    "results_fa_df['Tract'] = results_fa_df['Tract'].str.replace(\"_\", \" \")"
   ]
  },
  {
   "cell_type": "code",
   "execution_count": 63,
   "id": "2717349f",
   "metadata": {},
   "outputs": [
    {
     "data": {
      "application/vnd.microsoft.datawrangler.viewer.v0+json": {
       "columns": [
        {
         "name": "index",
         "rawType": "object",
         "type": "string"
        },
        {
         "name": "CV",
         "rawType": "float64",
         "type": "float"
        }
       ],
       "ref": "4cbc811a-09bb-490b-be2a-18ead3d6188b",
       "rows": [
        [
         "min",
         "1.5337392020307266"
        ],
        [
         "max",
         "7.162384386650899"
        ]
       ],
       "shape": {
        "columns": 1,
        "rows": 2
       }
      },
      "text/plain": [
       "min    1.533739\n",
       "max    7.162384\n",
       "Name: CV, dtype: float64"
      ]
     },
     "execution_count": 63,
     "metadata": {},
     "output_type": "execute_result"
    }
   ],
   "source": [
    "results_fa_df['CV'].agg(['min', 'max'])"
   ]
  },
  {
   "cell_type": "code",
   "execution_count": 64,
   "id": "1f70a142",
   "metadata": {},
   "outputs": [
    {
     "data": {
      "application/vnd.microsoft.datawrangler.viewer.v0+json": {
       "columns": [
        {
         "name": "index",
         "rawType": "object",
         "type": "string"
        },
        {
         "name": "ICC(3,1)",
         "rawType": "float64",
         "type": "float"
        }
       ],
       "ref": "7cc39929-177b-479d-884c-52e763d00e15",
       "rows": [
        [
         "min",
         "0.48636048290695855"
        ],
        [
         "max",
         "0.9633144349384892"
        ]
       ],
       "shape": {
        "columns": 1,
        "rows": 2
       }
      },
      "text/plain": [
       "min    0.486360\n",
       "max    0.963314\n",
       "Name: ICC(3,1), dtype: float64"
      ]
     },
     "execution_count": 64,
     "metadata": {},
     "output_type": "execute_result"
    }
   ],
   "source": [
    "results_fa_df['ICC(3,1)'].agg(['min', 'max'])"
   ]
  },
  {
   "cell_type": "markdown",
   "id": "b4693c2f",
   "metadata": {},
   "source": [
    "### Step 4: Plot results"
   ]
  },
  {
   "cell_type": "code",
   "execution_count": null,
   "id": "3a12b06e",
   "metadata": {},
   "outputs": [
    {
     "name": "stderr",
     "output_type": "stream",
     "text": [
      "/var/folders/g8/w52c85dx1fsgxg5681hppls80000gn/T/ipykernel_82075/1241793486.py:13: MatplotlibDeprecationWarning: The get_cmap function was deprecated in Matplotlib 3.7 and will be removed in 3.11. Use ``matplotlib.colormaps[name]`` or ``matplotlib.colormaps.get_cmap()`` or ``pyplot.get_cmap()`` instead.\n",
      "  cmap = cm.get_cmap(\"Spectral\")\n",
      "/var/folders/g8/w52c85dx1fsgxg5681hppls80000gn/T/ipykernel_82075/1241793486.py:22: FutureWarning: \n",
      "\n",
      "Passing `palette` without assigning `hue` is deprecated and will be removed in v0.14.0. Assign the `y` variable to `hue` and set `legend=False` for the same effect.\n",
      "\n",
      "  bars = sns.barplot(\n",
      "/var/folders/g8/w52c85dx1fsgxg5681hppls80000gn/T/ipykernel_82075/1241793486.py:42: UserWarning: No artists with labels found to put in legend.  Note that artists whose label start with an underscore are ignored when legend() is called with no argument.\n",
      "  plt.legend()\n"
     ]
    },
    {
     "data": {
      "image/png": "[encoded data removed]",
      "text/plain": [
       "<Figure size 600x1200 with 2 Axes>"
      ]
     },
     "metadata": {},
     "output_type": "display_data"
    }
   ],
   "source": [
    "import matplotlib.pyplot as plt\n",
    "import seaborn as sns\n",
    "import matplotlib.cm as cm\n",
    "import matplotlib.colors as mcolors\n",
    "\n",
    "# Sort by ICC values (low to high)\n",
    "icc_fa_sorted = results_fa_df.sort_values(by=\"ICC(3,1)\", ascending=False)\n",
    "\n",
    "plt.rcParams['font.family'] = 'Arial'\n",
    "\n",
    "# manual colour mapping (range from 0 to 1 for ICC)\n",
    "norm = mcolors.Normalize(vmin=0, vmax=1)\n",
    "cmap = cm.get_cmap(\"Spectral\")\n",
    "colours = [cmap(norm(val)) for val in icc_fa_sorted['ICC(3,1)']]\n",
    "\n",
    "# # Plot\n",
    "# plt.figure(figsize=(6, 12))\n",
    "# sns.barplot(data=icc_fa_sorted, x=\"ICC_3_1\", y=\"Tract\", palette=colours)\n",
    "\n",
    "# plot\n",
    "fig, ax = plt.subplots(figsize=(6,12))\n",
    "bars = sns.barplot(\n",
    "    data=icc_fa_sorted,\n",
    "    y=\"Tract\",\n",
    "    x=\"ICC(3,1)\",\n",
    "    palette=colours,\n",
    "    ax=ax\n",
    ")\n",
    "# Add vertical colorbar\n",
    "sm = cm.ScalarMappable(cmap=cmap, norm=norm)\n",
    "sm.set_array([])  # Required for matplotlib < 3.1\n",
    "cbar = fig.colorbar(sm, ax=ax, orientation=\"vertical\")\n",
    "cbar.set_label(\"ICC(3,1)\", rotation=270, labelpad=15)\n",
    "\n",
    "# Format plot\n",
    "#plt.xticks(rotation=90, fontsize=10)  # rotate tract names\n",
    "plt.ylabel(\"Tract\")\n",
    "plt.xlabel(\"ICC(3,1)\")\n",
    "plt.title(\"ICC for FA measure\")\n",
    "plt.legend()\n",
    "\n",
    "##output_plt = os.path.join(output_dir, \"icc_plot_fd.svg\")\n",
    "\n",
    "plt.savefig(os.path.join(output_dir, \"icc_plot_fa_template1.svg\"), format=\"svg\", bbox_inches=\"tight\")\n",
    "\n",
    "plt.show()"
   ]
  },
  {
   "cell_type": "code",
   "execution_count": 78,
   "id": "fcf1cd4e",
   "metadata": {},
   "outputs": [],
   "source": [
    "icc_fa_sorted['hexcode'] = icc_fa_sorted['ICC(3,1)'].apply(lambda val: mcolors.to_hex(cmap(norm(val))))"
   ]
  },
  {
   "cell_type": "markdown",
   "id": "443b5e55",
   "metadata": {},
   "source": [
    "## **Tract-averaged ADC**"
   ]
  },
  {
   "cell_type": "markdown",
   "id": "72d72a1d",
   "metadata": {},
   "source": [
    "### Step 1: Compute means & CV"
   ]
  },
  {
   "cell_type": "code",
   "execution_count": 71,
   "id": "f61ae916",
   "metadata": {},
   "outputs": [],
   "source": [
    "cv_results_adc_df = []\n",
    "for tract in tract_adc_df_long['Tract'].unique():\n",
    "    subset = tract_adc_df_long[tract_adc_df_long['Tract'] == tract]\n",
    "    mean = subset['MD'].mean()\n",
    "    std = subset['MD'].std() \n",
    "    cv = std/mean*100\n",
    "    cv_results_adc_df.append({'Tract': tract, 'mean': mean, 'std': std, 'CV': cv})\n",
    "\n",
    "# Convert to DataFrame\n",
    "cv_adc_df = pd.DataFrame(cv_results_adc_df)"
   ]
  },
  {
   "cell_type": "markdown",
   "id": "21f16307",
   "metadata": {},
   "source": [
    "### Step 2: Compute ICC"
   ]
  },
  {
   "cell_type": "code",
   "execution_count": 72,
   "id": "ec20c6d9",
   "metadata": {},
   "outputs": [],
   "source": [
    "# Compute ICC(3,1) for each tract\n",
    "\n",
    "import pingouin as pg\n",
    "\n",
    "icc_results_adc_df = []\n",
    "for tract in tract_adc_df_long['Tract'].unique():\n",
    "    subset = tract_adc_df_long[tract_adc_df_long['Tract'] == tract]  \n",
    "    icc = pg.intraclass_corr(data=subset, targets='ID', raters='Site', ratings='MD')\n",
    "    icc_2_1 = icc[icc['Type'] == 'ICC2']['ICC'].values[0] \n",
    "    icc_3_1 = icc[icc['Type'] == 'ICC3']['ICC'].values[0]  # Extract ICC(3,1)\n",
    "    icc_3_pval = icc[icc['Type'] == 'ICC3']['pval'].values[0] # extract pval for ICC3\n",
    "    icc_results_adc_df.append({'Tract': tract, 'ICC(2,1)': icc_2_1, 'ICC(3,1)': icc_3_1, 'pval': icc_3_pval})\n",
    "\n",
    "# Convert to DataFrame\n",
    "icc_adc_df = pd.DataFrame(icc_results_adc_df)"
   ]
  },
  {
   "cell_type": "markdown",
   "id": "90cf4712",
   "metadata": {},
   "source": [
    "### Step 3: Combine results"
   ]
  },
  {
   "cell_type": "code",
   "execution_count": 73,
   "id": "1120253f",
   "metadata": {},
   "outputs": [],
   "source": [
    "results_adc_df = pd.merge(cv_adc_df, icc_adc_df, on=\"Tract\")\n",
    "results_adc_df['Tract'] = results_adc_df['Tract'].str.replace(\"_\", \" \")"
   ]
  },
  {
   "cell_type": "code",
   "execution_count": 74,
   "id": "6561d283",
   "metadata": {},
   "outputs": [
    {
     "data": {
      "application/vnd.microsoft.datawrangler.viewer.v0+json": {
       "columns": [
        {
         "name": "index",
         "rawType": "object",
         "type": "string"
        },
        {
         "name": "CV",
         "rawType": "float64",
         "type": "float"
        }
       ],
       "ref": "8b1e5580-d670-4b02-a057-2b4a5d336074",
       "rows": [
        [
         "min",
         "1.4369864403492993"
        ],
        [
         "max",
         "9.556331240062391"
        ]
       ],
       "shape": {
        "columns": 1,
        "rows": 2
       }
      },
      "text/plain": [
       "min    1.436986\n",
       "max    9.556331\n",
       "Name: CV, dtype: float64"
      ]
     },
     "execution_count": 74,
     "metadata": {},
     "output_type": "execute_result"
    }
   ],
   "source": [
    "results_adc_df['CV'].agg(['min', 'max'])"
   ]
  },
  {
   "cell_type": "code",
   "execution_count": 75,
   "id": "90e13729",
   "metadata": {},
   "outputs": [
    {
     "data": {
      "application/vnd.microsoft.datawrangler.viewer.v0+json": {
       "columns": [
        {
         "name": "index",
         "rawType": "object",
         "type": "string"
        },
        {
         "name": "ICC(3,1)",
         "rawType": "float64",
         "type": "float"
        }
       ],
       "ref": "ffd811ce-a535-4b3d-96c2-3d0728bd4eb3",
       "rows": [
        [
         "min",
         "0.4649290565157115"
        ],
        [
         "max",
         "0.9691861245357981"
        ]
       ],
       "shape": {
        "columns": 1,
        "rows": 2
       }
      },
      "text/plain": [
       "min    0.464929\n",
       "max    0.969186\n",
       "Name: ICC(3,1), dtype: float64"
      ]
     },
     "execution_count": 75,
     "metadata": {},
     "output_type": "execute_result"
    }
   ],
   "source": [
    "results_adc_df['ICC(3,1)'].agg(['min', 'max'])"
   ]
  },
  {
   "cell_type": "markdown",
   "id": "e8e28d4f",
   "metadata": {},
   "source": [
    "# **DTI metrics (group pipeline)**"
   ]
  },
  {
   "cell_type": "markdown",
   "id": "57889278",
   "metadata": {},
   "source": []
  }
 ],
 "metadata": {
  "kernelspec": {
   "display_name": "Python 3",
   "language": "python",
   "name": "python3"
  },
  "language_info": {
   "codemirror_mode": {
    "name": "ipython",
    "version": 3
   },
   "file_extension": ".py",
   "mimetype": "text/x-python",
   "name": "python",
   "nbconvert_exporter": "python",
   "pygments_lexer": "ipython3",
   "version": "3.9.13"
  }
 },
 "nbformat": 4,
 "nbformat_minor": 5
}
