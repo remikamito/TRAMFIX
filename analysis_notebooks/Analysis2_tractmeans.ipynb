{
 "cells": [
  {
   "cell_type": "markdown",
   "id": "bf693b1a",
   "metadata": {},
   "source": [
    "# **Analysis 2: Comparing tract-averaged means**"
   ]
  },
  {
   "cell_type": "markdown",
   "id": "9fbada69",
   "metadata": {},
   "source": [
    "*Date:* 27 May 2025\n",
    "\n",
    "*Description:* This notebook compares tract-averageed means for the Travelling Heads (TRAMFIX) dataset.\n",
    "\n",
    "There are 4 key analyses run here:\n",
    "1. Comparing tract-averaged means for FBA metrics (using site-specific pipeline)\n",
    "2. Comparing tract-averaged means for FBA metrics (using group pipeline)\n",
    "3. Comparing tract-averaged means for DTI metrics for comparison (using site-specific pipeline)\n",
    "4. Comparing tract-averaged means for DTI metrics for comparison (using group pipeline)"
   ]
  },
  {
   "cell_type": "markdown",
   "id": "9863a091",
   "metadata": {},
   "source": [
    "## **Set up: import & organise data**"
   ]
  },
  {
   "cell_type": "markdown",
   "id": "d1caba5b",
   "metadata": {},
   "source": [
    "### Step 1: Set up input & output dirs"
   ]
  },
  {
   "cell_type": "code",
   "execution_count": 10,
   "id": "0905ff10",
   "metadata": {},
   "outputs": [],
   "source": [
    "import pandas as pd\n",
    "import os\n",
    "\n",
    "## Input dir containing data\n",
    "input_dir = '/Users/remika/Library/CloudStorage/OneDrive-TheUniversityofMelbourne/RESEARCH_PROJECTS/DECRA/TravellingHeads/Data/Analysis2_tractmeans'\n",
    "\n",
    "## Output dir for plots\n",
    "output_dir = '/Users/remika/Library/CloudStorage/OneDrive-TheUniversityofMelbourne/RESEARCH_PROJECTS/DECRA/TravellingHeads/Data/plots'"
   ]
  },
  {
   "cell_type": "markdown",
   "id": "4c4bb948",
   "metadata": {},
   "source": [
    "### Step 2: Import data"
   ]
  },
  {
   "cell_type": "code",
   "execution_count": 11,
   "id": "4148b0a0",
   "metadata": {},
   "outputs": [],
   "source": [
    "## FD (DF1)\n",
    "input_dir = '/Users/remika/Library/CloudStorage/OneDrive-TheUniversityofMelbourne/RESEARCH_PROJECTS/DECRA/TravellingHeads/Data/Analysis2_tractmeans'\n",
    "tract_fd_df1 = os.path.join(input_dir, 'FD_tractmeans_RM.csv')\n",
    "tract_df1 = pd.read_csv(tract_fd_df1, sep=',')"
   ]
  },
  {
   "cell_type": "code",
   "execution_count": 7,
   "id": "ec0044e5",
   "metadata": {},
   "outputs": [],
   "source": [
    "## FC (DF2)\n",
    "tract_fc_df2 = os.path.join(input_dir, 'FC_tractmeans_RM.csv')\n",
    "tract_df2 = pd.read_csv(tract_fc_df2, sep=',')"
   ]
  },
  {
   "cell_type": "code",
   "execution_count": 8,
   "id": "ff1caeac",
   "metadata": {},
   "outputs": [],
   "source": [
    "## FDC (DF3)\n",
    "tract_fdc_df3 = os.path.join(input_dir, 'FDC_tractmeans_RM.csv')\n",
    "tract_df3 = pd.read_csv(tract_fdc_df3, sep=',')"
   ]
  },
  {
   "cell_type": "code",
   "execution_count": 19,
   "id": "10b67d6b",
   "metadata": {},
   "outputs": [],
   "source": [
    "## FA (DF_FA)\n",
    "tract_fa_dir = os.path.join(input_dir, 'FA_tractmeans_poptemp1.csv')\n",
    "tract_fa_df = pd.read_csv(tract_fa_dir, sep=',')"
   ]
  },
  {
   "cell_type": "code",
   "execution_count": 20,
   "id": "b8e1646a",
   "metadata": {},
   "outputs": [],
   "source": [
    "## ADC (DF_ADC)\n",
    "tract_adc_dir = os.path.join(input_dir, 'ADC_tractmeans_poptemp1.csv')\n",
    "tract_adc_df = pd.read_csv(tract_adc_dir, sep=',')"
   ]
  },
  {
   "cell_type": "code",
   "execution_count": 90,
   "id": "1990e211",
   "metadata": {},
   "outputs": [],
   "source": [
    "## FD (POP TEMP 2) - DF4\n",
    "tract_fd_df4 = os.path.join(input_dir, 'FD_tractmeans_poptemp2.csv')\n",
    "tract_df4 = pd.read_csv(tract_fd_df4, sep=',')"
   ]
  },
  {
   "cell_type": "code",
   "execution_count": 91,
   "id": "6b36197e",
   "metadata": {},
   "outputs": [],
   "source": [
    "## FC (POP TEMP 2) - DF5\n",
    "tract_fc_df5 = os.path.join(input_dir, 'FC_tractmeans_poptemp2.csv')\n",
    "tract_df5 = pd.read_csv(tract_fc_df5, sep=',')"
   ]
  },
  {
   "cell_type": "code",
   "execution_count": 92,
   "id": "5573f49f",
   "metadata": {},
   "outputs": [],
   "source": [
    "## FDC (POP TEMP 2) - DF6\n",
    "tract_fc_df6 = os.path.join(input_dir, 'FDC_tractmeans_poptemp2.csv')\n",
    "tract_df6 = pd.read_csv(tract_fc_df6, sep=',')"
   ]
  },
  {
   "cell_type": "markdown",
   "id": "8bc72655",
   "metadata": {},
   "source": [
    "### Step 3: Separate site & ID"
   ]
  },
  {
   "cell_type": "code",
   "execution_count": 12,
   "id": "eb01e8c7",
   "metadata": {},
   "outputs": [],
   "source": [
    "# Separate site & ID\n",
    "tract_df1[['ID', 'Site']] = tract_df1['ID'].str.split('_', expand=True)\n",
    "tract_df2[['ID', 'Site']] = tract_df2['ID'].str.split('_', expand=True)\n",
    "tract_df3[['ID', 'Site']] = tract_df3['ID'].str.split('_', expand=True)"
   ]
  },
  {
   "cell_type": "code",
   "execution_count": 21,
   "id": "0cd95a14",
   "metadata": {},
   "outputs": [],
   "source": [
    "# DTI measures\n",
    "tract_fa_df[['ID', 'Site']] = tract_fa_df['ID'].str.split('_', expand=True)\n",
    "tract_adc_df[['ID', 'Site']] = tract_adc_df['ID'].str.split('_', expand=True)"
   ]
  },
  {
   "cell_type": "code",
   "execution_count": 93,
   "id": "47e05291",
   "metadata": {},
   "outputs": [],
   "source": [
    "# POP TEMP 2\n",
    "tract_df4[['ID', 'Site']] = tract_df4['ID'].str.split('_', expand=True)\n",
    "tract_df5[['ID', 'Site']] = tract_df5['ID'].str.split('_', expand=True)\n",
    "tract_df6[['ID', 'Site']] = tract_df6['ID'].str.split('_', expand=True)"
   ]
  },
  {
   "cell_type": "markdown",
   "id": "ae1d30a3",
   "metadata": {},
   "source": [
    "### Step 4: Convert to long"
   ]
  },
  {
   "cell_type": "code",
   "execution_count": 13,
   "id": "26829c97",
   "metadata": {},
   "outputs": [],
   "source": [
    "# DF1\n",
    "tract_df1_long = tract_df1.melt(id_vars=['ID', 'Site'],\n",
    "                                  var_name=\"Tract\",\n",
    "                                  value_name='FD')"
   ]
  },
  {
   "cell_type": "code",
   "execution_count": 9,
   "id": "e9872f68",
   "metadata": {},
   "outputs": [],
   "source": [
    "# DF2\n",
    "tract_df2_long = tract_df2.melt(id_vars=['ID', 'Site'],\n",
    "                                  var_name=\"Tract\",\n",
    "                                  value_name='FC')"
   ]
  },
  {
   "cell_type": "code",
   "execution_count": 10,
   "id": "7d6e6e4a",
   "metadata": {},
   "outputs": [],
   "source": [
    "# DF3\n",
    "tract_df3_long = tract_df3.melt(id_vars=['ID', 'Site'],\n",
    "                                  var_name=\"Tract\",\n",
    "                                  value_name='FDC')"
   ]
  },
  {
   "cell_type": "code",
   "execution_count": 22,
   "id": "db51890b",
   "metadata": {},
   "outputs": [],
   "source": [
    "# DF FA\n",
    "tract_fa_df_long = tract_fa_df.melt(id_vars=['ID', 'Site'],\n",
    "                                  var_name=\"Tract\",\n",
    "                                  value_name='FA')"
   ]
  },
  {
   "cell_type": "code",
   "execution_count": 43,
   "id": "54297470",
   "metadata": {},
   "outputs": [],
   "source": [
    "# DF ADC\n",
    "tract_adc_df_long = tract_adc_df.melt(id_vars=['ID', 'Site'],\n",
    "                                  var_name=\"Tract\",\n",
    "                                  value_name='MD')"
   ]
  },
  {
   "cell_type": "code",
   "execution_count": 94,
   "id": "a9ff5a16",
   "metadata": {},
   "outputs": [],
   "source": [
    "# DF4\n",
    "tract_df4_long = tract_df4.melt(id_vars=['ID', 'Site'],\n",
    "                                  var_name=\"Tract\",\n",
    "                                  value_name='FD')"
   ]
  },
  {
   "cell_type": "code",
   "execution_count": 95,
   "id": "d9ad770d",
   "metadata": {},
   "outputs": [],
   "source": [
    "# DF5\n",
    "tract_df5_long = tract_df5.melt(id_vars=['ID', 'Site'],\n",
    "                                  var_name=\"Tract\",\n",
    "                                  value_name='FC')"
   ]
  },
  {
   "cell_type": "code",
   "execution_count": 96,
   "id": "8583cb1b",
   "metadata": {},
   "outputs": [],
   "source": [
    "# DF6\n",
    "tract_df6_long = tract_df6.melt(id_vars=['ID', 'Site'],\n",
    "                                  var_name=\"Tract\",\n",
    "                                  value_name='FDC')"
   ]
  },
  {
   "cell_type": "markdown",
   "id": "310f9f09",
   "metadata": {},
   "source": [
    "# **FBA metrics (site-specific pipeline)**"
   ]
  },
  {
   "cell_type": "markdown",
   "id": "30c558d4",
   "metadata": {},
   "source": [
    "## **Tract-averaged FD**"
   ]
  },
  {
   "cell_type": "markdown",
   "id": "f0cb6f05",
   "metadata": {},
   "source": [
    "### Step 1: Compute means & CV"
   ]
  },
  {
   "cell_type": "code",
   "execution_count": null,
   "id": "c6e91362",
   "metadata": {},
   "outputs": [
    {
     "name": "stdout",
     "output_type": "stream",
     "text": [
      "         ID          Site     Tract        FD\n",
      "2840  TH001  FloreyPrisma  UF_right  0.341841\n",
      "2841  TH001    FloreyVida  UF_right  0.329574\n",
      "2842  TH001           MBI  UF_right  0.332705\n",
      "2843  TH001           RCH  UF_right  0.334463\n"
     ]
    }
   ],
   "source": [
    "#subset = tract_df1_long[tract_df1_long['Tract'] == tract]\n",
    "print(subset[subset['ID'] == 'TH001'])"
   ]
  },
  {
   "cell_type": "code",
   "execution_count": 238,
   "id": "417e83aa",
   "metadata": {},
   "outputs": [
    {
     "name": "stdout",
     "output_type": "stream",
     "text": [
      "ID\n",
      "TH001    0.334646\n",
      "TH002    0.358246\n",
      "TH003    0.322031\n",
      "TH004    0.355328\n",
      "TH005    0.325037\n",
      "TH006    0.326266\n",
      "TH007    0.327916\n",
      "TH008    0.305939\n",
      "TH009    0.321109\n",
      "TH010    0.361668\n",
      "dtype: float64\n"
     ]
    }
   ],
   "source": [
    "pivot = subset.pivot_table(index='ID', columns='Site', values='FD')\n",
    "subject_means = pivot.mean(axis=1)\n",
    "print(subject_means)"
   ]
  },
  {
   "cell_type": "code",
   "execution_count": 14,
   "id": "c612ff72",
   "metadata": {},
   "outputs": [],
   "source": [
    "cv_results_df1 = []\n",
    "for tract in tract_df1_long['Tract'].unique():\n",
    "    subset = tract_df1_long[tract_df1_long['Tract'] == tract]\n",
    "    pivot = subset.pivot_table(index='ID', columns='Site', values='FD')\n",
    "\n",
    "    # compute within-subject CV\n",
    "    subject_means = pivot.mean(axis=1)\n",
    "    subject_stds = pivot.std(axis=1, ddof=1)\n",
    "    subject_var = pivot.var(axis=1)\n",
    "    #cvws_indiv = subject_stds / subject_means\n",
    "    #CVws = cvws_indiv.mean() * 100\n",
    "    cvws_squared_indiv = subject_var / (subject_means ** 2)\n",
    "    CVws = np.sqrt(cvws_squared_indiv.mean()) * 100\n",
    "\n",
    "    # compute between-subject CV\n",
    "    group_mean = subject_means.mean()\n",
    "    group_std = subject_means.std(ddof=1)\n",
    "    CVbs = (group_std / group_mean) * 100    \n",
    "\n",
    "    # global CV\n",
    "    mean = subset['FD'].mean()\n",
    "    std = subset['FD'].std() \n",
    "    cv = std/mean*100\n",
    "    cv_results_df1.append({'Tract': tract, 'mean': mean, 'std': std, \n",
    "                           'Global CV': cv,\n",
    "                           'CVws': CVws,\n",
    "                           'CVbs': CVbs})\n",
    "\n",
    "# Convert to DataFrame\n",
    "cv_df1 = pd.DataFrame(cv_results_df1)"
   ]
  },
  {
   "cell_type": "code",
   "execution_count": 263,
   "id": "a9d04812",
   "metadata": {},
   "outputs": [
    {
     "name": "stdout",
     "output_type": "stream",
     "text": [
      "           Tract      mean       std  Global CV      CVws      CVbs\n",
      "0        AF_left  0.354545  0.013915   3.924708  1.113328  3.955014\n",
      "1       AF_right  0.354725  0.014530   4.096090  1.169225  4.125456\n",
      "2       ATR_left  0.325250  0.012632   3.883849  2.001611  3.617996\n",
      "3      ATR_right  0.330127  0.016145   4.890427  1.484616  4.902864\n",
      "4             CA  0.341722  0.031677   9.269817  2.460869  9.376442\n",
      "..           ...       ...       ...        ...       ...       ...\n",
      "67  T_PREF_right  0.380896  0.017576   4.614259  1.277050  4.659466\n",
      "68   T_PREM_left  0.371895  0.017132   4.606777  1.927165  4.464221\n",
      "69  T_PREM_right  0.404963  0.017958   4.434360  2.037097  4.230594\n",
      "70       UF_left  0.346057  0.017366   5.018251  2.209294  4.809691\n",
      "71      UF_right  0.335296  0.018743   5.589980  2.118668  5.490878\n",
      "\n",
      "[72 rows x 6 columns]\n"
     ]
    }
   ],
   "source": [
    "print(cv_df1)"
   ]
  },
  {
   "cell_type": "markdown",
   "id": "c257fab2",
   "metadata": {},
   "source": [
    "### Step 2: Compute ICC"
   ]
  },
  {
   "cell_type": "code",
   "execution_count": 15,
   "id": "0355ce51",
   "metadata": {},
   "outputs": [],
   "source": [
    "# Compute ICC(3,1) for each tract\n",
    "\n",
    "import pingouin as pg\n",
    "\n",
    "icc_results_df1 = []\n",
    "for tract in tract_df1_long['Tract'].unique():\n",
    "    subset = tract_df1_long[tract_df1_long['Tract'] == tract]  \n",
    "    icc = pg.intraclass_corr(data=subset, targets='ID', raters='Site', ratings='FD')\n",
    "    icc_2_1 = icc[icc['Type'] == 'ICC2']['ICC'].values[0] \n",
    "    icc_3_1 = icc[icc['Type'] == 'ICC3']['ICC'].values[0]  # Extract ICC(3,1)\n",
    "    icc_3_pval = icc[icc['Type'] == 'ICC3']['pval'].values[0] # extract pval for ICC3\n",
    "    icc_results_df1.append({'Tract': tract, 'ICC(2,1)': icc_2_1, 'ICC(3,1)': icc_3_1, 'pval': icc_3_pval})\n",
    "\n",
    "# Convert to DataFrame\n",
    "icc_df1 = pd.DataFrame(icc_results_df1)"
   ]
  },
  {
   "cell_type": "code",
   "execution_count": 14,
   "id": "4ecdd65a",
   "metadata": {},
   "outputs": [
    {
     "name": "stdout",
     "output_type": "stream",
     "text": [
      "           Tract   ICC_3_1          pval\n",
      "0        AF_left  0.961612  1.907921e-18\n",
      "1       AF_right  0.965662  4.279073e-19\n",
      "2       ATR_left  0.865124  3.460696e-11\n",
      "3      ATR_right  0.958204  5.964297e-18\n",
      "4             CA  0.964435  6.852539e-19\n",
      "..           ...       ...           ...\n",
      "67  T_PREF_right  0.973446  1.356905e-20\n",
      "68   T_PREM_left  0.938860  9.646569e-16\n",
      "69  T_PREM_right  0.942172  4.586912e-16\n",
      "70       UF_left  0.930183  5.659781e-15\n",
      "71      UF_right  0.916422  6.196180e-14\n",
      "\n",
      "[72 rows x 3 columns]\n"
     ]
    }
   ],
   "source": [
    "print(icc_df1)"
   ]
  },
  {
   "cell_type": "markdown",
   "id": "cc0f4179",
   "metadata": {},
   "source": [
    "### Step 3: Combine results"
   ]
  },
  {
   "cell_type": "code",
   "execution_count": 16,
   "id": "be959748",
   "metadata": {},
   "outputs": [],
   "source": [
    "results_df1 = pd.merge(cv_df1, icc_df1, on=\"Tract\")\n",
    "results_df1['Tract'] = results_df1['Tract'].str.replace(\"_\", \" \")"
   ]
  },
  {
   "cell_type": "code",
   "execution_count": 265,
   "id": "165cdd01",
   "metadata": {},
   "outputs": [
    {
     "data": {
      "application/vnd.microsoft.datawrangler.viewer.v0+json": {
       "columns": [
        {
         "name": "index",
         "rawType": "object",
         "type": "string"
        },
        {
         "name": "CVws",
         "rawType": "float64",
         "type": "float"
        }
       ],
       "ref": "0e2b8654-3e5d-49ae-aef0-8c36fbeea2be",
       "rows": [
        [
         "min",
         "0.7383312444837018"
        ],
        [
         "max",
         "3.634300953601471"
        ]
       ],
       "shape": {
        "columns": 1,
        "rows": 2
       }
      },
      "text/plain": [
       "min    0.738331\n",
       "max    3.634301\n",
       "Name: CVws, dtype: float64"
      ]
     },
     "execution_count": 265,
     "metadata": {},
     "output_type": "execute_result"
    }
   ],
   "source": [
    "results_df1['CVws'].agg(['min', 'max'])"
   ]
  },
  {
   "cell_type": "code",
   "execution_count": 241,
   "id": "a94202b5",
   "metadata": {},
   "outputs": [
    {
     "data": {
      "application/vnd.microsoft.datawrangler.viewer.v0+json": {
       "columns": [
        {
         "name": "index",
         "rawType": "object",
         "type": "string"
        },
        {
         "name": "CV",
         "rawType": "float64",
         "type": "float"
        }
       ],
       "ref": "c71eb12b-3e04-42df-aebc-49836530f97e",
       "rows": [
        [
         "min",
         "2.286234856243128"
        ],
        [
         "max",
         "9.269816669189476"
        ]
       ],
       "shape": {
        "columns": 1,
        "rows": 2
       }
      },
      "text/plain": [
       "min    2.286235\n",
       "max    9.269817\n",
       "Name: CV, dtype: float64"
      ]
     },
     "execution_count": 241,
     "metadata": {},
     "output_type": "execute_result"
    }
   ],
   "source": [
    "results_df1['CV'].agg(['min', 'max'])"
   ]
  },
  {
   "cell_type": "code",
   "execution_count": null,
   "id": "afe3aa94",
   "metadata": {},
   "outputs": [
    {
     "data": {
      "application/vnd.microsoft.datawrangler.viewer.v0+json": {
       "columns": [
        {
         "name": "index",
         "rawType": "object",
         "type": "string"
        },
        {
         "name": "ICC_3_1",
         "rawType": "float64",
         "type": "float"
        }
       ],
       "ref": "14d3790c-276a-4f37-a130-3fc1cf661864",
       "rows": [
        [
         "min",
         "0.6523889890137397"
        ],
        [
         "max",
         "0.9803655147031278"
        ]
       ],
       "shape": {
        "columns": 1,
        "rows": 2
       }
      },
      "text/plain": [
       "min    0.652389\n",
       "max    0.980366\n",
       "Name: ICC_3_1, dtype: float64"
      ]
     },
     "execution_count": 18,
     "metadata": {},
     "output_type": "execute_result"
    }
   ],
   "source": [
    "results_df1['ICC(3,1)'].agg(['min', 'max'])"
   ]
  },
  {
   "cell_type": "code",
   "execution_count": 106,
   "id": "f04232cd",
   "metadata": {},
   "outputs": [
    {
     "data": {
      "text/plain": [
       "0.9372854220612474"
      ]
     },
     "execution_count": 106,
     "metadata": {},
     "output_type": "execute_result"
    }
   ],
   "source": [
    "results_df1['ICC(3,1)'].mean()"
   ]
  },
  {
   "cell_type": "code",
   "execution_count": 39,
   "id": "4b813530",
   "metadata": {},
   "outputs": [
    {
     "data": {
      "application/vnd.microsoft.datawrangler.viewer.v0+json": {
       "columns": [
        {
         "name": "index",
         "rawType": "object",
         "type": "string"
        },
        {
         "name": "ICC(2,1)",
         "rawType": "float64",
         "type": "float"
        }
       ],
       "ref": "c1673b29-3c79-4fa5-98ad-44169a1306cc",
       "rows": [
        [
         "min",
         "0.538301547671943"
        ],
        [
         "max",
         "0.9633517646049877"
        ]
       ],
       "shape": {
        "columns": 1,
        "rows": 2
       }
      },
      "text/plain": [
       "min    0.538302\n",
       "max    0.963352\n",
       "Name: ICC(2,1), dtype: float64"
      ]
     },
     "execution_count": 39,
     "metadata": {},
     "output_type": "execute_result"
    }
   ],
   "source": [
    "results_df1['ICC(2,1)'].agg(['min', 'max'])"
   ]
  },
  {
   "cell_type": "markdown",
   "id": "6862e4e7",
   "metadata": {},
   "source": [
    "### Step 4: Plot ICC"
   ]
  },
  {
   "cell_type": "code",
   "execution_count": 297,
   "id": "a4ff2f0f",
   "metadata": {},
   "outputs": [
    {
     "name": "stderr",
     "output_type": "stream",
     "text": [
      "/var/folders/g8/w52c85dx1fsgxg5681hppls80000gn/T/ipykernel_82075/2375716757.py:13: MatplotlibDeprecationWarning: The get_cmap function was deprecated in Matplotlib 3.7 and will be removed in 3.11. Use ``matplotlib.colormaps[name]`` or ``matplotlib.colormaps.get_cmap()`` or ``pyplot.get_cmap()`` instead.\n",
      "  cmap = cm.get_cmap(\"Spectral\")\n",
      "/var/folders/g8/w52c85dx1fsgxg5681hppls80000gn/T/ipykernel_82075/2375716757.py:25: FutureWarning: \n",
      "\n",
      "Passing `palette` without assigning `hue` is deprecated and will be removed in v0.14.0. Assign the `y` variable to `hue` and set `legend=False` for the same effect.\n",
      "\n",
      "  bars = sns.barplot(\n",
      "/var/folders/g8/w52c85dx1fsgxg5681hppls80000gn/T/ipykernel_82075/2375716757.py:45: UserWarning: No artists with labels found to put in legend.  Note that artists whose label start with an underscore are ignored when legend() is called with no argument.\n",
      "  plt.legend()\n"
     ]
    },
    {
     "data": {
      "image/png": "[encoded data removed]",
      "text/plain": [
       "<Figure size 600x1200 with 2 Axes>"
      ]
     },
     "metadata": {},
     "output_type": "display_data"
    }
   ],
   "source": [
    "import matplotlib.pyplot as plt\n",
    "import seaborn as sns\n",
    "import matplotlib.cm as cm\n",
    "import matplotlib.colors as mcolors\n",
    "\n",
    "# Sort by ICC values (low to high)\n",
    "icc_df1_sorted = results_df1.sort_values(by=\"ICC(3,1)\", ascending=False)\n",
    "\n",
    "plt.rcParams['font.family'] = 'Arial'\n",
    "\n",
    "# manual colour mapping (range from 0 to 1 for ICC)\n",
    "norm = mcolors.Normalize(vmin=results_fa_df['ICC(3,1)'].min(), vmax=1)\n",
    "cmap = cm.get_cmap(\"Spectral\")\n",
    "# or using rocket without mapping\n",
    "# norm = mcolors.Normalize(vmin=results_df1['ICC_3_1'].min(), vmax=results_df1['ICC_3_1'].max())\n",
    "# cmap = cm.get_cmap(\"rocket\")\n",
    "colours = [cmap(norm(val)) for val in icc_df1_sorted['ICC(3,1)']]\n",
    "\n",
    "# # Plot\n",
    "# plt.figure(figsize=(6, 12))\n",
    "# sns.barplot(data=icc_df1_sorted, x=\"ICC_3_1\", y=\"Tract\", palette=colours)\n",
    "\n",
    "# plot\n",
    "fig, ax = plt.subplots(figsize=(6,12))\n",
    "bars = sns.barplot(\n",
    "    data=icc_df1_sorted,\n",
    "    y=\"Tract\",\n",
    "    x=\"ICC(3,1)\",\n",
    "    palette=colours,\n",
    "    ax=ax\n",
    ")\n",
    "# Add vertical colorbar\n",
    "sm = cm.ScalarMappable(cmap=cmap, norm=norm)\n",
    "sm.set_array([])  # Required for matplotlib < 3.1\n",
    "cbar = fig.colorbar(sm, ax=ax, orientation=\"vertical\")\n",
    "cbar.set_label(\"ICC(3,1)\", rotation=270, labelpad=15)\n",
    "\n",
    "# Format plot\n",
    "#plt.xticks(rotation=90, fontsize=10)  # Rotate measure names for visibility\n",
    "plt.ylabel(\"Tract\")\n",
    "plt.xlabel(\"ICC(3,1)\")\n",
    "plt.title(\"ICC for FD measure\")\n",
    "#plt.axhline(y=0.75, color='g', linestyle='--', label=\"Excellent Agreement (0.75)\")\n",
    "#plt.axhline(y=0.40, color='r', linestyle='--', label=\"Poor Agreement (0.40)\")\n",
    "plt.legend()\n",
    "\n",
    "##output_plt = os.path.join(output_dir, \"icc_plot_fd.svg\")\n",
    "\n",
    "#plt.savefig(os.path.join(output_dir, \"icc_plot_fd_template1_spectral.svg\"), format=\"svg\", bbox_inches=\"tight\")\n",
    "\n",
    "plt.show()"
   ]
  },
  {
   "cell_type": "code",
   "execution_count": 87,
   "id": "9a746ac6",
   "metadata": {},
   "outputs": [],
   "source": [
    "icc_df1_sorted['hexcode'] = icc_df1_sorted['ICC(3,1)'].apply(lambda val: mcolors.to_hex(cmap(norm(val))))"
   ]
  },
  {
   "cell_type": "markdown",
   "id": "c4c5b1a3",
   "metadata": {},
   "source": [
    "## **Tract-averaged FC**"
   ]
  },
  {
   "cell_type": "markdown",
   "id": "f10c2170",
   "metadata": {},
   "source": [
    "### Step 1: Compute means & CV"
   ]
  },
  {
   "cell_type": "code",
   "execution_count": 266,
   "id": "db542e50",
   "metadata": {},
   "outputs": [],
   "source": [
    "cv_results_df2 = []\n",
    "for tract in tract_df2_long['Tract'].unique():\n",
    "    subset = tract_df2_long[tract_df2_long['Tract'] == tract]\n",
    "    pivot = subset.pivot_table(index='ID', columns='Site', values='FC')\n",
    "\n",
    "    # compute within-subject CV\n",
    "    subject_means = pivot.mean(axis=1)\n",
    "    subject_stds = pivot.std(axis=1, ddof=1)\n",
    "    subject_var = pivot.var(axis=1)\n",
    "    #cvws_indiv = subject_stds / subject_means\n",
    "    #CVws = cvws_indiv.mean() * 100\n",
    "    cvws_squared_indiv = subject_var / (subject_means ** 2)\n",
    "    CVws = np.sqrt(cvws_squared_indiv.mean()) * 100\n",
    "\n",
    "    # compute between-subject CV\n",
    "    group_mean = subject_means.mean()\n",
    "    group_std = subject_means.std(ddof=1)\n",
    "    CVbs = (group_std / group_mean) * 100\n",
    "\n",
    "    # global means    \n",
    "    mean = subset['FC'].mean()\n",
    "    std = subset['FC'].std() \n",
    "    cv = std/mean*100\n",
    "    cv_results_df2.append({'Tract': tract, 'mean': mean, 'std': std, \n",
    "                           'Global CV': cv,\n",
    "                           'CVws': CVws,\n",
    "                           'CVbs': CVbs})\n",
    "\n",
    "# Convert to DataFrame\n",
    "cv_df2 = pd.DataFrame(cv_results_df2)"
   ]
  },
  {
   "cell_type": "markdown",
   "id": "e8841e38",
   "metadata": {},
   "source": [
    "### Step 2: Compute ICC"
   ]
  },
  {
   "cell_type": "code",
   "execution_count": 24,
   "id": "e7a0ccff",
   "metadata": {},
   "outputs": [],
   "source": [
    "icc_results_df2 = []\n",
    "for tract in tract_df2_long['Tract'].unique():\n",
    "    subset = tract_df2_long[tract_df2_long['Tract'] == tract]  \n",
    "    icc = pg.intraclass_corr(data=subset, targets='ID', raters='Site', ratings='FC')\n",
    "    icc_2_1 = icc[icc['Type'] == 'ICC2']['ICC'].values[0] \n",
    "    icc_3_1 = icc[icc['Type'] == 'ICC3']['ICC'].values[0]  # Extract ICC(3,1)\n",
    "    icc_3_pval = icc[icc['Type'] == 'ICC3']['pval'].values[0] # extract pval for ICC3\n",
    "    icc_results_df2.append({'Tract': tract, 'ICC(2,1)': icc_2_1, 'ICC(3,1)': icc_3_1, 'pval': icc_3_pval})\n",
    "\n",
    "# Convert to DataFrame\n",
    "icc_df2 = pd.DataFrame(icc_results_df2)"
   ]
  },
  {
   "cell_type": "markdown",
   "id": "4abb3cf3",
   "metadata": {},
   "source": [
    "### Step 3: Combine results"
   ]
  },
  {
   "cell_type": "code",
   "execution_count": 267,
   "id": "ac663131",
   "metadata": {},
   "outputs": [],
   "source": [
    "results_df2 = pd.merge(cv_df2, icc_df2, on=\"Tract\")\n",
    "results_df2['Tract'] = results_df2['Tract'].str.replace(\"_\", \" \")"
   ]
  },
  {
   "cell_type": "code",
   "execution_count": 268,
   "id": "eb05596e",
   "metadata": {},
   "outputs": [
    {
     "data": {
      "application/vnd.microsoft.datawrangler.viewer.v0+json": {
       "columns": [
        {
         "name": "index",
         "rawType": "object",
         "type": "string"
        },
        {
         "name": "CVws",
         "rawType": "float64",
         "type": "float"
        }
       ],
       "ref": "1ec889c6-9217-44b5-b1fb-0cc4a0ead023",
       "rows": [
        [
         "min",
         "0.5388136402167514"
        ],
        [
         "max",
         "1.8707033287986299"
        ]
       ],
       "shape": {
        "columns": 1,
        "rows": 2
       }
      },
      "text/plain": [
       "min    0.538814\n",
       "max    1.870703\n",
       "Name: CVws, dtype: float64"
      ]
     },
     "execution_count": 268,
     "metadata": {},
     "output_type": "execute_result"
    }
   ],
   "source": [
    "results_df2['CVws'].agg(['min', 'max'])"
   ]
  },
  {
   "cell_type": "code",
   "execution_count": 26,
   "id": "3649c02e",
   "metadata": {},
   "outputs": [
    {
     "data": {
      "application/vnd.microsoft.datawrangler.viewer.v0+json": {
       "columns": [
        {
         "name": "index",
         "rawType": "object",
         "type": "string"
        },
        {
         "name": "CV",
         "rawType": "float64",
         "type": "float"
        }
       ],
       "ref": "22dc4bc4-7973-4fc7-b703-bc049b3fd17a",
       "rows": [
        [
         "min",
         "5.310129011234124"
        ],
        [
         "max",
         "10.907569279565593"
        ]
       ],
       "shape": {
        "columns": 1,
        "rows": 2
       }
      },
      "text/plain": [
       "min     5.310129\n",
       "max    10.907569\n",
       "Name: CV, dtype: float64"
      ]
     },
     "execution_count": 26,
     "metadata": {},
     "output_type": "execute_result"
    }
   ],
   "source": [
    "results_df2['CV'].agg(['min', 'max'])"
   ]
  },
  {
   "cell_type": "code",
   "execution_count": 28,
   "id": "8bd2f719",
   "metadata": {},
   "outputs": [
    {
     "data": {
      "application/vnd.microsoft.datawrangler.viewer.v0+json": {
       "columns": [
        {
         "name": "index",
         "rawType": "object",
         "type": "string"
        },
        {
         "name": "ICC(3,1)",
         "rawType": "float64",
         "type": "float"
        }
       ],
       "ref": "554327aa-4127-499d-bc1d-fd689727439f",
       "rows": [
        [
         "min",
         "0.9657924250769533"
        ],
        [
         "max",
         "0.9982992485720608"
        ]
       ],
       "shape": {
        "columns": 1,
        "rows": 2
       }
      },
      "text/plain": [
       "min    0.965792\n",
       "max    0.998299\n",
       "Name: ICC(3,1), dtype: float64"
      ]
     },
     "execution_count": 28,
     "metadata": {},
     "output_type": "execute_result"
    }
   ],
   "source": [
    "results_df2['ICC(3,1)'].agg(['min', 'max'])"
   ]
  },
  {
   "cell_type": "markdown",
   "id": "680c8b49",
   "metadata": {},
   "source": []
  },
  {
   "cell_type": "markdown",
   "id": "5d5d34a9",
   "metadata": {},
   "source": [
    "## **Tract-averaged FDC**"
   ]
  },
  {
   "cell_type": "markdown",
   "id": "d815d0ac",
   "metadata": {},
   "source": [
    "### Step 1: Compute means & CV"
   ]
  },
  {
   "cell_type": "code",
   "execution_count": 269,
   "id": "63904ca7",
   "metadata": {},
   "outputs": [],
   "source": [
    "cv_results_df3 = []\n",
    "for tract in tract_df3_long['Tract'].unique():\n",
    "    subset = tract_df3_long[tract_df3_long['Tract'] == tract]\n",
    "    pivot = subset.pivot_table(index='ID', columns='Site', values='FDC')\n",
    "\n",
    "    # compute within-subject CV\n",
    "    subject_means = pivot.mean(axis=1)\n",
    "    subject_stds = pivot.std(axis=1, ddof=1)\n",
    "    subject_var = pivot.var(axis=1)\n",
    "    #cvws_indiv = subject_stds / subject_means\n",
    "    #CVws = cvws_indiv.mean() * 100\n",
    "    cvws_squared_indiv = subject_var / (subject_means ** 2)\n",
    "    CVws = np.sqrt(cvws_squared_indiv.mean()) * 100\n",
    "\n",
    "    # compute between-subject CV\n",
    "    group_mean = subject_means.mean()\n",
    "    group_std = subject_means.std(ddof=1)\n",
    "    CVbs = (group_std / group_mean) * 100\n",
    "\n",
    "    # global mean\n",
    "    mean = subset['FDC'].mean()\n",
    "    std = subset['FDC'].std() \n",
    "    cv = std/mean*100\n",
    "    cv_results_df3.append({'Tract': tract, 'mean': mean, 'std': std, \n",
    "                           'Global CV': cv,\n",
    "                           'CVws': CVws,\n",
    "                           'CVbs': CVbs})\n",
    "# Convert to DataFrame\n",
    "cv_df3 = pd.DataFrame(cv_results_df3)"
   ]
  },
  {
   "cell_type": "markdown",
   "id": "396dba70",
   "metadata": {},
   "source": [
    "### Step 2: Compute ICC"
   ]
  },
  {
   "cell_type": "code",
   "execution_count": 34,
   "id": "99d53086",
   "metadata": {},
   "outputs": [],
   "source": [
    "icc_results_df3 = []\n",
    "for tract in tract_df3_long['Tract'].unique():\n",
    "    subset = tract_df3_long[tract_df3_long['Tract'] == tract]  \n",
    "    icc = pg.intraclass_corr(data=subset, targets='ID', raters='Site', ratings='FDC')\n",
    "    icc_2_1 = icc[icc['Type'] == 'ICC2']['ICC'].values[0] \n",
    "    icc_3_1 = icc[icc['Type'] == 'ICC3']['ICC'].values[0]  # Extract ICC(3,1)\n",
    "    icc_3_pval = icc[icc['Type'] == 'ICC3']['pval'].values[0] # extract pval for ICC3\n",
    "    icc_results_df3.append({'Tract': tract, 'ICC(2,1)': icc_2_1, 'ICC(3,1)': icc_3_1, 'pval': icc_3_pval})\n",
    "\n",
    "# Convert to DataFrame\n",
    "icc_df3 = pd.DataFrame(icc_results_df3)"
   ]
  },
  {
   "cell_type": "markdown",
   "id": "28a12501",
   "metadata": {},
   "source": [
    "### Step 3: Combine results"
   ]
  },
  {
   "cell_type": "code",
   "execution_count": 270,
   "id": "61f6c7a9",
   "metadata": {},
   "outputs": [],
   "source": [
    "results_df3 = pd.merge(cv_df3, icc_df3, on=\"Tract\")\n",
    "results_df3['Tract'] = results_df3['Tract'].str.replace(\"_\", \" \")"
   ]
  },
  {
   "cell_type": "code",
   "execution_count": 271,
   "id": "abe1958f",
   "metadata": {},
   "outputs": [
    {
     "data": {
      "application/vnd.microsoft.datawrangler.viewer.v0+json": {
       "columns": [
        {
         "name": "index",
         "rawType": "object",
         "type": "string"
        },
        {
         "name": "CVws",
         "rawType": "float64",
         "type": "float"
        }
       ],
       "ref": "33dd0678-6b1b-483d-ada7-5a06a9b9a1ef",
       "rows": [
        [
         "min",
         "1.231935902028906"
        ],
        [
         "max",
         "5.028823685475956"
        ]
       ],
       "shape": {
        "columns": 1,
        "rows": 2
       }
      },
      "text/plain": [
       "min    1.231936\n",
       "max    5.028824\n",
       "Name: CVws, dtype: float64"
      ]
     },
     "execution_count": 271,
     "metadata": {},
     "output_type": "execute_result"
    }
   ],
   "source": [
    "results_df3['CVws'].agg(['min', 'max'])"
   ]
  },
  {
   "cell_type": "code",
   "execution_count": 36,
   "id": "def30f0a",
   "metadata": {},
   "outputs": [
    {
     "data": {
      "application/vnd.microsoft.datawrangler.viewer.v0+json": {
       "columns": [
        {
         "name": "index",
         "rawType": "object",
         "type": "string"
        },
        {
         "name": "CV",
         "rawType": "float64",
         "type": "float"
        }
       ],
       "ref": "0fe7b7c0-a2c3-45a8-a333-1463441a5ab8",
       "rows": [
        [
         "min",
         "6.409880743678325"
        ],
        [
         "max",
         "18.118527698281017"
        ]
       ],
       "shape": {
        "columns": 1,
        "rows": 2
       }
      },
      "text/plain": [
       "min     6.409881\n",
       "max    18.118528\n",
       "Name: CV, dtype: float64"
      ]
     },
     "execution_count": 36,
     "metadata": {},
     "output_type": "execute_result"
    }
   ],
   "source": [
    "results_df3['CV'].agg(['min', 'max'])"
   ]
  },
  {
   "cell_type": "code",
   "execution_count": 38,
   "id": "148e0e46",
   "metadata": {},
   "outputs": [
    {
     "data": {
      "application/vnd.microsoft.datawrangler.viewer.v0+json": {
       "columns": [
        {
         "name": "index",
         "rawType": "object",
         "type": "string"
        },
        {
         "name": "ICC(3,1)",
         "rawType": "float64",
         "type": "float"
        }
       ],
       "ref": "9e1e2b87-c14e-4afa-a23c-413b3feddcb4",
       "rows": [
        [
         "min",
         "0.9157763880681739"
        ],
        [
         "max",
         "0.9945033405266764"
        ]
       ],
       "shape": {
        "columns": 1,
        "rows": 2
       }
      },
      "text/plain": [
       "min    0.915776\n",
       "max    0.994503\n",
       "Name: ICC(3,1), dtype: float64"
      ]
     },
     "execution_count": 38,
     "metadata": {},
     "output_type": "execute_result"
    }
   ],
   "source": [
    "results_df3['ICC(3,1)'].agg(['min', 'max'])"
   ]
  },
  {
   "cell_type": "markdown",
   "id": "1b24d34c",
   "metadata": {},
   "source": [
    "# **FBA metrics (group pipeline)**"
   ]
  },
  {
   "cell_type": "markdown",
   "id": "aba37896",
   "metadata": {},
   "source": [
    "## **Tract-averaged FD**"
   ]
  },
  {
   "cell_type": "markdown",
   "id": "76370e2f",
   "metadata": {},
   "source": [
    "### Step 1: Compute means & CV"
   ]
  },
  {
   "cell_type": "code",
   "execution_count": 283,
   "id": "ee2f457b",
   "metadata": {},
   "outputs": [],
   "source": [
    "cv_results_df4 = []\n",
    "for tract in tract_df4_long['Tract'].unique():\n",
    "    subset = tract_df4_long[tract_df4_long['Tract'] == tract]\n",
    "    pivot = subset.pivot_table(index='ID', columns='Site', values='FD')\n",
    "\n",
    "    # global CV\n",
    "    mean = subset['FD'].mean()\n",
    "    std = subset['FD'].std() \n",
    "    cv = std/mean*100\n",
    "\n",
    "    # compute within-subject CV\n",
    "    subject_means = pivot.mean(axis=1)\n",
    "    subject_stds = pivot.std(axis=1, ddof=1)\n",
    "    subject_var = pivot.var(axis=1)\n",
    "    #cvws_indiv = subject_stds / subject_means\n",
    "    #CVws = cvws_indiv.mean() * 100\n",
    "    cvws_squared_indiv = subject_var / (subject_means ** 2)\n",
    "    CVws = np.sqrt(cvws_squared_indiv.mean()) * 100\n",
    "\n",
    "    # compute between-subject CV\n",
    "    group_mean = subject_means.mean()\n",
    "    group_std = subject_means.std(ddof=1)\n",
    "    CVbs = (group_std / group_mean) * 100    \n",
    "\n",
    "    cv_results_df4.append({'Tract': tract, 'mean': mean, 'std': std, \n",
    "                           'Global CV': cv,\n",
    "                           'CVws': CVws,\n",
    "                           'CVbs': CVbs})\n",
    "\n",
    "    #cv_results_df4.append({'Tract': tract, 'mean': mean, 'std': std, 'CV': cv})\n",
    "\n",
    "# Convert to DataFrame\n",
    "cv_df4 = pd.DataFrame(cv_results_df4)"
   ]
  },
  {
   "cell_type": "code",
   "execution_count": 284,
   "id": "37739264",
   "metadata": {},
   "outputs": [
    {
     "name": "stdout",
     "output_type": "stream",
     "text": [
      "           Tract      mean       std  Global CV      CVws      CVbs\n",
      "0        AF_left  0.353252  0.012999   3.679688  0.953238  3.730798\n",
      "1       AF_right  0.355065  0.014705   4.141473  0.925474  4.224194\n",
      "2       ATR_left  0.325800  0.012359   3.793386  1.967469  3.532099\n",
      "3      ATR_right  0.331275  0.016395   4.949119  1.455142  4.973832\n",
      "4             CA  0.343192  0.031724   9.243936  2.181095  9.412394\n",
      "..           ...       ...       ...        ...       ...       ...\n",
      "67  T_PREF_right  0.380918  0.017617   4.624982  1.338394  4.655818\n",
      "68   T_PREM_left  0.369115  0.017229   4.667731  2.025256  4.498351\n",
      "69  T_PREM_right  0.403119  0.018180   4.509938  2.167291  4.264641\n",
      "70       UF_left  0.346240  0.017613   5.086899  1.989884  4.965039\n",
      "71      UF_right  0.333819  0.018815   5.636168  2.115256  5.543857\n",
      "\n",
      "[72 rows x 6 columns]\n"
     ]
    }
   ],
   "source": [
    "print(cv_df4)"
   ]
  },
  {
   "cell_type": "code",
   "execution_count": null,
   "id": "c7548ce6",
   "metadata": {},
   "outputs": [],
   "source": []
  },
  {
   "cell_type": "markdown",
   "id": "871d5995",
   "metadata": {},
   "source": [
    "### Step 2: Compute ICC"
   ]
  },
  {
   "cell_type": "code",
   "execution_count": 99,
   "id": "875bed3e",
   "metadata": {},
   "outputs": [],
   "source": [
    "# Compute ICC(3,1) for each tract\n",
    "\n",
    "icc_results_df4 = []\n",
    "for tract in tract_df4_long['Tract'].unique():\n",
    "    subset = tract_df4_long[tract_df4_long['Tract'] == tract]  \n",
    "    icc = pg.intraclass_corr(data=subset, targets='ID', raters='Site', ratings='FD')\n",
    "    icc_2_1 = icc[icc['Type'] == 'ICC2']['ICC'].values[0] \n",
    "    icc_3_1 = icc[icc['Type'] == 'ICC3']['ICC'].values[0]  # Extract ICC(3,1)\n",
    "    icc_3_pval = icc[icc['Type'] == 'ICC3']['pval'].values[0] # extract pval for ICC3\n",
    "    icc_results_df4.append({'Tract': tract, 'ICC(2,1)': icc_2_1, 'ICC(3,1)': icc_3_1, 'pval': icc_3_pval})\n",
    "\n",
    "# Convert to DataFrame\n",
    "icc_df4 = pd.DataFrame(icc_results_df4)"
   ]
  },
  {
   "cell_type": "markdown",
   "id": "89b70c97",
   "metadata": {},
   "source": [
    "### Step 3: Combine results"
   ]
  },
  {
   "cell_type": "code",
   "execution_count": 285,
   "id": "010c37a0",
   "metadata": {},
   "outputs": [],
   "source": [
    "results_df4 = pd.merge(cv_df4, icc_df4, on=\"Tract\")\n",
    "results_df4['Tract'] = results_df4['Tract'].str.replace(\"_\", \" \")"
   ]
  },
  {
   "cell_type": "code",
   "execution_count": 286,
   "id": "7915c37a",
   "metadata": {},
   "outputs": [
    {
     "data": {
      "application/vnd.microsoft.datawrangler.viewer.v0+json": {
       "columns": [
        {
         "name": "index",
         "rawType": "object",
         "type": "string"
        },
        {
         "name": "CVws",
         "rawType": "float64",
         "type": "float"
        }
       ],
       "ref": "307c8e86-6130-43c7-8e72-6dfcc079fed5",
       "rows": [
        [
         "min",
         "0.7825657950283063"
        ],
        [
         "max",
         "4.01454538010028"
        ]
       ],
       "shape": {
        "columns": 1,
        "rows": 2
       }
      },
      "text/plain": [
       "min    0.782566\n",
       "max    4.014545\n",
       "Name: CVws, dtype: float64"
      ]
     },
     "execution_count": 286,
     "metadata": {},
     "output_type": "execute_result"
    }
   ],
   "source": [
    "results_df4['CVws'].agg(['min', 'max'])"
   ]
  },
  {
   "cell_type": "code",
   "execution_count": 101,
   "id": "7b01b28e",
   "metadata": {},
   "outputs": [
    {
     "data": {
      "application/vnd.microsoft.datawrangler.viewer.v0+json": {
       "columns": [
        {
         "name": "index",
         "rawType": "object",
         "type": "string"
        },
        {
         "name": "CV",
         "rawType": "float64",
         "type": "float"
        }
       ],
       "ref": "fd482035-ad27-4d5c-8b9a-659bb3771215",
       "rows": [
        [
         "min",
         "2.3344858393536967"
        ],
        [
         "max",
         "9.2439362643871"
        ]
       ],
       "shape": {
        "columns": 1,
        "rows": 2
       }
      },
      "text/plain": [
       "min    2.334486\n",
       "max    9.243936\n",
       "Name: CV, dtype: float64"
      ]
     },
     "execution_count": 101,
     "metadata": {},
     "output_type": "execute_result"
    }
   ],
   "source": [
    "results_df4['CV'].agg(['min', 'max'])"
   ]
  },
  {
   "cell_type": "code",
   "execution_count": null,
   "id": "3be2605f",
   "metadata": {},
   "outputs": [
    {
     "data": {
      "application/vnd.microsoft.datawrangler.viewer.v0+json": {
       "columns": [
        {
         "name": "index",
         "rawType": "object",
         "type": "string"
        },
        {
         "name": "ICC(3,1)",
         "rawType": "float64",
         "type": "float"
        }
       ],
       "ref": "f98e01be-9d27-4c01-bfbd-2a8742365ddc",
       "rows": [
        [
         "min",
         "0.6327291075584079"
        ],
        [
         "max",
         "0.9801555130638615"
        ]
       ],
       "shape": {
        "columns": 1,
        "rows": 2
       }
      },
      "text/plain": [
       "min    0.632729\n",
       "max    0.980156\n",
       "Name: ICC(3,1), dtype: float64"
      ]
     },
     "execution_count": 102,
     "metadata": {},
     "output_type": "execute_result"
    }
   ],
   "source": [
    "results_df4['ICC(3,1)'].agg(['min', 'max'])"
   ]
  },
  {
   "cell_type": "code",
   "execution_count": 105,
   "id": "e5d2e805",
   "metadata": {},
   "outputs": [
    {
     "data": {
      "text/plain": [
       "0.9365526054704881"
      ]
     },
     "execution_count": 105,
     "metadata": {},
     "output_type": "execute_result"
    }
   ],
   "source": [
    "results_df4['ICC(3,1)'].mean()"
   ]
  },
  {
   "cell_type": "code",
   "execution_count": 103,
   "id": "71a73dd9",
   "metadata": {},
   "outputs": [
    {
     "data": {
      "application/vnd.microsoft.datawrangler.viewer.v0+json": {
       "columns": [
        {
         "name": "index",
         "rawType": "object",
         "type": "string"
        },
        {
         "name": "ICC(2,1)",
         "rawType": "float64",
         "type": "float"
        }
       ],
       "ref": "975a4d61-5dc3-4335-b4a0-63cd610b991e",
       "rows": [
        [
         "min",
         "0.4879647772362059"
        ],
        [
         "max",
         "0.9728350087977234"
        ]
       ],
       "shape": {
        "columns": 1,
        "rows": 2
       }
      },
      "text/plain": [
       "min    0.487965\n",
       "max    0.972835\n",
       "Name: ICC(2,1), dtype: float64"
      ]
     },
     "execution_count": 103,
     "metadata": {},
     "output_type": "execute_result"
    }
   ],
   "source": [
    "results_df4['ICC(2,1)'].agg(['min', 'max'])"
   ]
  },
  {
   "cell_type": "markdown",
   "id": "679bdccd",
   "metadata": {},
   "source": [
    "### Step 4: Plot ICC"
   ]
  },
  {
   "cell_type": "code",
   "execution_count": 107,
   "id": "2ead9800",
   "metadata": {},
   "outputs": [
    {
     "name": "stderr",
     "output_type": "stream",
     "text": [
      "/var/folders/g8/w52c85dx1fsgxg5681hppls80000gn/T/ipykernel_82075/3045460587.py:13: MatplotlibDeprecationWarning: The get_cmap function was deprecated in Matplotlib 3.7 and will be removed in 3.11. Use ``matplotlib.colormaps[name]`` or ``matplotlib.colormaps.get_cmap()`` or ``pyplot.get_cmap()`` instead.\n",
      "  cmap = cm.get_cmap(\"Spectral\")\n",
      "/var/folders/g8/w52c85dx1fsgxg5681hppls80000gn/T/ipykernel_82075/3045460587.py:25: FutureWarning: \n",
      "\n",
      "Passing `palette` without assigning `hue` is deprecated and will be removed in v0.14.0. Assign the `y` variable to `hue` and set `legend=False` for the same effect.\n",
      "\n",
      "  bars = sns.barplot(\n",
      "/var/folders/g8/w52c85dx1fsgxg5681hppls80000gn/T/ipykernel_82075/3045460587.py:45: UserWarning: No artists with labels found to put in legend.  Note that artists whose label start with an underscore are ignored when legend() is called with no argument.\n",
      "  plt.legend()\n"
     ]
    },
    {
     "data": {
      "image/png": "[encoded data removed]",
      "text/plain": [
       "<Figure size 600x1200 with 2 Axes>"
      ]
     },
     "metadata": {},
     "output_type": "display_data"
    }
   ],
   "source": [
    "import matplotlib.pyplot as plt\n",
    "import seaborn as sns\n",
    "import matplotlib.cm as cm\n",
    "import matplotlib.colors as mcolors\n",
    "\n",
    "# Sort by ICC values (low to high)\n",
    "icc_df4_sorted = results_df4.sort_values(by=\"ICC(3,1)\", ascending=False)\n",
    "\n",
    "plt.rcParams['font.family'] = 'Arial'\n",
    "\n",
    "# manual colour mapping (range from 0 to 1 for ICC)\n",
    "norm = mcolors.Normalize(vmin=results_fa_df['ICC(3,1)'].min(), vmax=1)\n",
    "cmap = cm.get_cmap(\"Spectral\")\n",
    "# or using rocket without mapping\n",
    "# norm = mcolors.Normalize(vmin=results_df1['ICC_3_1'].min(), vmax=results_df1['ICC_3_1'].max())\n",
    "# cmap = cm.get_cmap(\"rocket\")\n",
    "colours = [cmap(norm(val)) for val in icc_df4_sorted['ICC(3,1)']]\n",
    "\n",
    "# # Plot\n",
    "# plt.figure(figsize=(6, 12))\n",
    "# sns.barplot(data=icc_df1_sorted, x=\"ICC_3_1\", y=\"Tract\", palette=colours)\n",
    "\n",
    "# plot\n",
    "fig, ax = plt.subplots(figsize=(6,12))\n",
    "bars = sns.barplot(\n",
    "    data=icc_df4_sorted,\n",
    "    y=\"Tract\",\n",
    "    x=\"ICC(3,1)\",\n",
    "    palette=colours,\n",
    "    ax=ax\n",
    ")\n",
    "# Add vertical colorbar\n",
    "sm = cm.ScalarMappable(cmap=cmap, norm=norm)\n",
    "sm.set_array([])  # Required for matplotlib < 3.1\n",
    "cbar = fig.colorbar(sm, ax=ax, orientation=\"vertical\")\n",
    "cbar.set_label(\"ICC(3,1)\", rotation=270, labelpad=15)\n",
    "\n",
    "# Format plot\n",
    "#plt.xticks(rotation=90, fontsize=10)  # Rotate measure names for visibility\n",
    "plt.ylabel(\"Tract\")\n",
    "plt.xlabel(\"ICC(3,1)\")\n",
    "plt.title(\"ICC for FD measure\")\n",
    "#plt.axhline(y=0.75, color='g', linestyle='--', label=\"Excellent Agreement (0.75)\")\n",
    "#plt.axhline(y=0.40, color='r', linestyle='--', label=\"Poor Agreement (0.40)\")\n",
    "plt.legend()\n",
    "\n",
    "##output_plt = os.path.join(output_dir, \"icc_plot_fd.svg\")\n",
    "\n",
    "plt.savefig(os.path.join(output_dir, \"icc_plot_fd_template2_spectral.svg\"), format=\"svg\", bbox_inches=\"tight\")\n",
    "\n",
    "plt.show()"
   ]
  },
  {
   "cell_type": "markdown",
   "id": "15d192d6",
   "metadata": {},
   "source": [
    "## **Tract-averaged FC**"
   ]
  },
  {
   "cell_type": "markdown",
   "id": "063b1f8b",
   "metadata": {},
   "source": [
    "### Step 1: Compute means & CV"
   ]
  },
  {
   "cell_type": "code",
   "execution_count": 287,
   "id": "016b9929",
   "metadata": {},
   "outputs": [],
   "source": [
    "cv_results_df5 = []\n",
    "for tract in tract_df5_long['Tract'].unique():\n",
    "    subset = tract_df5_long[tract_df5_long['Tract'] == tract]\n",
    "    pivot = subset.pivot_table(index='ID', columns='Site', values='FC')\n",
    "\n",
    "    # compute within-subject CV\n",
    "    subject_means = pivot.mean(axis=1)\n",
    "    subject_stds = pivot.std(axis=1, ddof=1)\n",
    "    subject_var = pivot.var(axis=1)\n",
    "    #cvws_indiv = subject_stds / subject_means\n",
    "    #CVws = cvws_indiv.mean() * 100\n",
    "    cvws_squared_indiv = subject_var / (subject_means ** 2)\n",
    "    CVws = np.sqrt(cvws_squared_indiv.mean()) * 100\n",
    "\n",
    "    # compute between-subject CV\n",
    "    group_mean = subject_means.mean()\n",
    "    group_std = subject_means.std(ddof=1)\n",
    "    CVbs = (group_std / group_mean) * 100\n",
    "\n",
    "    # global means    \n",
    "    mean = subset['FC'].mean()\n",
    "    std = subset['FC'].std() \n",
    "    cv = std/mean*100\n",
    "    cv_results_df5.append({'Tract': tract, 'mean': mean, 'std': std, \n",
    "                           'Global CV': cv,\n",
    "                           'CVws': CVws,\n",
    "                           'CVbs': CVbs})\n",
    "\n",
    "# Convert to DataFrame\n",
    "cv_df5 = pd.DataFrame(cv_results_df5)"
   ]
  },
  {
   "cell_type": "markdown",
   "id": "57bf4b60",
   "metadata": {},
   "source": [
    "### Step 2: Compute ICC"
   ]
  },
  {
   "cell_type": "code",
   "execution_count": 288,
   "id": "e29f293b",
   "metadata": {},
   "outputs": [],
   "source": [
    "# Compute ICC(3,1) for each tract\n",
    "\n",
    "icc_results_df5 = []\n",
    "for tract in tract_df5_long['Tract'].unique():\n",
    "    subset = tract_df5_long[tract_df5_long['Tract'] == tract]  \n",
    "    icc = pg.intraclass_corr(data=subset, targets='ID', raters='Site', ratings='FC')\n",
    "    icc_2_1 = icc[icc['Type'] == 'ICC2']['ICC'].values[0] \n",
    "    icc_3_1 = icc[icc['Type'] == 'ICC3']['ICC'].values[0]  # Extract ICC(3,1)\n",
    "    icc_3_pval = icc[icc['Type'] == 'ICC3']['pval'].values[0] # extract pval for ICC3\n",
    "    icc_results_df5.append({'Tract': tract, 'ICC(2,1)': icc_2_1, 'ICC(3,1)': icc_3_1, 'pval': icc_3_pval})\n",
    "\n",
    "# Convert to DataFrame\n",
    "icc_df5 = pd.DataFrame(icc_results_df5)"
   ]
  },
  {
   "cell_type": "markdown",
   "id": "6736a61c",
   "metadata": {},
   "source": [
    "### Step 3: Combine results"
   ]
  },
  {
   "cell_type": "code",
   "execution_count": 289,
   "id": "612c23e3",
   "metadata": {},
   "outputs": [],
   "source": [
    "results_df5 = pd.merge(cv_df5, icc_df5, on=\"Tract\")\n",
    "results_df5['Tract'] = results_df5['Tract'].str.replace(\"_\", \" \")"
   ]
  },
  {
   "cell_type": "code",
   "execution_count": 290,
   "id": "cd75db6c",
   "metadata": {},
   "outputs": [
    {
     "data": {
      "application/vnd.microsoft.datawrangler.viewer.v0+json": {
       "columns": [
        {
         "name": "index",
         "rawType": "object",
         "type": "string"
        },
        {
         "name": "CVws",
         "rawType": "float64",
         "type": "float"
        }
       ],
       "ref": "6b5935d4-ed29-47b0-bd02-717b178f8eb9",
       "rows": [
        [
         "min",
         "0.5957403552442422"
        ],
        [
         "max",
         "1.757749896988317"
        ]
       ],
       "shape": {
        "columns": 1,
        "rows": 2
       }
      },
      "text/plain": [
       "min    0.59574\n",
       "max    1.75775\n",
       "Name: CVws, dtype: float64"
      ]
     },
     "execution_count": 290,
     "metadata": {},
     "output_type": "execute_result"
    }
   ],
   "source": [
    "results_df5['CVws'].agg(['min', 'max'])"
   ]
  },
  {
   "cell_type": "code",
   "execution_count": 291,
   "id": "ccf4b014",
   "metadata": {},
   "outputs": [
    {
     "data": {
      "application/vnd.microsoft.datawrangler.viewer.v0+json": {
       "columns": [
        {
         "name": "index",
         "rawType": "object",
         "type": "string"
        },
        {
         "name": "ICC(3,1)",
         "rawType": "float64",
         "type": "float"
        }
       ],
       "ref": "18a82cd5-bcd3-4dc7-99e4-729bd622cddd",
       "rows": [
        [
         "min",
         "0.966521296406393"
        ],
        [
         "max",
         "0.9982738871258516"
        ]
       ],
       "shape": {
        "columns": 1,
        "rows": 2
       }
      },
      "text/plain": [
       "min    0.966521\n",
       "max    0.998274\n",
       "Name: ICC(3,1), dtype: float64"
      ]
     },
     "execution_count": 291,
     "metadata": {},
     "output_type": "execute_result"
    }
   ],
   "source": [
    "results_df5['ICC(3,1)'].agg(['min', 'max'])"
   ]
  },
  {
   "cell_type": "markdown",
   "id": "43478b01",
   "metadata": {},
   "source": [
    "## **Tract-averaged FDC**"
   ]
  },
  {
   "cell_type": "markdown",
   "id": "1668ed36",
   "metadata": {},
   "source": [
    "### Step 1: Compute means & CV"
   ]
  },
  {
   "cell_type": "code",
   "execution_count": 292,
   "id": "419b57bb",
   "metadata": {},
   "outputs": [],
   "source": [
    "cv_results_df6 = []\n",
    "for tract in tract_df6_long['Tract'].unique():\n",
    "    subset = tract_df6_long[tract_df6_long['Tract'] == tract]\n",
    "    pivot = subset.pivot_table(index='ID', columns='Site', values='FDC')\n",
    "\n",
    "    # compute within-subject CV\n",
    "    subject_means = pivot.mean(axis=1)\n",
    "    subject_stds = pivot.std(axis=1, ddof=1)\n",
    "    subject_var = pivot.var(axis=1)\n",
    "    #cvws_indiv = subject_stds / subject_means\n",
    "    #CVws = cvws_indiv.mean() * 100\n",
    "    cvws_squared_indiv = subject_var / (subject_means ** 2)\n",
    "    CVws = np.sqrt(cvws_squared_indiv.mean()) * 100\n",
    "\n",
    "    # compute between-subject CV\n",
    "    group_mean = subject_means.mean()\n",
    "    group_std = subject_means.std(ddof=1)\n",
    "    CVbs = (group_std / group_mean) * 100\n",
    "\n",
    "    # global mean\n",
    "    mean = subset['FDC'].mean()\n",
    "    std = subset['FDC'].std() \n",
    "    cv = std/mean*100\n",
    "    cv_results_df6.append({'Tract': tract, 'mean': mean, 'std': std, \n",
    "                           'Global CV': cv,\n",
    "                           'CVws': CVws,\n",
    "                           'CVbs': CVbs})\n",
    "# Convert to DataFrame\n",
    "cv_df6 = pd.DataFrame(cv_results_df6)"
   ]
  },
  {
   "cell_type": "markdown",
   "id": "3255fe51",
   "metadata": {},
   "source": [
    "### Step 2: Compute ICC"
   ]
  },
  {
   "cell_type": "code",
   "execution_count": 293,
   "id": "cc45e247",
   "metadata": {},
   "outputs": [],
   "source": [
    "icc_results_df6 = []\n",
    "for tract in tract_df6_long['Tract'].unique():\n",
    "    subset = tract_df6_long[tract_df6_long['Tract'] == tract]  \n",
    "    icc = pg.intraclass_corr(data=subset, targets='ID', raters='Site', ratings='FDC')\n",
    "    icc_2_1 = icc[icc['Type'] == 'ICC2']['ICC'].values[0] \n",
    "    icc_3_1 = icc[icc['Type'] == 'ICC3']['ICC'].values[0]  # Extract ICC(3,1)\n",
    "    icc_3_pval = icc[icc['Type'] == 'ICC3']['pval'].values[0] # extract pval for ICC3\n",
    "    icc_results_df6.append({'Tract': tract, 'ICC(2,1)': icc_2_1, 'ICC(3,1)': icc_3_1, 'pval': icc_3_pval})\n",
    "\n",
    "# Convert to DataFrame\n",
    "icc_df6 = pd.DataFrame(icc_results_df6)"
   ]
  },
  {
   "cell_type": "markdown",
   "id": "923e234a",
   "metadata": {},
   "source": [
    "### Step 3: Combine results"
   ]
  },
  {
   "cell_type": "code",
   "execution_count": 294,
   "id": "b662a7f8",
   "metadata": {},
   "outputs": [],
   "source": [
    "results_df6 = pd.merge(cv_df6, icc_df6, on=\"Tract\")\n",
    "results_df6['Tract'] = results_df6['Tract'].str.replace(\"_\", \" \")"
   ]
  },
  {
   "cell_type": "code",
   "execution_count": 295,
   "id": "1d840ed2",
   "metadata": {},
   "outputs": [
    {
     "data": {
      "application/vnd.microsoft.datawrangler.viewer.v0+json": {
       "columns": [
        {
         "name": "index",
         "rawType": "object",
         "type": "string"
        },
        {
         "name": "CVws",
         "rawType": "float64",
         "type": "float"
        }
       ],
       "ref": "95ac6be3-282e-4557-b401-495de702bdc1",
       "rows": [
        [
         "min",
         "1.216749059763942"
        ],
        [
         "max",
         "5.663278547945314"
        ]
       ],
       "shape": {
        "columns": 1,
        "rows": 2
       }
      },
      "text/plain": [
       "min    1.216749\n",
       "max    5.663279\n",
       "Name: CVws, dtype: float64"
      ]
     },
     "execution_count": 295,
     "metadata": {},
     "output_type": "execute_result"
    }
   ],
   "source": [
    "results_df6['CVws'].agg(['min', 'max'])"
   ]
  },
  {
   "cell_type": "code",
   "execution_count": 296,
   "id": "00542f87",
   "metadata": {},
   "outputs": [
    {
     "data": {
      "application/vnd.microsoft.datawrangler.viewer.v0+json": {
       "columns": [
        {
         "name": "index",
         "rawType": "object",
         "type": "string"
        },
        {
         "name": "ICC(3,1)",
         "rawType": "float64",
         "type": "float"
        }
       ],
       "ref": "9ebfa426-2f91-4095-bb82-a279b9a7a4df",
       "rows": [
        [
         "min",
         "0.9114615831591341"
        ],
        [
         "max",
         "0.994281916745572"
        ]
       ],
       "shape": {
        "columns": 1,
        "rows": 2
       }
      },
      "text/plain": [
       "min    0.911462\n",
       "max    0.994282\n",
       "Name: ICC(3,1), dtype: float64"
      ]
     },
     "execution_count": 296,
     "metadata": {},
     "output_type": "execute_result"
    }
   ],
   "source": [
    "results_df6['ICC(3,1)'].agg(['min', 'max'])"
   ]
  },
  {
   "cell_type": "markdown",
   "id": "3771b02b",
   "metadata": {},
   "source": [
    "# **DTI metrics (site-specific pipeline)**"
   ]
  },
  {
   "cell_type": "markdown",
   "id": "9e956121",
   "metadata": {},
   "source": [
    "## **Tract-averaged FA**"
   ]
  },
  {
   "cell_type": "markdown",
   "id": "0e7a9a18",
   "metadata": {},
   "source": [
    "### Step 1: Compute means & CV"
   ]
  },
  {
   "cell_type": "code",
   "execution_count": 53,
   "id": "70d59672",
   "metadata": {},
   "outputs": [],
   "source": [
    "cv_results_fa_df = []\n",
    "for tract in tract_fa_df_long['Tract'].unique():\n",
    "    subset = tract_fa_df_long[tract_fa_df_long['Tract'] == tract]\n",
    "    mean = subset['FA'].mean()\n",
    "    std = subset['FA'].std() \n",
    "    cv = std/mean*100\n",
    "    cv_results_fa_df.append({'Tract': tract, 'mean': mean, 'std': std, 'CV': cv})\n",
    "\n",
    "# Convert to DataFrame\n",
    "cv_fa_df = pd.DataFrame(cv_results_fa_df)"
   ]
  },
  {
   "cell_type": "code",
   "execution_count": 46,
   "id": "f1fc13f4",
   "metadata": {},
   "outputs": [
    {
     "name": "stdout",
     "output_type": "stream",
     "text": [
      "           Tract      mean       std        CV\n",
      "0        AF_left  0.347130  0.011431  3.292962\n",
      "1       AF_right  0.354095  0.011700  3.304097\n",
      "2       ATR_left  0.320152  0.014944  4.667722\n",
      "3      ATR_right  0.324123  0.014454  4.459421\n",
      "4             CA  0.339830  0.024340  7.162384\n",
      "..           ...       ...       ...       ...\n",
      "67  T_PREF_right  0.348202  0.013846  3.976367\n",
      "68   T_PREM_left  0.353499  0.017711  5.010303\n",
      "69  T_PREM_right  0.370795  0.019045  5.136246\n",
      "70       UF_left  0.325854  0.014847  4.556250\n",
      "71      UF_right  0.319809  0.013888  4.342577\n",
      "\n",
      "[72 rows x 4 columns]\n"
     ]
    }
   ],
   "source": [
    "print(cv_fa_df)"
   ]
  },
  {
   "cell_type": "code",
   "execution_count": 23,
   "id": "9ddad3cb",
   "metadata": {},
   "outputs": [],
   "source": [
    "cv_results_fa_df = []\n",
    "for tract in tract_fa_df_long['Tract'].unique():\n",
    "    subset = tract_fa_df_long[tract_fa_df_long['Tract'] == tract]\n",
    "    pivot = subset.pivot_table(index='ID', columns='Site', values='FA')\n",
    "\n",
    "    # compute within-subject CV\n",
    "    subject_means = pivot.mean(axis=1)\n",
    "    subject_stds = pivot.std(axis=1, ddof=1)\n",
    "    subject_var = pivot.var(axis=1)\n",
    "    #cvws_indiv = subject_stds / subject_means\n",
    "    #CVws = cvws_indiv.mean() * 100\n",
    "    cvws_squared_indiv = subject_var / (subject_means ** 2)\n",
    "    CVws = np.sqrt(cvws_squared_indiv.mean()) * 100\n",
    "\n",
    "    # compute between-subject CV\n",
    "    group_mean = subject_means.mean()\n",
    "    group_std = subject_means.std(ddof=1)\n",
    "    CVbs = (group_std / group_mean) * 100    \n",
    "\n",
    "    # global CV\n",
    "    mean = subset['FA'].mean()\n",
    "    std = subset['FA'].std() \n",
    "    cv = std/mean*100\n",
    "    cv_results_fa_df.append({'Tract': tract, 'mean': mean, 'std': std, \n",
    "                           'Global CV': cv,\n",
    "                           'CVws': CVws,\n",
    "                           'CVbs': CVbs})\n",
    "\n",
    "# Convert to DataFrame\n",
    "cv_fa_df = pd.DataFrame(cv_results_fa_df)"
   ]
  },
  {
   "cell_type": "markdown",
   "id": "0a7fd888",
   "metadata": {},
   "source": [
    "### Step 2: Compute ICC"
   ]
  },
  {
   "cell_type": "code",
   "execution_count": 24,
   "id": "b6fd7452",
   "metadata": {},
   "outputs": [],
   "source": [
    "# Compute ICC(3,1) for each tract\n",
    "\n",
    "import pingouin as pg\n",
    "\n",
    "icc_results_fa_df = []\n",
    "for tract in tract_fa_df_long['Tract'].unique():\n",
    "    subset = tract_fa_df_long[tract_fa_df_long['Tract'] == tract]  \n",
    "    icc = pg.intraclass_corr(data=subset, targets='ID', raters='Site', ratings='FA')\n",
    "    icc_2_1 = icc[icc['Type'] == 'ICC2']['ICC'].values[0] \n",
    "    icc_3_1 = icc[icc['Type'] == 'ICC3']['ICC'].values[0]  # Extract ICC(3,1)\n",
    "    icc_3_pval = icc[icc['Type'] == 'ICC3']['pval'].values[0] # extract pval for ICC3\n",
    "    icc_results_fa_df.append({'Tract': tract, 'ICC(2,1)': icc_2_1, 'ICC(3,1)': icc_3_1, 'pval': icc_3_pval})\n",
    "\n",
    "# Convert to DataFrame\n",
    "icc_fa_df = pd.DataFrame(icc_results_fa_df)"
   ]
  },
  {
   "cell_type": "markdown",
   "id": "caa6587b",
   "metadata": {},
   "source": [
    "### Step 3: Combine results"
   ]
  },
  {
   "cell_type": "code",
   "execution_count": 25,
   "id": "70daa4ca",
   "metadata": {},
   "outputs": [],
   "source": [
    "results_fa_df = pd.merge(cv_fa_df, icc_fa_df, on=\"Tract\")\n",
    "results_fa_df['Tract'] = results_fa_df['Tract'].str.replace(\"_\", \" \")"
   ]
  },
  {
   "cell_type": "code",
   "execution_count": 274,
   "id": "2717349f",
   "metadata": {},
   "outputs": [
    {
     "data": {
      "application/vnd.microsoft.datawrangler.viewer.v0+json": {
       "columns": [
        {
         "name": "index",
         "rawType": "object",
         "type": "string"
        },
        {
         "name": "Global CV",
         "rawType": "float64",
         "type": "float"
        }
       ],
       "ref": "c655fa2d-9e18-43cd-9f68-33eeb677a58c",
       "rows": [
        [
         "min",
         "1.5337392020307266"
        ],
        [
         "max",
         "7.162384386650899"
        ]
       ],
       "shape": {
        "columns": 1,
        "rows": 2
       }
      },
      "text/plain": [
       "min    1.533739\n",
       "max    7.162384\n",
       "Name: Global CV, dtype: float64"
      ]
     },
     "execution_count": 274,
     "metadata": {},
     "output_type": "execute_result"
    }
   ],
   "source": [
    "results_fa_df['Global CV'].agg(['min', 'max'])"
   ]
  },
  {
   "cell_type": "code",
   "execution_count": 275,
   "id": "2246ecf9",
   "metadata": {},
   "outputs": [
    {
     "data": {
      "application/vnd.microsoft.datawrangler.viewer.v0+json": {
       "columns": [
        {
         "name": "index",
         "rawType": "object",
         "type": "string"
        },
        {
         "name": "CVws",
         "rawType": "float64",
         "type": "float"
        }
       ],
       "ref": "6563b27b-d98c-4e76-a7c7-0b0bd85ef4e9",
       "rows": [
        [
         "min",
         "0.6526134636435181"
        ],
        [
         "max",
         "4.583591117917068"
        ]
       ],
       "shape": {
        "columns": 1,
        "rows": 2
       }
      },
      "text/plain": [
       "min    0.652613\n",
       "max    4.583591\n",
       "Name: CVws, dtype: float64"
      ]
     },
     "execution_count": 275,
     "metadata": {},
     "output_type": "execute_result"
    }
   ],
   "source": [
    "results_fa_df['CVws'].agg(['min', 'max'])"
   ]
  },
  {
   "cell_type": "code",
   "execution_count": 257,
   "id": "22b1ef75",
   "metadata": {},
   "outputs": [
    {
     "data": {
      "application/vnd.microsoft.datawrangler.viewer.v0+json": {
       "columns": [
        {
         "name": "index",
         "rawType": "object",
         "type": "string"
        },
        {
         "name": "CVbs",
         "rawType": "float64",
         "type": "float"
        }
       ],
       "ref": "5ef91c07-a9a0-4e71-8871-d12ac2ea071a",
       "rows": [
        [
         "min",
         "1.3745943992225982"
        ],
        [
         "max",
         "6.996389030381824"
        ]
       ],
       "shape": {
        "columns": 1,
        "rows": 2
       }
      },
      "text/plain": [
       "min    1.374594\n",
       "max    6.996389\n",
       "Name: CVbs, dtype: float64"
      ]
     },
     "execution_count": 257,
     "metadata": {},
     "output_type": "execute_result"
    }
   ],
   "source": [
    "results_fa_df['CVbs'].agg(['min', 'max'])"
   ]
  },
  {
   "cell_type": "code",
   "execution_count": 64,
   "id": "1f70a142",
   "metadata": {},
   "outputs": [
    {
     "data": {
      "application/vnd.microsoft.datawrangler.viewer.v0+json": {
       "columns": [
        {
         "name": "index",
         "rawType": "object",
         "type": "string"
        },
        {
         "name": "ICC(3,1)",
         "rawType": "float64",
         "type": "float"
        }
       ],
       "ref": "7cc39929-177b-479d-884c-52e763d00e15",
       "rows": [
        [
         "min",
         "0.48636048290695855"
        ],
        [
         "max",
         "0.9633144349384892"
        ]
       ],
       "shape": {
        "columns": 1,
        "rows": 2
       }
      },
      "text/plain": [
       "min    0.486360\n",
       "max    0.963314\n",
       "Name: ICC(3,1), dtype: float64"
      ]
     },
     "execution_count": 64,
     "metadata": {},
     "output_type": "execute_result"
    }
   ],
   "source": [
    "results_fa_df['ICC(3,1)'].agg(['min', 'max'])"
   ]
  },
  {
   "cell_type": "markdown",
   "id": "b4693c2f",
   "metadata": {},
   "source": [
    "### Step 4: Plot results"
   ]
  },
  {
   "cell_type": "code",
   "execution_count": 89,
   "id": "3a12b06e",
   "metadata": {},
   "outputs": [
    {
     "name": "stderr",
     "output_type": "stream",
     "text": [
      "/var/folders/g8/w52c85dx1fsgxg5681hppls80000gn/T/ipykernel_82075/1189556170.py:13: MatplotlibDeprecationWarning: The get_cmap function was deprecated in Matplotlib 3.7 and will be removed in 3.11. Use ``matplotlib.colormaps[name]`` or ``matplotlib.colormaps.get_cmap()`` or ``pyplot.get_cmap()`` instead.\n",
      "  cmap = cm.get_cmap(\"Spectral\")\n",
      "/var/folders/g8/w52c85dx1fsgxg5681hppls80000gn/T/ipykernel_82075/1189556170.py:22: FutureWarning: \n",
      "\n",
      "Passing `palette` without assigning `hue` is deprecated and will be removed in v0.14.0. Assign the `y` variable to `hue` and set `legend=False` for the same effect.\n",
      "\n",
      "  bars = sns.barplot(\n",
      "/var/folders/g8/w52c85dx1fsgxg5681hppls80000gn/T/ipykernel_82075/1189556170.py:40: UserWarning: No artists with labels found to put in legend.  Note that artists whose label start with an underscore are ignored when legend() is called with no argument.\n",
      "  plt.legend()\n"
     ]
    },
    {
     "data": {
      "image/png": "[encoded data removed]",
      "text/plain": [
       "<Figure size 600x1200 with 2 Axes>"
      ]
     },
     "metadata": {},
     "output_type": "display_data"
    }
   ],
   "source": [
    "import matplotlib.pyplot as plt\n",
    "import seaborn as sns\n",
    "import matplotlib.cm as cm\n",
    "import matplotlib.colors as mcolors\n",
    "\n",
    "# Sort by ICC values (low to high)\n",
    "icc_fa_sorted = results_fa_df.sort_values(by=\"ICC(3,1)\", ascending=False)\n",
    "\n",
    "plt.rcParams['font.family'] = 'Arial'\n",
    "\n",
    "# manual colour mapping (range from 0 to 1 for ICC)\n",
    "norm = mcolors.Normalize(vmin=results_fa_df['ICC(3,1)'].min(), vmax=1)\n",
    "cmap = cm.get_cmap(\"Spectral\")\n",
    "colours = [cmap(norm(val)) for val in icc_fa_sorted['ICC(3,1)']]\n",
    "\n",
    "# # Plot\n",
    "# plt.figure(figsize=(6, 12))\n",
    "# sns.barplot(data=icc_fa_sorted, x=\"ICC_3_1\", y=\"Tract\", palette=colours)\n",
    "\n",
    "# plot\n",
    "fig, ax = plt.subplots(figsize=(6,12))\n",
    "bars = sns.barplot(\n",
    "    data=icc_fa_sorted,\n",
    "    y=\"Tract\",\n",
    "    x=\"ICC(3,1)\",\n",
    "    palette=colours,\n",
    "    ax=ax\n",
    ")\n",
    "# Add vertical colorbar\n",
    "sm = cm.ScalarMappable(cmap=cmap, norm=norm)\n",
    "sm.set_array([])  # Required for matplotlib < 3.1\n",
    "cbar = fig.colorbar(sm, ax=ax, orientation=\"vertical\")\n",
    "cbar.set_label(\"ICC(3,1)\", rotation=270, labelpad=15)\n",
    "\n",
    "# Format plot\n",
    "#plt.xticks(rotation=90, fontsize=10)  # rotate tract names\n",
    "plt.ylabel(\"Tract\")\n",
    "plt.xlabel(\"ICC(3,1)\")\n",
    "plt.title(\"ICC for FA measure\")\n",
    "plt.legend()\n",
    "\n",
    "##output_plt = os.path.join(output_dir, \"icc_plot_fd.svg\")\n",
    "\n",
    "plt.savefig(os.path.join(output_dir, \"icc_plot_fa_template1_spectral.svg\"), format=\"svg\", bbox_inches=\"tight\")\n",
    "\n",
    "plt.show()"
   ]
  },
  {
   "cell_type": "code",
   "execution_count": 86,
   "id": "fcf1cd4e",
   "metadata": {},
   "outputs": [],
   "source": [
    "icc_fa_sorted['hexcode'] = icc_fa_sorted['ICC(3,1)'].apply(lambda val: mcolors.to_hex(cmap(norm(val))))"
   ]
  },
  {
   "cell_type": "markdown",
   "id": "443b5e55",
   "metadata": {},
   "source": [
    "## **Tract-averaged ADC**"
   ]
  },
  {
   "cell_type": "markdown",
   "id": "72d72a1d",
   "metadata": {},
   "source": [
    "### Step 1: Compute means & CV"
   ]
  },
  {
   "cell_type": "code",
   "execution_count": 71,
   "id": "f61ae916",
   "metadata": {},
   "outputs": [],
   "source": [
    "cv_results_adc_df = []\n",
    "for tract in tract_adc_df_long['Tract'].unique():\n",
    "    subset = tract_adc_df_long[tract_adc_df_long['Tract'] == tract]\n",
    "    mean = subset['MD'].mean()\n",
    "    std = subset['MD'].std() \n",
    "    cv = std/mean*100\n",
    "    cv_results_adc_df.append({'Tract': tract, 'mean': mean, 'std': std, 'CV': cv})\n",
    "\n",
    "# Convert to DataFrame\n",
    "cv_adc_df = pd.DataFrame(cv_results_adc_df)"
   ]
  },
  {
   "cell_type": "code",
   "execution_count": 276,
   "id": "95b4f647",
   "metadata": {},
   "outputs": [],
   "source": [
    "cv_results_adc_df = []\n",
    "for tract in tract_adc_df_long['Tract'].unique():\n",
    "    subset = tract_adc_df_long[tract_adc_df_long['Tract'] == tract]\n",
    "    pivot = subset.pivot_table(index='ID', columns='Site', values='MD')\n",
    "\n",
    "    # compute within-subject CV\n",
    "    subject_means = pivot.mean(axis=1)\n",
    "    subject_stds = pivot.std(axis=1, ddof=1)\n",
    "    subject_var = pivot.var(axis=1)\n",
    "    #cvws_indiv = subject_stds / subject_means\n",
    "    #CVws = cvws_indiv.mean() * 100\n",
    "    cvws_squared_indiv = subject_var / (subject_means ** 2)\n",
    "    CVws = np.sqrt(cvws_squared_indiv.mean()) * 100\n",
    "\n",
    "    # compute between-subject CV\n",
    "    group_mean = subject_means.mean()\n",
    "    group_std = subject_means.std(ddof=1)\n",
    "    CVbs = (group_std / group_mean) * 100    \n",
    "\n",
    "    # global CV\n",
    "    mean = subset['MD'].mean()\n",
    "    std = subset['MD'].std() \n",
    "    cv = std/mean*100\n",
    "    cv_results_adc_df.append({'Tract': tract, 'mean': mean, 'std': std, \n",
    "                           'Global CV': cv,\n",
    "                           'CVws': CVws,\n",
    "                           'CVbs': CVbs})\n",
    "\n",
    "# Convert to DataFrame\n",
    "cv_adc_df = pd.DataFrame(cv_results_adc_df)"
   ]
  },
  {
   "cell_type": "markdown",
   "id": "21f16307",
   "metadata": {},
   "source": [
    "### Step 2: Compute ICC"
   ]
  },
  {
   "cell_type": "code",
   "execution_count": 72,
   "id": "ec20c6d9",
   "metadata": {},
   "outputs": [],
   "source": [
    "# Compute ICC(3,1) for each tract\n",
    "\n",
    "import pingouin as pg\n",
    "\n",
    "icc_results_adc_df = []\n",
    "for tract in tract_adc_df_long['Tract'].unique():\n",
    "    subset = tract_adc_df_long[tract_adc_df_long['Tract'] == tract]  \n",
    "    icc = pg.intraclass_corr(data=subset, targets='ID', raters='Site', ratings='MD')\n",
    "    icc_2_1 = icc[icc['Type'] == 'ICC2']['ICC'].values[0] \n",
    "    icc_3_1 = icc[icc['Type'] == 'ICC3']['ICC'].values[0]  # Extract ICC(3,1)\n",
    "    icc_3_pval = icc[icc['Type'] == 'ICC3']['pval'].values[0] # extract pval for ICC3\n",
    "    icc_results_adc_df.append({'Tract': tract, 'ICC(2,1)': icc_2_1, 'ICC(3,1)': icc_3_1, 'pval': icc_3_pval})\n",
    "\n",
    "# Convert to DataFrame\n",
    "icc_adc_df = pd.DataFrame(icc_results_adc_df)"
   ]
  },
  {
   "cell_type": "markdown",
   "id": "90cf4712",
   "metadata": {},
   "source": [
    "### Step 3: Combine results"
   ]
  },
  {
   "cell_type": "code",
   "execution_count": 277,
   "id": "1120253f",
   "metadata": {},
   "outputs": [],
   "source": [
    "results_adc_df = pd.merge(cv_adc_df, icc_adc_df, on=\"Tract\")\n",
    "results_adc_df['Tract'] = results_adc_df['Tract'].str.replace(\"_\", \" \")"
   ]
  },
  {
   "cell_type": "code",
   "execution_count": 278,
   "id": "392600c6",
   "metadata": {},
   "outputs": [
    {
     "data": {
      "application/vnd.microsoft.datawrangler.viewer.v0+json": {
       "columns": [
        {
         "name": "index",
         "rawType": "object",
         "type": "string"
        },
        {
         "name": "CVws",
         "rawType": "float64",
         "type": "float"
        }
       ],
       "ref": "d6322874-847a-44b7-b8f3-8ee9d4edc7b4",
       "rows": [
        [
         "min",
         "0.8991966459410928"
        ],
        [
         "max",
         "1.9758106861708775"
        ]
       ],
       "shape": {
        "columns": 1,
        "rows": 2
       }
      },
      "text/plain": [
       "min    0.899197\n",
       "max    1.975811\n",
       "Name: CVws, dtype: float64"
      ]
     },
     "execution_count": 278,
     "metadata": {},
     "output_type": "execute_result"
    }
   ],
   "source": [
    "results_adc_df['CVws'].agg(['min', 'max'])"
   ]
  },
  {
   "cell_type": "code",
   "execution_count": 260,
   "id": "6561d283",
   "metadata": {},
   "outputs": [
    {
     "data": {
      "application/vnd.microsoft.datawrangler.viewer.v0+json": {
       "columns": [
        {
         "name": "index",
         "rawType": "object",
         "type": "string"
        },
        {
         "name": "Global CV",
         "rawType": "float64",
         "type": "float"
        }
       ],
       "ref": "9d3877dc-0daf-478f-b2ab-6e57ee060678",
       "rows": [
        [
         "min",
         "1.4369864403492993"
        ],
        [
         "max",
         "9.556331240062391"
        ]
       ],
       "shape": {
        "columns": 1,
        "rows": 2
       }
      },
      "text/plain": [
       "min    1.436986\n",
       "max    9.556331\n",
       "Name: Global CV, dtype: float64"
      ]
     },
     "execution_count": 260,
     "metadata": {},
     "output_type": "execute_result"
    }
   ],
   "source": [
    "results_adc_df['Global CV'].agg(['min', 'max'])"
   ]
  },
  {
   "cell_type": "code",
   "execution_count": 75,
   "id": "90e13729",
   "metadata": {},
   "outputs": [
    {
     "data": {
      "application/vnd.microsoft.datawrangler.viewer.v0+json": {
       "columns": [
        {
         "name": "index",
         "rawType": "object",
         "type": "string"
        },
        {
         "name": "ICC(3,1)",
         "rawType": "float64",
         "type": "float"
        }
       ],
       "ref": "ffd811ce-a535-4b3d-96c2-3d0728bd4eb3",
       "rows": [
        [
         "min",
         "0.4649290565157115"
        ],
        [
         "max",
         "0.9691861245357981"
        ]
       ],
       "shape": {
        "columns": 1,
        "rows": 2
       }
      },
      "text/plain": [
       "min    0.464929\n",
       "max    0.969186\n",
       "Name: ICC(3,1), dtype: float64"
      ]
     },
     "execution_count": 75,
     "metadata": {},
     "output_type": "execute_result"
    }
   ],
   "source": [
    "results_adc_df['ICC(3,1)'].agg(['min', 'max'])"
   ]
  },
  {
   "cell_type": "markdown",
   "id": "e8e28d4f",
   "metadata": {},
   "source": [
    "# **DTI metrics (group pipeline)**"
   ]
  },
  {
   "cell_type": "markdown",
   "id": "57889278",
   "metadata": {},
   "source": [
    "# **Sample size estimates**"
   ]
  },
  {
   "cell_type": "markdown",
   "id": "524d97c9",
   "metadata": {},
   "source": [
    "Here, we can use the ICC values from the FD and FA results to estimate observable effect size, then use this for sample size estimates"
   ]
  },
  {
   "cell_type": "markdown",
   "id": "04b45630",
   "metadata": {},
   "source": [
    "### Step 1: Extract relevant data"
   ]
  },
  {
   "cell_type": "code",
   "execution_count": 116,
   "id": "83be73eb",
   "metadata": {},
   "outputs": [],
   "source": [
    "# Fornix\n",
    "icc_fd_fornix_left = results_df1.loc[results_df1['Tract'] =='FX left', 'ICC(3,1)'].values[0]\n",
    "icc_fd_fornix_right = results_df1.loc[results_df1['Tract'] =='FX right', 'ICC(3,1)'].values[0]\n",
    "icc_fa_fornix_left = results_fa_df.loc[results_fa_df['Tract'] =='FX left', 'ICC(3,1)'].values[0]\n",
    "icc_fa_fornix_right = results_fa_df.loc[results_fa_df['Tract'] =='FX right', 'ICC(3,1)'].values[0]\n",
    "\n",
    "# CST\n",
    "icc_fd_cst_left = results_df1.loc[results_df1['Tract'] =='CST left', 'ICC(3,1)'].values[0]\n",
    "icc_fd_cst_right = results_df1.loc[results_df1['Tract'] =='CST right', 'ICC(3,1)'].values[0]\n",
    "icc_fa_cst_left = results_fa_df.loc[results_fa_df['Tract'] =='CST left', 'ICC(3,1)'].values[0]\n",
    "icc_fa_cst_right = results_fa_df.loc[results_fa_df['Tract'] =='CST right', 'ICC(3,1)'].values[0]\n",
    "\n",
    "# AF\n",
    "icc_fd_af_left = results_df1.loc[results_df1['Tract'] =='AF left', 'ICC(3,1)'].values[0]\n",
    "icc_fd_af_right = results_df1.loc[results_df1['Tract'] =='AF right', 'ICC(3,1)'].values[0]\n",
    "icc_fa_af_left = results_fa_df.loc[results_fa_df['Tract'] =='AF left', 'ICC(3,1)'].values[0]\n",
    "icc_fa_af_right = results_fa_df.loc[results_fa_df['Tract'] =='AF right', 'ICC(3,1)'].values[0]"
   ]
  },
  {
   "cell_type": "code",
   "execution_count": 194,
   "id": "dc29aa4e",
   "metadata": {},
   "outputs": [
    {
     "name": "stdout",
     "output_type": "stream",
     "text": [
      "26.107233723157986\n"
     ]
    }
   ],
   "source": [
    "d_obs = 0.8 * np.sqrt(icc_fd_fornix_left)\n",
    "n= analysis.solve_power(effect_size=d_obs, alpha=0.05, power=0.8)#, alternative='larger')\n",
    "print(n)"
   ]
  },
  {
   "cell_type": "code",
   "execution_count": 1,
   "id": "a0e85136",
   "metadata": {},
   "outputs": [
    {
     "name": "stderr",
     "output_type": "stream",
     "text": [
      "/Users/remika/opt/anaconda3/lib/python3.9/site-packages/pandas/core/computation/expressions.py:21: UserWarning: Pandas requires version '2.8.4' or newer of 'numexpr' (version '2.8.3' currently installed).\n",
      "  from pandas.core.computation.check import NUMEXPR_INSTALLED\n",
      "/Users/remika/opt/anaconda3/lib/python3.9/site-packages/pandas/core/arrays/masked.py:60: UserWarning: Pandas requires version '1.3.6' or newer of 'bottleneck' (version '1.3.5' currently installed).\n",
      "  from pandas.core import (\n"
     ]
    },
    {
     "name": "stdout",
     "output_type": "stream",
     "text": [
      "25.524571808897946\n"
     ]
    }
   ],
   "source": [
    "import numpy as np\n",
    "from statsmodels.stats.power import TTestIndPower\n",
    "import matplotlib.pyplot as plt\n",
    "\n",
    "# set up\n",
    "analysis = TTestIndPower()\n",
    "\n",
    "n= analysis.solve_power(effect_size=0.8, alpha=0.05, power=0.8)#, alternative='larger')\n",
    "print(n)"
   ]
  },
  {
   "cell_type": "code",
   "execution_count": null,
   "id": "02651af1",
   "metadata": {},
   "outputs": [],
   "source": [
    "### combine data\n",
    "\n",
    "# Fornix\n",
    "df_fx = pd.DataFrame({\n",
    "    'Tract': ['Left (FD)', 'Right (FD)', 'Left (FA)', 'Right (FA)'],\n",
    "    'ICC': [icc_fd_fornix_left, icc_fd_fornix_right, icc_fa_fornix_left, icc_fa_fornix_right]\n",
    "})\n"
   ]
  },
  {
   "cell_type": "markdown",
   "id": "b4386a25",
   "metadata": {},
   "source": [
    "### Step 2: Compute sample sizes per tract"
   ]
  },
  {
   "cell_type": "code",
   "execution_count": 28,
   "id": "4b5a10a8",
   "metadata": {},
   "outputs": [
    {
     "data": {
      "image/png": "[encoded data removed]",
      "text/plain": [
       "<Figure size 600x600 with 1 Axes>"
      ]
     },
     "metadata": {},
     "output_type": "display_data"
    }
   ],
   "source": [
    "import numpy as np\n",
    "from statsmodels.stats.power import TTestIndPower\n",
    "import matplotlib.pyplot as plt\n",
    "\n",
    "# set up\n",
    "analysis = TTestIndPower()\n",
    "sample_sizes_fd = []\n",
    "sample_sizes_fa = []\n",
    "\n",
    "# inputs\n",
    "tract = 'FX left'\n",
    "alpha = 0.05\n",
    "power = 0.8\n",
    "true_effect_sizes = np.linspace(0.2, 1, 5)\n",
    "\n",
    "# Extract tract data\n",
    "icc_fd = results_df1.loc[results_df1['Tract'] == tract, 'ICC(3,1)'].values[0]\n",
    "icc_fa = results_fa_df.loc[results_fa_df['Tract'] == tract, 'ICC(3,1)'].values[0]\n",
    "\n",
    "# compute sample size\n",
    "for d_true in true_effect_sizes:\n",
    "    d_obs_fd = d_true * np.sqrt(icc_fd)\n",
    "    d_obs_fa = d_true * np.sqrt(icc_fa)\n",
    "    n_fd = analysis.solve_power(effect_size=d_obs_fd, alpha=alpha, power=power, alternative='larger')\n",
    "    n_fa = analysis.solve_power(effect_size=d_obs_fa, alpha=alpha, power=power, alternative='larger')\n",
    "    sample_sizes_fd.append(np.ceil(n_fd))\n",
    "    sample_sizes_fa.append(np.ceil(n_fa))\n",
    "\n",
    "\n",
    "x_labels = [f\"{d:.1f}\" for d in true_effect_sizes]\n",
    "x = np.arange(len(true_effect_sizes))\n",
    "width = 0.35\n",
    "\n",
    "plt.figure(figsize=(6, 6))\n",
    "plt.bar(x - width/2, sample_sizes_fd, width, label='FD', color='#8E44AD')\n",
    "plt.bar(x + width/2, sample_sizes_fa, width, label='FA', color='#BB8FCE')\n",
    "plt.xticks(ticks=x, labels=x_labels)\n",
    "#plt.ylim(0, 80)\n",
    "plt.show()"
   ]
  },
  {
   "cell_type": "markdown",
   "id": "99356bd6",
   "metadata": {},
   "source": []
  },
  {
   "cell_type": "code",
   "execution_count": 27,
   "id": "ae14f143",
   "metadata": {},
   "outputs": [
    {
     "data": {
      "image/png": "[encoded data removed]",
      "text/plain": [
       "<Figure size 500x400 with 2 Axes>"
      ]
     },
     "metadata": {},
     "output_type": "display_data"
    }
   ],
   "source": [
    "import numpy as np\n",
    "from statsmodels.stats.power import TTestIndPower\n",
    "import matplotlib as mpl\n",
    "import matplotlib.pyplot as plt\n",
    "\n",
    "\n",
    "# Set default font to Arial\n",
    "mpl.rcParams['font.family'] = 'Arial'\n",
    "\n",
    "# set up\n",
    "analysis = TTestIndPower()\n",
    "\n",
    "# inputs\n",
    "alpha = 0.05\n",
    "power = 0.8\n",
    "true_effect_sizes = np.linspace(0.2, 1, 5)\n",
    "tracts = ['AF left', 'AF right']\n",
    "x_labels = [f\"{d:.1f}\" for d in true_effect_sizes]\n",
    "x = np.arange(len(x_labels))\n",
    "width = 0.35\n",
    "\n",
    "# subplots\n",
    "n_tracts = len(tracts)\n",
    "fig, axs = plt.subplots(1, n_tracts, figsize=(2.5 * n_tracts, 4), sharey=True)\n",
    "\n",
    "# loop through bilateral tracts\n",
    "for i, tract in enumerate(tracts):\n",
    "\n",
    "    # Extract fd & fa icc\n",
    "    icc_fd = results_df1.loc[results_df1['Tract'] == tract, 'ICC(3,1)'].values[0]\n",
    "    icc_fa = results_fa_df.loc[results_fa_df['Tract'] == tract, 'ICC(3,1)'].values[0]\n",
    "\n",
    "    sample_sizes_fd = []\n",
    "    sample_sizes_fa = []\n",
    "\n",
    "    # compute sample size\n",
    "    for d_true in true_effect_sizes:\n",
    "        d_obs_fd = d_true * np.sqrt(icc_fd)\n",
    "        d_obs_fa = d_true * np.sqrt(icc_fa)\n",
    "        n_fd = analysis.solve_power(effect_size=d_obs_fd, alpha=alpha, power=power, alternative='larger')\n",
    "        n_fa = analysis.solve_power(effect_size=d_obs_fa, alpha=alpha, power=power, alternative='larger')\n",
    "        sample_sizes_fd.append(np.ceil(n_fd))\n",
    "        sample_sizes_fa.append(np.ceil(n_fa))\n",
    "\n",
    "    ax = axs[i]\n",
    "    ax.bar(x - width/2, sample_sizes_fd, width, label='FD', color='#17a589') # FX: #8E44AD ; CST: #2e86c1 ; AF: #17a589 \n",
    "    ax.bar(x + width/2, sample_sizes_fa, width, label='FA', color='#76d7c4') # FX: #BB8FCE ; CST: #85c1e9 ; AF: #76d7c4 \n",
    "\n",
    "    ax.set_title(f\"{tract}\")\n",
    "    ax.set_xlabel(\"True effect (Cohen's d)\")\n",
    "    ax.set_xticks(x)\n",
    "    ax.set_xticklabels(x_labels)\n",
    "    #ax.set_ylim(0,71)\n",
    "    #ax.grid(axis='y')\n",
    "    #ax.legend()\n",
    "    if i == 0:\n",
    "        ax.set_ylabel(\"Sample size per group\")\n",
    "    if i == n_tracts - 1:\n",
    "        ax.legend()\n",
    "\n",
    "plt.tight_layout(rect=[0, 0, 1, 0.95])\n",
    "\n",
    "#plt.savefig(os.path.join(output_dir, \"samplesize_plot_af_small.svg\"), format=\"svg\", bbox_inches=\"tight\")\n",
    "\n",
    "plt.show()\n",
    "\n"
   ]
  },
  {
   "cell_type": "code",
   "execution_count": null,
   "id": "615baf95",
   "metadata": {},
   "outputs": [],
   "source": [
    "import numpy as np\n",
    "from statsmodels.stats.power import TTestIndPower\n",
    "\n",
    "# set up\n",
    "analysis = TTestIndPower()\n",
    "sample_sizes_fd = []\n",
    "sample_sizes_fa = []\n",
    "\n",
    "# inputs\n",
    "tract = 'FX left'\n",
    "alpha = 0.05\n",
    "power = 0.8\n",
    "#true_effect_sizes = np.linspace(0.5, 1, 5)\n",
    "sample_sizes = np.arange(10, 55, 5)\n",
    "\n",
    "# Extract tract data\n",
    "icc_fd = results_df1.loc[results_df1['Tract'] == tract, 'ICC(3,1)'].values[0]\n",
    "icc_fa = results_fa_df.loc[results_fa_df['Tract'] == tract, 'ICC(3,1)'].values[0]\n",
    "\n",
    "# compute sample size\n",
    "for n_samples in sample_sizes:\n",
    "    d_obs_fd = d_true * np.sqrt(icc_fd)\n",
    "    d_obs_fa = d_true * np.sqrt(icc_fa)\n",
    "    n_fd = analysis.solve_power(effect_size=d_obs_fd, alpha=alpha, power=power)#, alternative='larger')\n",
    "    n_fa = analysis.solve_power(effect_size=d_obs_fa, alpha=alpha, power=power)#, alternative='larger')\n",
    "    sample_sizes_fd.append(np.ceil(n_fd))\n",
    "    sample_sizes_fa.append(np.ceil(n_fa))\n",
    "\n",
    "\n",
    "x_labels = [f\"{d:.1f}\" for d in true_effect_sizes]\n",
    "x = np.arange(len(true_effect_sizes))\n",
    "width = 0.35\n",
    "\n",
    "plt.figure(figsize=(6, 6))\n",
    "plt.bar(x - width/2, sample_sizes_fd, width, label='FD', color='#8E44AD')\n",
    "plt.bar(x + width/2, sample_sizes_fa, width, label='FA', color='#BB8FCE')\n",
    "plt.xticks(ticks=x, labels=x_labels)\n",
    "plt.ylim(0, 80)\n",
    "plt.show()"
   ]
  }
 ],
 "metadata": {
  "kernelspec": {
   "display_name": "base",
   "language": "python",
   "name": "python3"
  },
  "language_info": {
   "codemirror_mode": {
    "name": "ipython",
    "version": 3
   },
   "file_extension": ".py",
   "mimetype": "text/x-python",
   "name": "python",
   "nbconvert_exporter": "python",
   "pygments_lexer": "ipython3",
   "version": "3.9.13"
  }
 },
 "nbformat": 4,
 "nbformat_minor": 5
}
