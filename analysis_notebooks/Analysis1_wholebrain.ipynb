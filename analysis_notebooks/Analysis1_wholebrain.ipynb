{
 "cells": [
  {
   "cell_type": "markdown",
   "id": "889a95cf",
   "metadata": {},
   "source": [
    "# **Analysis 1: Whole-brain comparisons**"
   ]
  },
  {
   "cell_type": "markdown",
   "id": "bdfb252f",
   "metadata": {},
   "source": [
    "*Date:* 27 May 2025\n",
    "\n",
    "*Description:* This notebook compares whole-brain means for the Travelling Heads (TRAMFIX) dataset.\n",
    "\n",
    "There are 4 key analyses run here:\n",
    "1. Comparing whole-brain means for FBA metrics (using site-specific pipeline)\n",
    "2. Comparing whole-brain means for FBA metrics (using group pipeline)\n",
    "3. Comparing whole-brain means for DTI metrics for comparison (using site-specific pipeline)\n",
    "4. Comparing whole-brain means for DTI metrics for comparison (using group pipeline)"
   ]
  },
  {
   "cell_type": "markdown",
   "id": "b89c6b0c",
   "metadata": {},
   "source": [
    "## **Set up: Import data**"
   ]
  },
  {
   "cell_type": "code",
   "execution_count": 1,
   "id": "9c207a16",
   "metadata": {},
   "outputs": [
    {
     "name": "stderr",
     "output_type": "stream",
     "text": [
      "/Users/remika/opt/anaconda3/lib/python3.9/site-packages/pandas/core/computation/expressions.py:21: UserWarning: Pandas requires version '2.8.4' or newer of 'numexpr' (version '2.8.3' currently installed).\n",
      "  from pandas.core.computation.check import NUMEXPR_INSTALLED\n",
      "/Users/remika/opt/anaconda3/lib/python3.9/site-packages/pandas/core/arrays/masked.py:60: UserWarning: Pandas requires version '1.3.6' or newer of 'bottleneck' (version '1.3.5' currently installed).\n",
      "  from pandas.core import (\n"
     ]
    }
   ],
   "source": [
    "import os\n",
    "import pandas as pd\n",
    "\n",
    "## Input dir & data\n",
    "input_dir = '/Users/remika/Library/CloudStorage/OneDrive-TheUniversityofMelbourne/RESEARCH_PROJECTS/DECRA/TravellingHeads/Data/Analysis1_wholebrain'"
   ]
  },
  {
   "cell_type": "code",
   "execution_count": 2,
   "id": "7eff4dc6",
   "metadata": {},
   "outputs": [],
   "source": [
    "## set up data \n",
    "\n",
    "# FD\n",
    "fd_df_dir = os.path.join(input_dir, 'FD_wholebrain_means_medians.csv')\n",
    "fd_df = pd.read_csv(fd_df_dir, sep=',', skipinitialspace=True)\n",
    "fd_df[['ID', 'Site']] = fd_df['ID'].str.split('_', expand=True)\n",
    "\n",
    "# FC\n",
    "fc_df_dir = os.path.join(input_dir, 'FC_wholebrain_means_medians.csv')\n",
    "fc_df = pd.read_csv(fc_df_dir, sep=',', skipinitialspace=True)\n",
    "fc_df[['ID','Site']] = fc_df['ID'].str.split('_', expand=True)\n",
    "\n",
    "# FDC\n",
    "fdc_df_dir = os.path.join(input_dir, 'FDC_wholebrain_means_medians.csv')\n",
    "fdc_df = pd.read_csv(fdc_df_dir, sep=',',skipinitialspace=True)\n",
    "fdc_df[['ID', 'Site']] = fdc_df['ID'].str.split('_', expand=True)"
   ]
  },
  {
   "cell_type": "code",
   "execution_count": 3,
   "id": "5047fe6c",
   "metadata": {},
   "outputs": [],
   "source": [
    "# outdir for plots\n",
    "output_dir = '/Users/remika/Library/CloudStorage/OneDrive-TheUniversityofMelbourne/RESEARCH_PROJECTS/DECRA/TravellingHeads/Data/plots'"
   ]
  },
  {
   "cell_type": "code",
   "execution_count": 4,
   "id": "a87e9c88",
   "metadata": {},
   "outputs": [],
   "source": [
    "## FA & ADC\n",
    "\n",
    "# FA (WM only)\n",
    "fa_wm_df_dir = os.path.join(input_dir, 'FA_WMmask_means_medians.csv')\n",
    "fa_wm_df = pd.read_csv(fa_wm_df_dir, sep=',', skipinitialspace=True)\n",
    "fa_wm_df[['ID', 'Site']] = fa_wm_df['ID'].str.split('_', expand=True)\n",
    "\n",
    "# ADC (WM only)\n",
    "adc_wm_df_dir = os.path.join(input_dir, 'ADC_WMmask_means_medians.csv')\n",
    "adc_wm_df = pd.read_csv(adc_wm_df_dir, sep=',', skipinitialspace=True)\n",
    "adc_wm_df[['ID', 'Site']] = adc_wm_df['ID'].str.split('_', expand=True)\n",
    "\n",
    "# FA (WM only)\n",
    "fa_skel_df_dir = os.path.join(input_dir, 'FA_FA_skel_means_medians.csv')\n",
    "fa_skel_df = pd.read_csv(fa_skel_df_dir, sep=',', skipinitialspace=True)\n",
    "fa_skel_df[['ID', 'Site']] = fa_skel_df['ID'].str.split('_', expand=True)\n",
    "\n",
    "# ADC (WM only)\n",
    "adc_skel_df_dir = os.path.join(input_dir, 'ADC_FA_skel_means_medians.csv')\n",
    "adc_skel_df = pd.read_csv(adc_skel_df_dir, sep=',', skipinitialspace=True)\n",
    "adc_skel_df[['ID', 'Site']] = adc_skel_df['ID'].str.split('_', expand=True)"
   ]
  },
  {
   "cell_type": "markdown",
   "id": "b1222ccc",
   "metadata": {},
   "source": [
    "# **FBA metrics (site-specific pipeline)**"
   ]
  },
  {
   "cell_type": "markdown",
   "id": "ebb63f34",
   "metadata": {},
   "source": [
    "## **Whole-brain FD**"
   ]
  },
  {
   "cell_type": "markdown",
   "id": "dc299029",
   "metadata": {},
   "source": [
    "### Step 1: Compute means & CV"
   ]
  },
  {
   "cell_type": "code",
   "execution_count": 3,
   "id": "988f55ef",
   "metadata": {},
   "outputs": [
    {
     "name": "stdout",
     "output_type": "stream",
     "text": [
      "mean value for FD (whole-brain mean) is:  0.313575125\n",
      "std for FD (whole-brain mean) is:  0.007534925038973426\n",
      "CV for FD (whole-brain mean) is:  2.402909044195845\n"
     ]
    }
   ],
   "source": [
    "# CV of mean FD\n",
    "mean_fd = fd_df['means'].mean()\n",
    "std_fd = fd_df['means'].std(ddof=1)\n",
    "cv_fd = std_fd/mean_fd*100\n",
    "\n",
    "print(\"mean value for FD (whole-brain mean) is: \", mean_fd)\n",
    "print(\"std for FD (whole-brain mean) is: \", std_fd)\n",
    "print(\"CV for FD (whole-brain mean) is: \", cv_fd)"
   ]
  },
  {
   "cell_type": "code",
   "execution_count": 7,
   "id": "34a7f946",
   "metadata": {},
   "outputs": [
    {
     "name": "stdout",
     "output_type": "stream",
     "text": [
      "mean value for FD (whole-brain median) is:  0.2660589255\n",
      "std for FD (whole-brain median) is:  0.005920572619626797\n",
      "CV for FD (whole-brain median) is:  2.225286225034686\n"
     ]
    }
   ],
   "source": [
    "# CV of median FD\n",
    "mean_fd_medians = fd_df['medians'].mean()\n",
    "std_fd_medians = fd_df['medians'].std(ddof=1)\n",
    "cv_fd_medians = std_fd_medians/mean_fd_medians*100\n",
    "\n",
    "print(\"mean value for FD (whole-brain median) is: \", mean_fd_medians)\n",
    "print(\"std for FD (whole-brain median) is: \", std_fd_medians)\n",
    "print(\"CV for FD (whole-brain median) is: \", cv_fd_medians)"
   ]
  },
  {
   "cell_type": "markdown",
   "id": "6f762ca6",
   "metadata": {},
   "source": [
    "### Step 2: CV per site"
   ]
  },
  {
   "cell_type": "code",
   "execution_count": 4,
   "id": "2b3ddcfd",
   "metadata": {},
   "outputs": [
    {
     "name": "stdout",
     "output_type": "stream",
     "text": [
      "Site     ID  FloreyPrisma  FloreyVida       MBI       RCH\n",
      "0     TH001      0.314403    0.310809  0.312476  0.313877\n",
      "1     TH002      0.320827    0.321683  0.318773  0.325831\n",
      "2     TH003      0.304182    0.298363  0.304115  0.307615\n",
      "3     TH004      0.313682    0.307068  0.313410  0.319502\n",
      "4     TH005      0.309864    0.306649  0.312728  0.315626\n",
      "5     TH006      0.307849    0.305690  0.308616  0.314748\n",
      "6     TH007      0.317700    0.314572  0.318100  0.324314\n",
      "7     TH008      0.309576    0.307351  0.307606  0.309993\n",
      "8     TH009      0.310647    0.303558  0.309455  0.312672\n",
      "9     TH010      0.328914    0.322938  0.324115  0.333108\n"
     ]
    }
   ],
   "source": [
    "mean_data_fd = fd_df.pivot(index='ID', columns='Site', values='means').reset_index()\n",
    "print(mean_data_fd)"
   ]
  },
  {
   "cell_type": "code",
   "execution_count": 10,
   "id": "61e458e5",
   "metadata": {},
   "outputs": [
    {
     "name": "stdout",
     "output_type": "stream",
     "text": [
      "Florey Prisma mean is:  0.3137644\n",
      "Florey Vida mean is:  0.30986810000000004\n",
      "MBI mean is:  0.3129394\n",
      "RCH mean is 0.3177286\n",
      "Florey Prisma std is:  0.007184726008848362\n",
      "Florey Vida std is:  0.0078003296290748035\n",
      "MBI std is:  0.005992454815107997\n",
      "RCH std is 0.007919880838048558\n",
      "Florey Prisma CV is:  2.2898474169945224\n",
      "Florey Vida CV is:  2.51730643750512\n",
      "MBI CV is:  1.9148930480176025\n",
      "RCH CV is 2.492655945372421\n"
     ]
    }
   ],
   "source": [
    "fd_means_floreyPrisma_cv = (mean_data_fd['FloreyPrisma'].std()/mean_data_fd['FloreyPrisma'].mean())*100\n",
    "fd_means_floreyVida_cv = (mean_data_fd['FloreyVida'].std()/mean_data_fd['FloreyVida'].mean())*100\n",
    "fd_means_MBI_cv = (mean_data_fd['MBI'].std()/mean_data_fd['MBI'].mean())*100\n",
    "fd_means_RCH_cv = (mean_data_fd['RCH'].std()/mean_data_fd['RCH'].mean())*100\n",
    "\n",
    "print(\"Florey Prisma mean is: \", mean_data_fd['FloreyPrisma'].mean())\n",
    "print(\"Florey Vida mean is: \", mean_data_fd['FloreyVida'].mean())\n",
    "print(\"MBI mean is: \", mean_data_fd['MBI'].mean())\n",
    "print(\"RCH mean is\", mean_data_fd['RCH'].mean())\n",
    "\n",
    "print(\"Florey Prisma std is: \", mean_data_fd['FloreyPrisma'].std())\n",
    "print(\"Florey Vida std is: \", mean_data_fd['FloreyVida'].std())\n",
    "print(\"MBI std is: \", mean_data_fd['MBI'].std())\n",
    "print(\"RCH std is\", mean_data_fd['RCH'].std())\n",
    "\n",
    "print(\"Florey Prisma CV is: \", fd_means_floreyPrisma_cv)\n",
    "print(\"Florey Vida CV is: \", fd_means_floreyVida_cv)\n",
    "print(\"MBI CV is: \", fd_means_MBI_cv)\n",
    "print(\"RCH CV is\", fd_means_RCH_cv)"
   ]
  },
  {
   "cell_type": "code",
   "execution_count": 9,
   "id": "733568b0",
   "metadata": {},
   "outputs": [
    {
     "name": "stdout",
     "output_type": "stream",
     "text": [
      "Site     ID  FloreyPrisma  FloreyVida       MBI       RCH\n",
      "0     TH001      0.266245    0.262837  0.262693  0.265458\n",
      "1     TH002      0.270810    0.269907  0.267982  0.275311\n",
      "2     TH003      0.260157    0.254938  0.260317  0.263696\n",
      "3     TH004      0.271369    0.264462  0.269087  0.275570\n",
      "4     TH005      0.264618    0.260792  0.266883  0.269781\n",
      "5     TH006      0.259134    0.256864  0.259724  0.264672\n",
      "6     TH007      0.267481    0.263616  0.266022  0.272019\n",
      "7     TH008      0.263695    0.261133  0.262439  0.263632\n",
      "8     TH009      0.265742    0.258122  0.262719  0.266962\n",
      "9     TH010      0.279575    0.271668  0.272314  0.281910\n"
     ]
    }
   ],
   "source": [
    "median_data_fd = fd_df.pivot(index='ID', columns='Site', values='medians').reset_index()\n",
    "print(median_data_fd)"
   ]
  },
  {
   "cell_type": "code",
   "execution_count": 11,
   "id": "77312281",
   "metadata": {},
   "outputs": [
    {
     "name": "stdout",
     "output_type": "stream",
     "text": [
      "Florey Prisma mean is:  0.2668827116\n",
      "Florey Vida mean is:  0.2624339133\n",
      "MBI mean is:  0.2650178253\n",
      "RCH mean is 0.26990125179999996\n",
      "Florey Prisma std is:  0.005956037237144641\n",
      "Florey Vida std is:  0.005343398189996268\n",
      "MBI std is:  0.004089799134562585\n",
      "RCH std is 0.006179107979356897\n",
      "Florey Prisma CV is:  2.231705906102852\n",
      "Florey Vida CV is:  2.0360928672690215\n",
      "MBI CV is:  1.5432166232339033\n",
      "RCH CV is 2.2893958209336835\n"
     ]
    }
   ],
   "source": [
    "fd_medians_floreyPrisma_cv = (median_data_fd['FloreyPrisma'].std()/median_data_fd['FloreyPrisma'].mean())*100\n",
    "fd_medians_floreyVida_cv = (median_data_fd['FloreyVida'].std()/median_data_fd['FloreyVida'].mean())*100\n",
    "fd_medians_MBI_cv = (median_data_fd['MBI'].std()/median_data_fd['MBI'].mean())*100\n",
    "fd_medians_RCH_cv = (median_data_fd['RCH'].std()/median_data_fd['RCH'].mean())*100\n",
    "\n",
    "print(\"Florey Prisma mean is: \", median_data_fd['FloreyPrisma'].mean())\n",
    "print(\"Florey Vida mean is: \", median_data_fd['FloreyVida'].mean())\n",
    "print(\"MBI mean is: \", median_data_fd['MBI'].mean())\n",
    "print(\"RCH mean is\", median_data_fd['RCH'].mean())\n",
    "\n",
    "print(\"Florey Prisma std is: \", median_data_fd['FloreyPrisma'].std())\n",
    "print(\"Florey Vida std is: \", median_data_fd['FloreyVida'].std())\n",
    "print(\"MBI std is: \", median_data_fd['MBI'].std())\n",
    "print(\"RCH std is\", median_data_fd['RCH'].std())\n",
    "\n",
    "print(\"Florey Prisma CV is: \", fd_medians_floreyPrisma_cv)\n",
    "print(\"Florey Vida CV is: \", fd_medians_floreyVida_cv)\n",
    "print(\"MBI CV is: \", fd_medians_MBI_cv)\n",
    "print(\"RCH CV is\", fd_medians_RCH_cv)"
   ]
  },
  {
   "cell_type": "markdown",
   "id": "128fd68d",
   "metadata": {},
   "source": [
    "### Step 3: ICC across sites"
   ]
  },
  {
   "cell_type": "code",
   "execution_count": 12,
   "id": "f886287a",
   "metadata": {},
   "outputs": [
    {
     "name": "stdout",
     "output_type": "stream",
     "text": [
      "    Type              Description       ICC          F  df1  df2  \\\n",
      "0   ICC1   Single raters absolute  0.772359  14.571561    9   30   \n",
      "1   ICC2     Single random raters  0.781513  55.227319    9   27   \n",
      "2   ICC3      Single fixed raters  0.931304  55.227319    9   27   \n",
      "3  ICC1k  Average raters absolute  0.931373  14.571561    9   30   \n",
      "4  ICC2k    Average random raters  0.934673  55.227319    9   27   \n",
      "5  ICC3k     Average fixed raters  0.981893  55.227319    9   27   \n",
      "\n",
      "           pval         CI95%  \n",
      "0  1.042575e-08  [0.54, 0.93]  \n",
      "1  4.562301e-15  [0.34, 0.94]  \n",
      "2  4.562301e-15  [0.83, 0.98]  \n",
      "3  1.042575e-08  [0.82, 0.98]  \n",
      "4  4.562301e-15  [0.67, 0.98]  \n",
      "5  4.562301e-15  [0.95, 0.99]  \n"
     ]
    }
   ],
   "source": [
    "import pingouin as pg\n",
    "\n",
    "icc_fd_means = pg.intraclass_corr(data=fd_df, targets='ID', raters='Site', ratings='means')\n",
    "print(icc_fd_means)"
   ]
  },
  {
   "cell_type": "code",
   "execution_count": 13,
   "id": "45f70780",
   "metadata": {},
   "outputs": [
    {
     "name": "stdout",
     "output_type": "stream",
     "text": [
      "    Type              Description       ICC          F  df1  df2  \\\n",
      "0   ICC1   Single raters absolute  0.651450   8.476108    9   30   \n",
      "1   ICC2     Single random raters  0.672648  32.998866    9   27   \n",
      "2   ICC3      Single fixed raters  0.888885  32.998866    9   27   \n",
      "3  ICC1k  Average raters absolute  0.882021   8.476108    9   30   \n",
      "4  ICC2k    Average random raters  0.891531  32.998866    9   27   \n",
      "5  ICC3k     Average fixed raters  0.969696  32.998866    9   27   \n",
      "\n",
      "           pval         CI95%  \n",
      "0  3.582894e-06  [0.36, 0.88]  \n",
      "1  2.694607e-12   [0.22, 0.9]  \n",
      "2  2.694607e-12  [0.74, 0.97]  \n",
      "3  3.582894e-06   [0.7, 0.97]  \n",
      "4  2.694607e-12  [0.52, 0.97]  \n",
      "5  2.694607e-12  [0.92, 0.99]  \n"
     ]
    }
   ],
   "source": [
    "icc_fd_medians = pg.intraclass_corr(data=fd_df, targets='ID', raters='Site', ratings='medians')\n",
    "print(icc_fd_medians)"
   ]
  },
  {
   "cell_type": "markdown",
   "id": "123d45fd",
   "metadata": {},
   "source": [
    "### Step 4: Plot means"
   ]
  },
  {
   "cell_type": "code",
   "execution_count": 149,
   "id": "3933edec",
   "metadata": {},
   "outputs": [
    {
     "name": "stderr",
     "output_type": "stream",
     "text": [
      "/var/folders/g8/w52c85dx1fsgxg5681hppls80000gn/T/ipykernel_79666/3652366064.py:11: FutureWarning: \n",
      "\n",
      "Passing `palette` without assigning `hue` is deprecated and will be removed in v0.14.0. Assign the `x` variable to `hue` and set `legend=False` for the same effect.\n",
      "\n",
      "  sns.boxplot(data=fd_df, x=\"Site\", y=\"means\", palette=\"hls\",\n"
     ]
    },
    {
     "data": {
      "text/plain": [
       "Text(0, 0.5, 'Mean FD')"
      ]
     },
     "execution_count": 149,
     "metadata": {},
     "output_type": "execute_result"
    },
    {
     "data": {
      "image/png": "[encoded data removed]",
      "text/plain": [
       "<Figure size 300x400 with 1 Axes>"
      ]
     },
     "metadata": {},
     "output_type": "display_data"
    }
   ],
   "source": [
    "import seaborn as sns\n",
    "import matplotlib.pyplot as plt\n",
    "\n",
    "## Plot means\n",
    "\n",
    "plt.figure(figsize=(3, 4))\n",
    "\n",
    "plt.rcParams['font.family'] = 'Arial'\n",
    "\n",
    "# boxplot\n",
    "sns.boxplot(data=fd_df, x=\"Site\", y=\"means\", palette=\"hls\",\n",
    "            boxprops={'alpha': 0.8})\n",
    "            #whiskerprops=dict(color='grey'))  # Box transparency\n",
    "\n",
    "# lines between IDs\n",
    "sns.lineplot(data=fd_df, x=\"Site\", y=\"means\", hue=\"ID\", marker=\"o\", \n",
    "             palette=\"dark:k\", alpha=0.8, linewidth=1, legend=False)  \n",
    "\n",
    "# dummy labels\n",
    "dummy_labels = [\"Site 1\", \"Site 2\", \"Site 3\", \"Site 4\"]\n",
    "plt.xticks(ticks=range(len(dummy_labels)), labels=dummy_labels)\n",
    "\n",
    "# plot headings\n",
    "plt.title(\"FD\")\n",
    "#plt.xlabel(\"Site\")\n",
    "plt.ylabel(\"Mean FD\")\n",
    "\n",
    "#plt.savefig(os.path.join(output_dir, \"boxplot_fd_means_siteRFs.svg\"), format=\"svg\")\n"
   ]
  },
  {
   "cell_type": "markdown",
   "id": "86da732c",
   "metadata": {},
   "source": [
    "### Step 5: CVws & CVbs"
   ]
  },
  {
   "cell_type": "code",
   "execution_count": 73,
   "id": "681cc846",
   "metadata": {},
   "outputs": [
    {
     "name": "stdout",
     "output_type": "stream",
     "text": [
      "Site  FloreyPrisma  FloreyVida       MBI       RCH\n",
      "0         0.314403    0.310809  0.312476  0.313877\n",
      "1         0.320827    0.321683  0.318773  0.325831\n",
      "2         0.304182    0.298363  0.304115  0.307615\n",
      "3         0.313682    0.307068  0.313410  0.319502\n",
      "4         0.309864    0.306649  0.312728  0.315626\n",
      "5         0.307849    0.305690  0.308616  0.314748\n",
      "6         0.317700    0.314572  0.318100  0.324314\n",
      "7         0.309576    0.307351  0.307606  0.309993\n",
      "8         0.310647    0.303558  0.309455  0.312672\n",
      "9         0.328914    0.322938  0.324115  0.333108\n"
     ]
    }
   ],
   "source": [
    "site_fd = mean_data_fd.iloc[:, 1:]\n",
    "print(site_fd)"
   ]
  },
  {
   "cell_type": "code",
   "execution_count": 79,
   "id": "685328a2",
   "metadata": {},
   "outputs": [
    {
     "name": "stdout",
     "output_type": "stream",
     "text": [
      "1.1223307251518642\n"
     ]
    }
   ],
   "source": [
    "subject_means_fd = site_fd.mean(axis=1)\n",
    "subject_stds_fd = site_fd.std(axis=1, ddof=1)\n",
    "\n",
    "cvws_indiv_fd = subject_stds_fd / subject_means_fd\n",
    "CVws_fd = cvws_indiv_fd.mean() * 100\n",
    "print(CVws_fd)"
   ]
  },
  {
   "cell_type": "code",
   "execution_count": 126,
   "id": "5f69476e",
   "metadata": {},
   "outputs": [
    {
     "name": "stdout",
     "output_type": "stream",
     "text": [
      "1.1796438385971224\n"
     ]
    }
   ],
   "source": [
    "### Alternative CVws from QIBA guidelines\n",
    "subject_var_fd = site_fd.var(axis=1)\n",
    "\n",
    "cvws_squared_indiv_fd = subject_var_fd / (subject_means_fd ** 2)\n",
    "\n",
    "CVws_qiba_fd = np.sqrt(cvws_squared_indiv_fd.mean())*100\n",
    "print(CVws_qiba_fd)"
   ]
  },
  {
   "cell_type": "code",
   "execution_count": 132,
   "id": "0f73a73d",
   "metadata": {},
   "outputs": [
    {
     "name": "stdout",
     "output_type": "stream",
     "text": [
      "1.8261600479579627\n"
     ]
    }
   ],
   "source": [
    "### Alternative CVws from paper\n",
    "wssd = np.sqrt((subject_means_fd ** 2).mean() * (10 / 3))\n",
    "cvws_alt_fd = ( wssd / mean_fd ) \n",
    "print(cvws_alt_fd)\n"
   ]
  },
  {
   "cell_type": "code",
   "execution_count": 78,
   "id": "34ecaa91",
   "metadata": {},
   "outputs": [
    {
     "name": "stdout",
     "output_type": "stream",
     "text": [
      "2.25624128769856\n"
     ]
    }
   ],
   "source": [
    "group_mean_fd = subject_means_fd.mean()\n",
    "group_std_fd = subject_means_fd.std(ddof=1)\n",
    "CVbs_fd = group_std_fd / group_mean_fd * 100\n",
    "print(CVbs_fd)"
   ]
  },
  {
   "cell_type": "markdown",
   "id": "23d8f7c5",
   "metadata": {},
   "source": [
    "### Step 6: ANOVA/linear model"
   ]
  },
  {
   "cell_type": "code",
   "execution_count": null,
   "id": "bbbf72f0",
   "metadata": {},
   "outputs": [
    {
     "name": "stdout",
     "output_type": "stream",
     "text": [
      "Shapiro-Wilk test for FloreyPrisma: p = 0.5345\n",
      "Shapiro-Wilk test for FloreyVida: p = 0.3867\n",
      "Shapiro-Wilk test for MBI: p = 0.8598\n",
      "Shapiro-Wilk test for RCH: p = 0.5727\n"
     ]
    }
   ],
   "source": [
    "## check normality assumptions\n",
    "from scipy.stats import shapiro\n",
    "import pandas as pd\n",
    "\n",
    "# Test normality per site (Shapiro-Wilk test)\n",
    "for site in fd_df['Site'].unique():\n",
    "    stat, p = shapiro(fd_df[fd_df['Site'] == site]['means'])\n",
    "    print(f\"Shapiro-Wilk test for {site}: p = {p:.4f}\")\n",
    "\n",
    "# all normal (p > 0.05)"
   ]
  },
  {
   "cell_type": "code",
   "execution_count": 154,
   "id": "07b934d6",
   "metadata": {},
   "outputs": [
    {
     "name": "stdout",
     "output_type": "stream",
     "text": [
      "            Mixed Linear Model Regression Results\n",
      "==============================================================\n",
      "Model:                MixedLM   Dependent Variable:   means   \n",
      "No. Observations:     40        Method:               REML    \n",
      "No. Groups:           10        Scale:                0.0000  \n",
      "Min. group size:      4         Log-Likelihood:       151.7571\n",
      "Max. group size:      4         Converged:            Yes     \n",
      "Mean group size:      4.0                                     \n",
      "--------------------------------------------------------------\n",
      "                   Coef.  Std.Err.    z    P>|z| [0.025 0.975]\n",
      "--------------------------------------------------------------\n",
      "Intercept           0.314    0.002 136.581 0.000  0.309  0.318\n",
      "Site[T.FloreyVida] -0.004    0.001  -4.576 0.000 -0.006 -0.002\n",
      "Site[T.MBI]        -0.001    0.001  -0.969 0.333 -0.002  0.001\n",
      "Site[T.RCH]         0.004    0.001   4.655 0.000  0.002  0.006\n",
      "Group Var           0.000    0.014                            \n",
      "==============================================================\n",
      "\n"
     ]
    },
    {
     "name": "stderr",
     "output_type": "stream",
     "text": [
      "/Users/remika/opt/anaconda3/lib/python3.9/site-packages/statsmodels/regression/mixed_linear_model.py:2237: ConvergenceWarning: The MLE may be on the boundary of the parameter space.\n",
      "  warnings.warn(msg, ConvergenceWarning)\n",
      "/Users/remika/opt/anaconda3/lib/python3.9/site-packages/statsmodels/iolib/summary2.py:579: FutureWarning: DataFrame.applymap has been deprecated. Use DataFrame.map instead.\n",
      "  dat = dat.applymap(lambda x: _formatter(x, float_format))\n"
     ]
    }
   ],
   "source": [
    "import statsmodels.formula.api as smf\n",
    "\n",
    "# Fit LMM with random effect for ID\n",
    "lmm_df_fd_means = smf.mixedlm(\"means ~ Site\", data=fd_df, groups=fd_df[\"ID\"]).fit()\n",
    "print(lmm_df_fd_means.summary())"
   ]
  },
  {
   "cell_type": "code",
   "execution_count": 155,
   "id": "e1933017",
   "metadata": {},
   "outputs": [
    {
     "name": "stdout",
     "output_type": "stream",
     "text": [
      "              Anova\n",
      "==================================\n",
      "     F Value Num DF  Den DF Pr > F\n",
      "----------------------------------\n",
      "Site 28.9008 3.0000 27.0000 0.0000\n",
      "==================================\n",
      "\n"
     ]
    },
    {
     "name": "stderr",
     "output_type": "stream",
     "text": [
      "/Users/remika/opt/anaconda3/lib/python3.9/site-packages/statsmodels/iolib/summary2.py:579: FutureWarning: DataFrame.applymap has been deprecated. Use DataFrame.map instead.\n",
      "  dat = dat.applymap(lambda x: _formatter(x, float_format))\n"
     ]
    }
   ],
   "source": [
    "# repoeated-measures ANOVA\n",
    "\n",
    "from statsmodels.stats.anova import AnovaRM\n",
    "\n",
    "anova_rm_df1 = AnovaRM(data=fd_df, depvar=\"means\", subject=\"ID\", within=[\"Site\"]).fit()\n",
    "print(anova_rm_df1)"
   ]
  },
  {
   "cell_type": "code",
   "execution_count": 156,
   "id": "02b1e3b1",
   "metadata": {},
   "outputs": [
    {
     "name": "stdout",
     "output_type": "stream",
     "text": [
      "     Multiple Comparison of Means - Tukey HSD, FWER=0.05     \n",
      "=============================================================\n",
      "   group1      group2   meandiff p-adj   lower  upper  reject\n",
      "-------------------------------------------------------------\n",
      "FloreyPrisma FloreyVida  -0.0039 0.6313 -0.0126 0.0049  False\n",
      "FloreyPrisma        MBI  -0.0008 0.9942 -0.0096 0.0079  False\n",
      "FloreyPrisma        RCH    0.004 0.6183 -0.0048 0.0127  False\n",
      "  FloreyVida        MBI   0.0031 0.7807 -0.0057 0.0118  False\n",
      "  FloreyVida        RCH   0.0079 0.0914 -0.0009 0.0166  False\n",
      "         MBI        RCH   0.0048 0.4632  -0.004 0.0135  False\n",
      "-------------------------------------------------------------\n"
     ]
    }
   ],
   "source": [
    "from statsmodels.stats.multicomp import pairwise_tukeyhsd\n",
    "\n",
    "# Perform Tukey's HSD test for post-hoc pairwise comparisons\n",
    "tukey_df1 = pairwise_tukeyhsd(fd_df[\"means\"], fd_df[\"Site\"], alpha=0.05)\n",
    "print(tukey_df1)"
   ]
  },
  {
   "cell_type": "markdown",
   "id": "c30fd4b4",
   "metadata": {},
   "source": [
    "## **Whole-brain FC**"
   ]
  },
  {
   "cell_type": "markdown",
   "id": "45147dad",
   "metadata": {},
   "source": [
    "### Step 1: Compute means & CV"
   ]
  },
  {
   "cell_type": "code",
   "execution_count": 15,
   "id": "61678215",
   "metadata": {},
   "outputs": [
    {
     "name": "stdout",
     "output_type": "stream",
     "text": [
      "mean value for FC (whole-brain mean) is:  1.0467763\n",
      "std for FC (whole-brain mean) is:  0.06476281891530365\n",
      "CV for FC (whole-brain mean) is:  6.186882423236335\n"
     ]
    }
   ],
   "source": [
    "# CV of mean FC\n",
    "mean_fc = fc_df['means'].mean()\n",
    "std_fc = fc_df['means'].std(ddof=1)\n",
    "cv_fc = std_fc/mean_fc*100\n",
    "\n",
    "print(\"mean value for FC (whole-brain mean) is: \", mean_fc)\n",
    "print(\"std for FC (whole-brain mean) is: \", std_fc)\n",
    "print(\"CV for FC (whole-brain mean) is: \", cv_fc)"
   ]
  },
  {
   "cell_type": "code",
   "execution_count": 16,
   "id": "cb09f806",
   "metadata": {},
   "outputs": [
    {
     "name": "stdout",
     "output_type": "stream",
     "text": [
      "mean value for FC (whole-brain median) is:  1.031186389975\n",
      "std for FC (whole-brain median) is:  0.06230604860960702\n",
      "CV for FC (whole-brain median) is:  6.042171348975772\n"
     ]
    }
   ],
   "source": [
    "# CV of median FC\n",
    "mean_fc_medians = fc_df['medians'].mean()\n",
    "std_fc_medians = fc_df['medians'].std(ddof=1)\n",
    "cv_fc_medians = std_fc_medians/mean_fc_medians*100\n",
    "\n",
    "print(\"mean value for FC (whole-brain median) is: \", mean_fc_medians)\n",
    "print(\"std for FC (whole-brain median) is: \", std_fc_medians)\n",
    "print(\"CV for FC (whole-brain median) is: \", cv_fc_medians)"
   ]
  },
  {
   "cell_type": "markdown",
   "id": "d0af3e6a",
   "metadata": {},
   "source": [
    "### Step 2: CV per site"
   ]
  },
  {
   "cell_type": "code",
   "execution_count": 17,
   "id": "9dc61cf8",
   "metadata": {},
   "outputs": [
    {
     "name": "stdout",
     "output_type": "stream",
     "text": [
      "Site     ID  FloreyPrisma  FloreyVida       MBI       RCH\n",
      "0     TH001      0.999014    0.994907  0.990251  0.996313\n",
      "1     TH002      1.046310    1.055630  1.041510  1.042890\n",
      "2     TH003      0.968249    0.971072  0.950948  0.971198\n",
      "3     TH004      1.114220    1.109440  1.109910  1.114680\n",
      "4     TH005      1.003260    1.002560  1.006080  1.010000\n",
      "5     TH006      1.018380    1.019070  1.006790  1.027750\n",
      "6     TH007      1.002780    1.003240  0.999140  1.008290\n",
      "7     TH008      1.032370    1.036930  1.020120  1.029670\n",
      "8     TH009      1.113320    1.106100  1.104220  1.114340\n",
      "9     TH010      1.184310    1.184260  1.175370  1.186160\n"
     ]
    }
   ],
   "source": [
    "mean_data_fc = fc_df.pivot(index='ID', columns='Site', values='means').reset_index()\n",
    "print(mean_data_fc)"
   ]
  },
  {
   "cell_type": "code",
   "execution_count": 18,
   "id": "dfcae608",
   "metadata": {},
   "outputs": [
    {
     "name": "stdout",
     "output_type": "stream",
     "text": [
      "Florey Prisma mean is:  1.0482213\n",
      "Florey Vida mean is:  1.0483209\n",
      "MBI mean is:  1.0404339\n",
      "RCH mean is 1.0501291\n",
      "Florey Prisma std is:  0.06762854489382093\n",
      "Florey Vida std is:  0.0662813725842756\n",
      "MBI std is:  0.06836218660186995\n",
      "RCH std is 0.0668773451965944\n",
      "Florey Prisma CV is:  6.451743052141845\n",
      "Florey Vida CV is:  6.322622451224201\n",
      "MBI CV is:  6.570545865707561\n",
      "RCH CV is 6.368487950347667\n"
     ]
    }
   ],
   "source": [
    "fc_means_floreyPrisma_cv = (mean_data_fc['FloreyPrisma'].std()/mean_data_fc['FloreyPrisma'].mean())*100\n",
    "fc_means_floreyVida_cv = (mean_data_fc['FloreyVida'].std()/mean_data_fc['FloreyVida'].mean())*100\n",
    "fc_means_MBI_cv = (mean_data_fc['MBI'].std()/mean_data_fc['MBI'].mean())*100\n",
    "fc_means_RCH_cv = (mean_data_fc['RCH'].std()/mean_data_fc['RCH'].mean())*100\n",
    "\n",
    "print(\"Florey Prisma mean is: \", mean_data_fc['FloreyPrisma'].mean())\n",
    "print(\"Florey Vida mean is: \", mean_data_fc['FloreyVida'].mean())\n",
    "print(\"MBI mean is: \", mean_data_fc['MBI'].mean())\n",
    "print(\"RCH mean is\", mean_data_fc['RCH'].mean())\n",
    "\n",
    "print(\"Florey Prisma std is: \", mean_data_fc['FloreyPrisma'].std())\n",
    "print(\"Florey Vida std is: \", mean_data_fc['FloreyVida'].std())\n",
    "print(\"MBI std is: \", mean_data_fc['MBI'].std())\n",
    "print(\"RCH std is\", mean_data_fc['RCH'].std())\n",
    "\n",
    "print(\"Florey Prisma CV is: \", fc_means_floreyPrisma_cv)\n",
    "print(\"Florey Vida CV is: \", fc_means_floreyVida_cv)\n",
    "print(\"MBI CV is: \", fc_means_MBI_cv)\n",
    "print(\"RCH CV is\", fc_means_RCH_cv)"
   ]
  },
  {
   "cell_type": "code",
   "execution_count": 26,
   "id": "3e196647",
   "metadata": {},
   "outputs": [
    {
     "name": "stdout",
     "output_type": "stream",
     "text": [
      "Site     ID  FloreyPrisma  FloreyVida       MBI       RCH\n",
      "0     TH001      0.990130    0.985223  0.980540  0.988203\n",
      "1     TH002      1.030089    1.037235  1.022114  1.025013\n",
      "2     TH003      0.952845    0.956551  0.931992  0.955161\n",
      "3     TH004      1.099750    1.096358  1.094977  1.099341\n",
      "4     TH005      0.987585    0.987542  0.989856  0.994876\n",
      "5     TH006      1.002067    1.004879  0.991958  1.010560\n",
      "6     TH007      0.991483    0.992432  0.988376  0.997559\n",
      "7     TH008      1.019357    1.023745  1.007992  1.017585\n",
      "8     TH009      1.091826    1.082200  1.080140  1.093010\n",
      "9     TH010      1.164239    1.162609  1.154112  1.165946\n"
     ]
    }
   ],
   "source": [
    "median_data_fc = fc_df.pivot(index='ID', columns='Site', values='medians').reset_index()\n",
    "print(median_data_fc)"
   ]
  },
  {
   "cell_type": "code",
   "execution_count": 27,
   "id": "93c9846f",
   "metadata": {},
   "outputs": [
    {
     "name": "stdout",
     "output_type": "stream",
     "text": [
      "Florey Prisma mean is:  1.0329370494\n",
      "Florey Vida mean is:  1.0328773015000001\n",
      "MBI mean is:  1.0242058754000003\n",
      "RCH mean is 1.0347253336\n",
      "Florey Prisma std is:  0.06526861692311926\n",
      "Florey Vida std is:  0.06321646354378309\n",
      "MBI std is:  0.06599133993975394\n",
      "RCH std is 0.06431468814043255\n",
      "Florey Prisma CV is:  6.318741007598836\n",
      "Florey Vida CV is:  6.1204233505738515\n",
      "MBI CV is:  6.443171390125177\n",
      "RCH CV is 6.215629022696285\n"
     ]
    }
   ],
   "source": [
    "fc_medians_floreyPrisma_cv = (median_data_fc['FloreyPrisma'].std()/median_data_fc['FloreyPrisma'].mean())*100\n",
    "fc_medians_floreyVida_cv = (median_data_fc['FloreyVida'].std()/median_data_fc['FloreyVida'].mean())*100\n",
    "fc_medians_MBI_cv = (median_data_fc['MBI'].std()/median_data_fc['MBI'].mean())*100\n",
    "fc_medians_RCH_cv = (median_data_fc['RCH'].std()/median_data_fc['RCH'].mean())*100\n",
    "\n",
    "print(\"Florey Prisma mean is: \", median_data_fc['FloreyPrisma'].mean())\n",
    "print(\"Florey Vida mean is: \", median_data_fc['FloreyVida'].mean())\n",
    "print(\"MBI mean is: \", median_data_fc['MBI'].mean())\n",
    "print(\"RCH mean is\", median_data_fc['RCH'].mean())\n",
    "\n",
    "print(\"Florey Prisma std is: \", median_data_fc['FloreyPrisma'].std())\n",
    "print(\"Florey Vida std is: \", median_data_fc['FloreyVida'].std())\n",
    "print(\"MBI std is: \", median_data_fc['MBI'].std())\n",
    "print(\"RCH std is\", median_data_fc['RCH'].std())\n",
    "\n",
    "print(\"Florey Prisma CV is: \", fc_medians_floreyPrisma_cv)\n",
    "print(\"Florey Vida CV is: \", fc_medians_floreyVida_cv)\n",
    "print(\"MBI CV is: \", fc_medians_MBI_cv)\n",
    "print(\"RCH CV is\", fc_medians_RCH_cv)"
   ]
  },
  {
   "cell_type": "markdown",
   "id": "d1e2eaea",
   "metadata": {},
   "source": [
    "### Step 3: ICC across sites"
   ]
  },
  {
   "cell_type": "code",
   "execution_count": 19,
   "id": "5d7fd3f5",
   "metadata": {},
   "outputs": [
    {
     "name": "stdout",
     "output_type": "stream",
     "text": [
      "    Type              Description       ICC           F  df1  df2  \\\n",
      "0   ICC1   Single raters absolute  0.992179  508.466252    9   30   \n",
      "1   ICC2     Single random raters  0.992187  963.598441    9   27   \n",
      "2   ICC3      Single fixed raters  0.995862  963.598441    9   27   \n",
      "3  ICC1k  Average raters absolute  0.998033  508.466252    9   30   \n",
      "4  ICC2k    Average random raters  0.998035  963.598441    9   27   \n",
      "5  ICC3k     Average fixed raters  0.998962  963.598441    9   27   \n",
      "\n",
      "           pval        CI95%  \n",
      "0  2.871376e-30  [0.98, 1.0]  \n",
      "1  1.810810e-31  [0.97, 1.0]  \n",
      "2  1.810810e-31  [0.99, 1.0]  \n",
      "3  2.871376e-30  [0.99, 1.0]  \n",
      "4  1.810810e-31  [0.99, 1.0]  \n",
      "5  1.810810e-31   [1.0, 1.0]  \n"
     ]
    }
   ],
   "source": [
    "icc_fc_means = pg.intraclass_corr(data=fc_df, targets='ID', raters='Site', ratings='means')\n",
    "print(icc_fc_means)"
   ]
  },
  {
   "cell_type": "code",
   "execution_count": 20,
   "id": "32be55a4",
   "metadata": {},
   "outputs": [
    {
     "name": "stdout",
     "output_type": "stream",
     "text": [
      "    Type              Description       ICC           F  df1  df2  \\\n",
      "0   ICC1   Single raters absolute  0.990443  415.532503    9   30   \n",
      "1   ICC2     Single random raters  0.990454  845.245189    9   27   \n",
      "2   ICC3      Single fixed raters  0.995284  845.245189    9   27   \n",
      "3  ICC1k  Average raters absolute  0.997593  415.532503    9   30   \n",
      "4  ICC2k    Average random raters  0.997596  845.245189    9   27   \n",
      "5  ICC3k     Average fixed raters  0.998817  845.245189    9   27   \n",
      "\n",
      "           pval        CI95%  \n",
      "0  5.772869e-29  [0.98, 1.0]  \n",
      "1  1.054487e-30  [0.96, 1.0]  \n",
      "2  1.054487e-30  [0.99, 1.0]  \n",
      "3  5.772869e-29  [0.99, 1.0]  \n",
      "4  1.054487e-30  [0.99, 1.0]  \n",
      "5  1.054487e-30   [1.0, 1.0]  \n"
     ]
    }
   ],
   "source": [
    "icc_fc_medians = pg.intraclass_corr(data=fc_df, targets='ID', raters='Site', ratings='medians')\n",
    "print(icc_fc_medians)"
   ]
  },
  {
   "cell_type": "markdown",
   "id": "9412e037",
   "metadata": {},
   "source": [
    "### Step 4: Plot means"
   ]
  },
  {
   "cell_type": "code",
   "execution_count": 34,
   "id": "1c05d9fc",
   "metadata": {},
   "outputs": [
    {
     "name": "stderr",
     "output_type": "stream",
     "text": [
      "/var/folders/g8/w52c85dx1fsgxg5681hppls80000gn/T/ipykernel_79666/1197214056.py:8: FutureWarning: \n",
      "\n",
      "Passing `palette` without assigning `hue` is deprecated and will be removed in v0.14.0. Assign the `x` variable to `hue` and set `legend=False` for the same effect.\n",
      "\n",
      "  sns.boxplot(data=fc_df, x=\"Site\", y=\"means\", palette=\"hls\",\n"
     ]
    },
    {
     "data": {
      "image/png": "[encoded data removed]",
      "text/plain": [
       "<Figure size 300x400 with 1 Axes>"
      ]
     },
     "metadata": {},
     "output_type": "display_data"
    }
   ],
   "source": [
    "## Plot means\n",
    "\n",
    "plt.figure(figsize=(3, 4))\n",
    "\n",
    "plt.rcParams['font.family'] = 'Arial'\n",
    "\n",
    "# boxplot\n",
    "sns.boxplot(data=fc_df, x=\"Site\", y=\"means\", palette=\"hls\", \n",
    "            boxprops={'alpha': 0.8})  # Box transparency\n",
    "\n",
    "# lines between IDs\n",
    "sns.lineplot(data=fc_df, x=\"Site\", y=\"means\", hue=\"ID\", marker=\"o\", \n",
    "             palette=\"dark:k\", alpha=0.8, linewidth=1, legend=False)  \n",
    "\n",
    "# dummy labels\n",
    "dummy_labels = [\"Site 1\", \"Site 2\", \"Site 3\", \"Site 4\"]\n",
    "plt.xticks(ticks=range(len(dummy_labels)), labels=dummy_labels)\n",
    "\n",
    "# plot headings\n",
    "plt.title(\"Mean FC by site\")\n",
    "#plt.xlabel(\"Site\")\n",
    "plt.ylabel(\"Mean FC\")\n",
    "\n",
    "plt.savefig(os.path.join(output_dir, \"boxplot_fc_means_siteRFs.svg\"), format=\"svg\")\n"
   ]
  },
  {
   "cell_type": "markdown",
   "id": "6d64dc60",
   "metadata": {},
   "source": [
    "### Step 5: CVws & CVbs"
   ]
  },
  {
   "cell_type": "code",
   "execution_count": 90,
   "id": "f452f6d1",
   "metadata": {},
   "outputs": [
    {
     "name": "stdout",
     "output_type": "stream",
     "text": [
      "Site  FloreyPrisma  FloreyVida       MBI       RCH\n",
      "0         0.999014    0.994907  0.990251  0.996313\n",
      "1         1.046310    1.055630  1.041510  1.042890\n",
      "2         0.968249    0.971072  0.950948  0.971198\n",
      "3         1.114220    1.109440  1.109910  1.114680\n",
      "4         1.003260    1.002560  1.006080  1.010000\n",
      "5         1.018380    1.019070  1.006790  1.027750\n",
      "6         1.002780    1.003240  0.999140  1.008290\n",
      "7         1.032370    1.036930  1.020120  1.029670\n",
      "8         1.113320    1.106100  1.104220  1.114340\n",
      "9         1.184310    1.184260  1.175370  1.186160\n"
     ]
    }
   ],
   "source": [
    "site_fc = mean_data_fc.iloc[:, 1:]\n",
    "print(site_fc)"
   ]
  },
  {
   "cell_type": "code",
   "execution_count": 91,
   "id": "c4523b47",
   "metadata": {},
   "outputs": [
    {
     "name": "stdout",
     "output_type": "stream",
     "text": [
      "0.5344370826371253\n"
     ]
    }
   ],
   "source": [
    "subject_means_fc = site_fc.mean(axis=1)\n",
    "subject_stds_fc = site_fc.std(axis=1, ddof=1)\n",
    "\n",
    "cvws_indiv_fc = subject_stds_fc / subject_means_fc\n",
    "CVws_fc = cvws_indiv_fc.mean() * 100\n",
    "print(CVws_fc)"
   ]
  },
  {
   "cell_type": "code",
   "execution_count": 133,
   "id": "82b8c062",
   "metadata": {},
   "outputs": [
    {
     "name": "stdout",
     "output_type": "stream",
     "text": [
      "0.583022048982416\n"
     ]
    }
   ],
   "source": [
    "### Alternative CVws from QIBA guidelines\n",
    "subject_var_fc = site_fc.var(axis=1)\n",
    "\n",
    "cvws_squared_indiv_fc = subject_var_fc / (subject_means_fc ** 2)\n",
    "\n",
    "CVws_qiba_fc = np.sqrt(cvws_squared_indiv_fc.mean())*100\n",
    "print(CVws_qiba_fc)"
   ]
  },
  {
   "cell_type": "code",
   "execution_count": 92,
   "id": "d955f924",
   "metadata": {},
   "outputs": [
    {
     "name": "stdout",
     "output_type": "stream",
     "text": [
      "6.418506975828368\n"
     ]
    }
   ],
   "source": [
    "group_mean_fc = subject_means_fc.mean()\n",
    "group_std_fc = subject_means_fc.std(ddof=1)\n",
    "CVbs_fc = group_std_fc / group_mean_fc * 100\n",
    "print(CVbs_fc)"
   ]
  },
  {
   "cell_type": "markdown",
   "id": "f1fe80bb",
   "metadata": {},
   "source": [
    "## **Whole-brain FDC**"
   ]
  },
  {
   "cell_type": "markdown",
   "id": "bf20fe76",
   "metadata": {},
   "source": [
    "### Step 1: Compute means & CV"
   ]
  },
  {
   "cell_type": "code",
   "execution_count": 22,
   "id": "7af4ddef",
   "metadata": {},
   "outputs": [
    {
     "name": "stdout",
     "output_type": "stream",
     "text": [
      "mean value for FDC (whole-brain mean) is:  0.327885625\n",
      "std for FDC (whole-brain mean) is:  0.026362740366376935\n",
      "CV for FDC (whole-brain mean) is:  8.040224504010181\n"
     ]
    }
   ],
   "source": [
    "# CV of mean FDC\n",
    "mean_fdc = fdc_df['means'].mean()\n",
    "std_fdc = fdc_df['means'].std(ddof=1)\n",
    "cv_fdc = std_fdc/mean_fdc*100\n",
    "\n",
    "print(\"mean value for FDC (whole-brain mean) is: \", mean_fdc)\n",
    "print(\"std for FDC (whole-brain mean) is: \", std_fdc)\n",
    "print(\"CV for FDC (whole-brain mean) is: \", cv_fdc)"
   ]
  },
  {
   "cell_type": "code",
   "execution_count": 23,
   "id": "6fc0a2c8",
   "metadata": {},
   "outputs": [
    {
     "name": "stdout",
     "output_type": "stream",
     "text": [
      "mean value for FDC (whole-brain median) is:  0.27714511342500003\n",
      "std for FDC (whole-brain median) is:  0.02089250366884073\n",
      "CV for FDC (whole-brain median) is:  7.538470879261807\n"
     ]
    }
   ],
   "source": [
    "# CV of median FC\n",
    "mean_fdc_medians = fdc_df['medians'].mean()\n",
    "std_fdc_medians = fdc_df['medians'].std(ddof=1)\n",
    "cv_fdc_medians = std_fdc_medians/mean_fdc_medians*100\n",
    "\n",
    "print(\"mean value for FDC (whole-brain median) is: \", mean_fdc_medians)\n",
    "print(\"std for FDC (whole-brain median) is: \", std_fdc_medians)\n",
    "print(\"CV for FDC (whole-brain median) is: \", cv_fdc_medians)"
   ]
  },
  {
   "cell_type": "markdown",
   "id": "294f032b",
   "metadata": {},
   "source": [
    "### Step 2: CV per site"
   ]
  },
  {
   "cell_type": "code",
   "execution_count": 24,
   "id": "8ebcdb46",
   "metadata": {},
   "outputs": [
    {
     "name": "stdout",
     "output_type": "stream",
     "text": [
      "Site     ID  FloreyPrisma  FloreyVida       MBI       RCH\n",
      "0     TH001      0.315000    0.309980  0.310672  0.313956\n",
      "1     TH002      0.336412    0.340711  0.333051  0.340784\n",
      "2     TH003      0.294670    0.290205  0.289126  0.299237\n",
      "3     TH004      0.349207    0.339754  0.348012  0.356805\n",
      "4     TH005      0.307753    0.304296  0.311755  0.316226\n",
      "5     TH006      0.313403    0.311067  0.310648  0.323852\n",
      "6     TH007      0.315276    0.312087  0.314837  0.324129\n",
      "7     TH008      0.316741    0.316309  0.311088  0.316664\n",
      "8     TH009      0.345308    0.334523  0.341300  0.348182\n",
      "9     TH010      0.390437    0.383755  0.381278  0.396929\n"
     ]
    }
   ],
   "source": [
    "mean_data_fdc = fdc_df.pivot(index='ID', columns='Site', values='means').reset_index()\n",
    "print(mean_data_fdc)"
   ]
  },
  {
   "cell_type": "code",
   "execution_count": null,
   "id": "76ee0c7f",
   "metadata": {},
   "outputs": [
    {
     "name": "stdout",
     "output_type": "stream",
     "text": [
      "Florey Prisma mean is:  0.3284207\n",
      "Florey Vida mean is:  0.3242686999999999\n",
      "MBI mean is:  0.3251767\n",
      "RCH mean is 0.3336764\n",
      "Florey Prisma std is:  0.027705278510501283\n",
      "Florey Vida std is:  0.02646456997173559\n",
      "MBI std is:  0.026241268393505678\n",
      "RCH std is 0.028192454267055213\n",
      "Florey Prisma CV is:  8.435911168358535\n",
      "Florey Vida CV is:  8.1613088070898\n",
      "MBI CV is:  8.069848913992201\n",
      "RCH CV is 8.449040527605552\n"
     ]
    }
   ],
   "source": [
    "fdc_means_floreyPrisma_cv = (mean_data_fdc['FloreyPrisma'].std()/mean_data_fdc['FloreyPrisma'].mean())*100\n",
    "fdc_means_floreyVida_cv = (mean_data_fdc['FloreyVida'].std()/mean_data_fdc['FloreyVida'].mean())*100\n",
    "fdc_means_MBI_cv = (mean_data_fdc['MBI'].std()/mean_data_fdc['MBI'].mean())*100\n",
    "fdc_means_RCH_cv = (mean_data_fdc['RCH'].std()/mean_data_fdc['RCH'].mean())*100\n",
    "\n",
    "print(\"Florey Prisma mean is: \", mean_data_fdc['FloreyPrisma'].mean())\n",
    "print(\"Florey Vida mean is: \", mean_data_fdc['FloreyVida'].mean())\n",
    "print(\"MBI mean is: \", mean_data_fdc['MBI'].mean())\n",
    "print(\"RCH mean is\", mean_data_fdc['RCH'].mean())\n",
    "\n",
    "print(\"Florey Prisma std is: \", mean_data_fdc['FloreyPrisma'].std())\n",
    "print(\"Florey Vida std is: \", mean_data_fdc['FloreyVida'].std())\n",
    "print(\"MBI std is: \", mean_data_fdc['MBI'].std())\n",
    "print(\"RCH std is\", mean_data_fdc['RCH'].std())\n",
    "\n",
    "print(\"Florey Prisma CV is: \", fdc_means_floreyPrisma_cv)\n",
    "print(\"Florey Vida CV is: \", fdc_means_floreyVida_cv)\n",
    "print(\"MBI CV is: \", fdc_means_MBI_cv)\n",
    "print(\"RCH CV is\", fdc_means_RCH_cv)"
   ]
  },
  {
   "cell_type": "code",
   "execution_count": 28,
   "id": "dd8dbf8a",
   "metadata": {},
   "outputs": [
    {
     "name": "stdout",
     "output_type": "stream",
     "text": [
      "Site     ID  FloreyPrisma  FloreyVida       MBI       RCH\n",
      "0     TH001      0.265139    0.261299  0.260027  0.263262\n",
      "1     TH002      0.281717    0.282686  0.276907  0.284707\n",
      "2     TH003      0.252760    0.248556  0.248518  0.256147\n",
      "3     TH004      0.300107    0.290949  0.296846  0.303782\n",
      "4     TH005      0.264922    0.261640  0.268198  0.271615\n",
      "5     TH006      0.261110    0.258956  0.259024  0.268826\n",
      "6     TH007      0.266669    0.263770  0.265168  0.273244\n",
      "7     TH008      0.271224    0.268770  0.266708  0.269870\n",
      "8     TH009      0.293392    0.283648  0.287974  0.294718\n",
      "9     TH010      0.327077    0.318149  0.317783  0.329937\n"
     ]
    }
   ],
   "source": [
    "median_data_fdc = fdc_df.pivot(index='ID', columns='Site', values='medians').reset_index()\n",
    "print(median_data_fdc)"
   ]
  },
  {
   "cell_type": "code",
   "execution_count": 29,
   "id": "525f9674",
   "metadata": {},
   "outputs": [
    {
     "name": "stdout",
     "output_type": "stream",
     "text": [
      "Florey Prisma mean is:  0.27841186519999994\n",
      "Florey Vida mean is:  0.2738424437\n",
      "MBI mean is:  0.27471536099999994\n",
      "RCH mean is 0.28161078380000004\n",
      "Florey Prisma std is:  0.022557160550235242\n",
      "Florey Vida std is:  0.020342934873487258\n",
      "MBI std is:  0.020739643035755956\n",
      "RCH std is 0.02227267920300678\n",
      "Florey Prisma CV is:  8.102083053835036\n",
      "Florey Vida CV is:  7.428700459514362\n",
      "MBI CV is:  7.549502496060262\n",
      "RCH CV is 7.909029229088342\n"
     ]
    }
   ],
   "source": [
    "fdc_medians_floreyPrisma_cv = (median_data_fdc['FloreyPrisma'].std()/median_data_fdc['FloreyPrisma'].mean())*100\n",
    "fdc_medians_floreyVida_cv = (median_data_fdc['FloreyVida'].std()/median_data_fdc['FloreyVida'].mean())*100\n",
    "fdc_medians_MBI_cv = (median_data_fdc['MBI'].std()/median_data_fdc['MBI'].mean())*100\n",
    "fdc_medians_RCH_cv = (median_data_fdc['RCH'].std()/median_data_fdc['RCH'].mean())*100\n",
    "\n",
    "print(\"Florey Prisma mean is: \", median_data_fdc['FloreyPrisma'].mean())\n",
    "print(\"Florey Vida mean is: \", median_data_fdc['FloreyVida'].mean())\n",
    "print(\"MBI mean is: \", median_data_fdc['MBI'].mean())\n",
    "print(\"RCH mean is\", median_data_fdc['RCH'].mean())\n",
    "\n",
    "print(\"Florey Prisma std is: \", median_data_fdc['FloreyPrisma'].std())\n",
    "print(\"Florey Vida std is: \", median_data_fdc['FloreyVida'].std())\n",
    "print(\"MBI std is: \", median_data_fdc['MBI'].std())\n",
    "print(\"RCH std is\", median_data_fdc['RCH'].std())\n",
    "\n",
    "print(\"Florey Prisma CV is: \", fdc_medians_floreyPrisma_cv)\n",
    "print(\"Florey Vida CV is: \", fdc_medians_floreyVida_cv)\n",
    "print(\"MBI CV is: \", fdc_medians_MBI_cv)\n",
    "print(\"RCH CV is\", fdc_medians_RCH_cv)"
   ]
  },
  {
   "cell_type": "markdown",
   "id": "528aa0ad",
   "metadata": {},
   "source": [
    "### Step 3: ICC across sites"
   ]
  },
  {
   "cell_type": "code",
   "execution_count": 30,
   "id": "5d28b2ca",
   "metadata": {},
   "outputs": [
    {
     "name": "stdout",
     "output_type": "stream",
     "text": [
      "    Type              Description       ICC           F  df1  df2  \\\n",
      "0   ICC1   Single raters absolute  0.963444  106.421957    9   30   \n",
      "1   ICC2     Single random raters  0.963651  280.796210    9   27   \n",
      "2   ICC3      Single fixed raters  0.985905  280.796210    9   27   \n",
      "3  ICC1k  Average raters absolute  0.990603  106.421957    9   30   \n",
      "4  ICC2k    Average random raters  0.990658  280.796210    9   27   \n",
      "5  ICC3k     Average fixed raters  0.996439  280.796210    9   27   \n",
      "\n",
      "           pval         CI95%  \n",
      "0  2.841945e-20  [0.91, 0.99]  \n",
      "1  2.706895e-24  [0.84, 0.99]  \n",
      "2  2.706895e-24   [0.96, 1.0]  \n",
      "3  2.841945e-20   [0.98, 1.0]  \n",
      "4  2.706895e-24   [0.95, 1.0]  \n",
      "5  2.706895e-24   [0.99, 1.0]  \n"
     ]
    }
   ],
   "source": [
    "icc_fdc_means = pg.intraclass_corr(data=fdc_df, targets='ID', raters='Site', ratings='means')\n",
    "print(icc_fdc_means)"
   ]
  },
  {
   "cell_type": "code",
   "execution_count": 31,
   "id": "8bddcf09",
   "metadata": {},
   "outputs": [
    {
     "name": "stdout",
     "output_type": "stream",
     "text": [
      "    Type              Description       ICC           F  df1  df2  \\\n",
      "0   ICC1   Single raters absolute  0.960729   98.856644    9   30   \n",
      "1   ICC2     Single random raters  0.960981  287.730670    9   27   \n",
      "2   ICC3      Single fixed raters  0.986242  287.730670    9   27   \n",
      "3  ICC1k  Average raters absolute  0.989884   98.856644    9   30   \n",
      "4  ICC2k    Average random raters  0.989951  287.730670    9   27   \n",
      "5  ICC3k     Average fixed raters  0.996525  287.730670    9   27   \n",
      "\n",
      "           pval         CI95%  \n",
      "0  8.233274e-20   [0.9, 0.99]  \n",
      "1  1.955664e-24  [0.82, 0.99]  \n",
      "2  1.955664e-24   [0.96, 1.0]  \n",
      "3  8.233274e-20   [0.97, 1.0]  \n",
      "4  1.955664e-24   [0.95, 1.0]  \n",
      "5  1.955664e-24   [0.99, 1.0]  \n"
     ]
    }
   ],
   "source": [
    "icc_fdc_medians = pg.intraclass_corr(data=fdc_df, targets='ID', raters='Site', ratings='medians')\n",
    "print(icc_fdc_medians)"
   ]
  },
  {
   "cell_type": "markdown",
   "id": "33ae852a",
   "metadata": {},
   "source": [
    "### Step 4: Plot means"
   ]
  },
  {
   "cell_type": "code",
   "execution_count": 35,
   "id": "80743777",
   "metadata": {},
   "outputs": [
    {
     "name": "stderr",
     "output_type": "stream",
     "text": [
      "/var/folders/g8/w52c85dx1fsgxg5681hppls80000gn/T/ipykernel_79666/53860655.py:8: FutureWarning: \n",
      "\n",
      "Passing `palette` without assigning `hue` is deprecated and will be removed in v0.14.0. Assign the `x` variable to `hue` and set `legend=False` for the same effect.\n",
      "\n",
      "  sns.boxplot(data=fdc_df, x=\"Site\", y=\"means\", palette=\"hls\",\n"
     ]
    },
    {
     "data": {
      "image/png": "[encoded data removed]",
      "text/plain": [
       "<Figure size 300x400 with 1 Axes>"
      ]
     },
     "metadata": {},
     "output_type": "display_data"
    }
   ],
   "source": [
    "## Plot means\n",
    "\n",
    "plt.figure(figsize=(3, 4))\n",
    "\n",
    "plt.rcParams['font.family'] = 'Arial'\n",
    "\n",
    "# boxplot\n",
    "sns.boxplot(data=fdc_df, x=\"Site\", y=\"means\", palette=\"hls\", \n",
    "            boxprops={'alpha': 0.8})  # Box transparency\n",
    "\n",
    "# lines between IDs\n",
    "sns.lineplot(data=fdc_df, x=\"Site\", y=\"means\", hue=\"ID\", marker=\"o\", \n",
    "             palette=\"dark:k\", alpha=0.8, linewidth=1, legend=False)  \n",
    "\n",
    "# dummy labels\n",
    "dummy_labels = [\"Site 1\", \"Site 2\", \"Site 3\", \"Site 4\"]\n",
    "plt.xticks(ticks=range(len(dummy_labels)), labels=dummy_labels)\n",
    "\n",
    "# plot headings\n",
    "plt.title(\"Mean FDC by site\")\n",
    "#plt.xlabel(\"Site\")\n",
    "plt.ylabel(\"Mean FDC\")\n",
    "\n",
    "plt.savefig(os.path.join(output_dir, \"boxplot_fdc_means_siteRFs.svg\"), format=\"svg\")\n"
   ]
  },
  {
   "cell_type": "markdown",
   "id": "dfd314e5",
   "metadata": {},
   "source": [
    "### Step 5: CVws & CVbs"
   ]
  },
  {
   "cell_type": "code",
   "execution_count": 93,
   "id": "63af92eb",
   "metadata": {},
   "outputs": [
    {
     "name": "stdout",
     "output_type": "stream",
     "text": [
      "Site  FloreyPrisma  FloreyVida       MBI       RCH\n",
      "0         0.315000    0.309980  0.310672  0.313956\n",
      "1         0.336412    0.340711  0.333051  0.340784\n",
      "2         0.294670    0.290205  0.289126  0.299237\n",
      "3         0.349207    0.339754  0.348012  0.356805\n",
      "4         0.307753    0.304296  0.311755  0.316226\n",
      "5         0.313403    0.311067  0.310648  0.323852\n",
      "6         0.315276    0.312087  0.314837  0.324129\n",
      "7         0.316741    0.316309  0.311088  0.316664\n",
      "8         0.345308    0.334523  0.341300  0.348182\n",
      "9         0.390437    0.383755  0.381278  0.396929\n"
     ]
    }
   ],
   "source": [
    "site_fdc = mean_data_fdc.iloc[:, 1:]\n",
    "print(site_fdc)"
   ]
  },
  {
   "cell_type": "code",
   "execution_count": 94,
   "id": "821d861f",
   "metadata": {},
   "outputs": [
    {
     "name": "stdout",
     "output_type": "stream",
     "text": [
      "1.5163882603494878\n"
     ]
    }
   ],
   "source": [
    "subject_means_fdc = site_fdc.mean(axis=1)\n",
    "subject_stds_fdc = site_fdc.std(axis=1, ddof=1)\n",
    "\n",
    "cvws_indiv_fdc = subject_stds_fdc / subject_means_fdc\n",
    "CVws_fdc = cvws_indiv_fdc.mean() * 100\n",
    "print(CVws_fdc)"
   ]
  },
  {
   "cell_type": "code",
   "execution_count": 134,
   "id": "5e204d07",
   "metadata": {},
   "outputs": [
    {
     "name": "stdout",
     "output_type": "stream",
     "text": [
      "1.5726136209839874\n"
     ]
    }
   ],
   "source": [
    "### Alternative CVws from QIBA guidelines\n",
    "subject_var_fdc = site_fdc.var(axis=1)\n",
    "\n",
    "cvws_squared_indiv_fdc = subject_var_fdc / (subject_means_fdc ** 2)\n",
    "\n",
    "CVws_qiba_fdc = np.sqrt(cvws_squared_indiv_fdc.mean())*100\n",
    "print(CVws_qiba_fdc)"
   ]
  },
  {
   "cell_type": "code",
   "execution_count": 95,
   "id": "e616f273",
   "metadata": {},
   "outputs": [
    {
     "name": "stdout",
     "output_type": "stream",
     "text": [
      "8.24047256277764\n"
     ]
    }
   ],
   "source": [
    "group_mean_fdc = subject_means_fdc.mean()\n",
    "group_std_fdc = subject_means_fdc.std(ddof=1)\n",
    "CVbs_fdc = group_std_fdc / group_mean_fdc * 100\n",
    "print(CVbs_fdc)"
   ]
  },
  {
   "cell_type": "markdown",
   "id": "395b2c9e",
   "metadata": {},
   "source": [
    "# **FBA metrics (group pipeline)**"
   ]
  },
  {
   "cell_type": "markdown",
   "id": "ad178911",
   "metadata": {},
   "source": [
    "## **Import data**"
   ]
  },
  {
   "cell_type": "code",
   "execution_count": 49,
   "id": "bedcfb68",
   "metadata": {},
   "outputs": [],
   "source": [
    "## set up data \n",
    "\n",
    "# FD\n",
    "fd_pop2_df_dir = os.path.join(input_dir, 'FD_wholebrain_means_medians_poptemp2.csv')\n",
    "fd_pop2_df = pd.read_csv(fd_pop2_df_dir, sep=',', skipinitialspace=True)\n",
    "fd_pop2_df[['ID', 'Site']] = fd_pop2_df['ID'].str.split('_', expand=True)\n",
    "\n",
    "# FC\n",
    "fc_pop2_df_dir = os.path.join(input_dir, 'FC_wholebrain_means_medians_poptemp2.csv')\n",
    "fc_pop2_df = pd.read_csv(fc_pop2_df_dir, sep=',', skipinitialspace=True)\n",
    "fc_pop2_df[['ID','Site']] = fc_pop2_df['ID'].str.split('_', expand=True)\n",
    "\n",
    "# FDC\n",
    "fdc_pop2_df_dir = os.path.join(input_dir, 'FDC_wholebrain_means_medians_poptemp2.csv')\n",
    "fdc_pop2_df = pd.read_csv(fdc_pop2_df_dir, sep=',',skipinitialspace=True)\n",
    "fdc_pop2_df[['ID', 'Site']] = fdc_pop2_df['ID'].str.split('_', expand=True)"
   ]
  },
  {
   "cell_type": "markdown",
   "id": "2ec59518",
   "metadata": {},
   "source": [
    "## **Whole-brain FD**"
   ]
  },
  {
   "cell_type": "markdown",
   "id": "7b401db9",
   "metadata": {},
   "source": [
    "### Step 1: Compute means & CV"
   ]
  },
  {
   "cell_type": "code",
   "execution_count": 50,
   "id": "0ea60d38",
   "metadata": {},
   "outputs": [
    {
     "name": "stdout",
     "output_type": "stream",
     "text": [
      "mean value for FD (whole-brain mean) is:  0.31293407500000003\n",
      "std for FD (whole-brain mean) is:  0.007564698015859848\n",
      "CV for FD (whole-brain mean) is:  2.417345575377129\n"
     ]
    }
   ],
   "source": [
    "# CV of mean FD\n",
    "mean_fd_pop2 = fd_pop2_df['means'].mean()\n",
    "std_fd_pop2 = fd_pop2_df['means'].std(ddof=1)\n",
    "cv_fd_pop2 = std_fd_pop2/mean_fd_pop2*100\n",
    "\n",
    "print(\"mean value for FD (whole-brain mean) is: \", mean_fd_pop2)\n",
    "print(\"std for FD (whole-brain mean) is: \", std_fd_pop2)\n",
    "print(\"CV for FD (whole-brain mean) is: \", cv_fd_pop2)"
   ]
  },
  {
   "cell_type": "markdown",
   "id": "0ad16591",
   "metadata": {},
   "source": [
    "### Step 2: CV per site"
   ]
  },
  {
   "cell_type": "code",
   "execution_count": 51,
   "id": "f6f3903b",
   "metadata": {},
   "outputs": [
    {
     "name": "stdout",
     "output_type": "stream",
     "text": [
      "Site     ID  FloreyPrisma  FloreyVida       MBI       RCH\n",
      "0     TH001      0.316937    0.310024  0.312455  0.308951\n",
      "1     TH002      0.323904    0.321429  0.318991  0.321089\n",
      "2     TH003      0.306481    0.297899  0.304472  0.302982\n",
      "3     TH004      0.316198    0.306430  0.313492  0.314726\n",
      "4     TH005      0.312138    0.305720  0.313052  0.310880\n",
      "5     TH006      0.309986    0.304907  0.308477  0.309634\n",
      "6     TH007      0.320159    0.313999  0.318317  0.319487\n",
      "7     TH008      0.312293    0.307013  0.307905  0.305229\n",
      "8     TH009      0.313179    0.302867  0.309581  0.307738\n",
      "9     TH010      0.332265    0.322684  0.324788  0.328605\n"
     ]
    }
   ],
   "source": [
    "mean_data_fd_pop2 = fd_pop2_df.pivot(index='ID', columns='Site', values='means').reset_index()\n",
    "print(mean_data_fd_pop2)"
   ]
  },
  {
   "cell_type": "code",
   "execution_count": 52,
   "id": "e7b47c6b",
   "metadata": {},
   "outputs": [
    {
     "name": "stdout",
     "output_type": "stream",
     "text": [
      "Florey Prisma mean is:  0.31635399999999997\n",
      "Florey Vida mean is:  0.3092972\n",
      "MBI mean is:  0.313153\n",
      "RCH mean is 0.3129321\n",
      "Florey Prisma std is:  0.007508359977755166\n",
      "Florey Vida std is:  0.007928830680217332\n",
      "MBI std is:  0.006094260651538379\n",
      "RCH std is 0.007990398772554756\n",
      "Florey Prisma CV is:  2.3734044702311863\n",
      "Florey Vida CV is:  2.563499016550209\n",
      "MBI CV is:  1.9460968445259594\n",
      "RCH CV is 2.5533969741534204\n"
     ]
    }
   ],
   "source": [
    "fd_means_floreyPrisma_cv_pop2 = (mean_data_fd_pop2['FloreyPrisma'].std()/mean_data_fd_pop2['FloreyPrisma'].mean())*100\n",
    "fd_means_floreyVida_cv_pop2 = (mean_data_fd_pop2['FloreyVida'].std()/mean_data_fd_pop2['FloreyVida'].mean())*100\n",
    "fd_means_MBI_cv_pop2 = (mean_data_fd_pop2['MBI'].std()/mean_data_fd_pop2['MBI'].mean())*100\n",
    "fd_means_RCH_cv_pop2 = (mean_data_fd_pop2['RCH'].std()/mean_data_fd_pop2['RCH'].mean())*100\n",
    "\n",
    "print(\"Florey Prisma mean is: \", mean_data_fd_pop2['FloreyPrisma'].mean())\n",
    "print(\"Florey Vida mean is: \", mean_data_fd_pop2['FloreyVida'].mean())\n",
    "print(\"MBI mean is: \", mean_data_fd_pop2['MBI'].mean())\n",
    "print(\"RCH mean is\", mean_data_fd_pop2['RCH'].mean())\n",
    "\n",
    "print(\"Florey Prisma std is: \", mean_data_fd_pop2['FloreyPrisma'].std())\n",
    "print(\"Florey Vida std is: \", mean_data_fd_pop2['FloreyVida'].std())\n",
    "print(\"MBI std is: \", mean_data_fd_pop2['MBI'].std())\n",
    "print(\"RCH std is\", mean_data_fd_pop2['RCH'].std())\n",
    "\n",
    "print(\"Florey Prisma CV is: \", fd_means_floreyPrisma_cv_pop2)\n",
    "print(\"Florey Vida CV is: \", fd_means_floreyVida_cv_pop2)\n",
    "print(\"MBI CV is: \", fd_means_MBI_cv_pop2)\n",
    "print(\"RCH CV is\", fd_means_RCH_cv_pop2)"
   ]
  },
  {
   "cell_type": "markdown",
   "id": "4c0c7adc",
   "metadata": {},
   "source": [
    "### Step 3: ICC across sites"
   ]
  },
  {
   "cell_type": "code",
   "execution_count": 53,
   "id": "54fa5ad8",
   "metadata": {},
   "outputs": [
    {
     "name": "stdout",
     "output_type": "stream",
     "text": [
      "    Type              Description       ICC          F  df1  df2  \\\n",
      "0   ICC1   Single raters absolute  0.806641  17.686955    9   30   \n",
      "1   ICC2     Single random raters  0.812732  54.065370    9   27   \n",
      "2   ICC3      Single fixed raters  0.929905  54.065370    9   27   \n",
      "3  ICC1k  Average raters absolute  0.943461  17.686955    9   30   \n",
      "4  ICC2k    Average random raters  0.945533  54.065370    9   27   \n",
      "5  ICC3k     Average fixed raters  0.981504  54.065370    9   27   \n",
      "\n",
      "           pval         CI95%  \n",
      "0  1.046882e-09  [0.59, 0.94]  \n",
      "1  5.967683e-15  [0.42, 0.95]  \n",
      "2  5.967683e-15  [0.83, 0.98]  \n",
      "3  1.046882e-09  [0.85, 0.98]  \n",
      "4  5.967683e-15  [0.75, 0.99]  \n",
      "5  5.967683e-15  [0.95, 0.99]  \n"
     ]
    }
   ],
   "source": [
    "icc_fd_means_pop2 = pg.intraclass_corr(data=fd_pop2_df, targets='ID', raters='Site', ratings='means')\n",
    "print(icc_fd_means_pop2)"
   ]
  },
  {
   "cell_type": "markdown",
   "id": "02b9ebcc",
   "metadata": {},
   "source": [
    "### Step 4: Plot means"
   ]
  },
  {
   "cell_type": "code",
   "execution_count": 55,
   "id": "a0f0a8d5",
   "metadata": {},
   "outputs": [
    {
     "name": "stderr",
     "output_type": "stream",
     "text": [
      "/var/folders/g8/w52c85dx1fsgxg5681hppls80000gn/T/ipykernel_79666/2812364342.py:11: FutureWarning: \n",
      "\n",
      "Passing `palette` without assigning `hue` is deprecated and will be removed in v0.14.0. Assign the `x` variable to `hue` and set `legend=False` for the same effect.\n",
      "\n",
      "  sns.boxplot(data=fd_pop2_df, x=\"Site\", y=\"means\", palette=\"hls\",\n"
     ]
    },
    {
     "data": {
      "image/png": "[encoded data removed]",
      "text/plain": [
       "<Figure size 300x400 with 1 Axes>"
      ]
     },
     "metadata": {},
     "output_type": "display_data"
    }
   ],
   "source": [
    "import seaborn as sns\n",
    "import matplotlib.pyplot as plt\n",
    "\n",
    "## Plot means\n",
    "\n",
    "plt.figure(figsize=(3, 4))\n",
    "\n",
    "plt.rcParams['font.family'] = 'Arial'\n",
    "\n",
    "# boxplot\n",
    "sns.boxplot(data=fd_pop2_df, x=\"Site\", y=\"means\", palette=\"hls\", \n",
    "            boxprops={'alpha': 0.8})  # Box transparency\n",
    "\n",
    "# lines between IDs\n",
    "sns.lineplot(data=fd_pop2_df, x=\"Site\", y=\"means\", hue=\"ID\", marker=\"o\", \n",
    "             palette=\"dark:k\", alpha=0.8, linewidth=1, legend=False)  \n",
    "\n",
    "# dummy labels\n",
    "dummy_labels = [\"Site 1\", \"Site 2\", \"Site 3\", \"Site 4\"]\n",
    "plt.xticks(ticks=range(len(dummy_labels)), labels=dummy_labels)\n",
    "\n",
    "# plot headings\n",
    "plt.title(\"FD\")\n",
    "#plt.xlabel(\"Site\")\n",
    "plt.ylabel(\"Mean FD\")\n",
    "\n",
    "plt.savefig(os.path.join(output_dir, \"boxplot_fd_means_groupRFs.svg\"), format=\"svg\")\n"
   ]
  },
  {
   "cell_type": "markdown",
   "id": "39d4ad60",
   "metadata": {},
   "source": [
    "### Step 5: CVws & CVbs"
   ]
  },
  {
   "cell_type": "code",
   "execution_count": 103,
   "id": "58102b31",
   "metadata": {},
   "outputs": [
    {
     "name": "stdout",
     "output_type": "stream",
     "text": [
      "Site  FloreyPrisma  FloreyVida       MBI       RCH\n",
      "0         0.316937    0.310024  0.312455  0.308951\n",
      "1         0.323904    0.321429  0.318991  0.321089\n",
      "2         0.306481    0.297899  0.304472  0.302982\n",
      "3         0.316198    0.306430  0.313492  0.314726\n",
      "4         0.312138    0.305720  0.313052  0.310880\n",
      "5         0.309986    0.304907  0.308477  0.309634\n",
      "6         0.320159    0.313999  0.318317  0.319487\n",
      "7         0.312293    0.307013  0.307905  0.305229\n",
      "8         0.313179    0.302867  0.309581  0.307738\n",
      "9         0.332265    0.322684  0.324788  0.328605\n"
     ]
    }
   ],
   "source": [
    "site_fd_pop2 = mean_data_fd_pop2.iloc[:, 1:]\n",
    "print(site_fd_pop2)"
   ]
  },
  {
   "cell_type": "code",
   "execution_count": 104,
   "id": "0ccfed8e",
   "metadata": {},
   "outputs": [
    {
     "name": "stdout",
     "output_type": "stream",
     "text": [
      "1.0697219462908165\n"
     ]
    }
   ],
   "source": [
    "subject_means_fd_pop2 = site_fd_pop2.mean(axis=1)\n",
    "subject_stds_fd_pop2 = site_fd_pop2.std(axis=1, ddof=1)\n",
    "\n",
    "cvws_indiv_fd_pop2 = subject_stds_fd_pop2 / subject_means_fd_pop2\n",
    "CVws_fd_pop2 = cvws_indiv_fd_pop2.mean() * 100\n",
    "print(CVws_fd_pop2)"
   ]
  },
  {
   "cell_type": "code",
   "execution_count": 135,
   "id": "242706f2",
   "metadata": {},
   "outputs": [
    {
     "name": "stdout",
     "output_type": "stream",
     "text": [
      "1.098493309545483\n"
     ]
    }
   ],
   "source": [
    "### Alternative CVws from QIBA guidelines\n",
    "subject_var_fd_pop2 = site_fd_pop2.var(axis=1)\n",
    "\n",
    "cvws_squared_indiv_fd_pop2 = subject_var_fd_pop2 / (subject_means_fd_pop2 ** 2)\n",
    "\n",
    "CVws_qiba_fd_pop2 = np.sqrt(cvws_squared_indiv_fd_pop2.mean())*100\n",
    "print(CVws_qiba_fd_pop2)"
   ]
  },
  {
   "cell_type": "code",
   "execution_count": 105,
   "id": "c6935e38",
   "metadata": {},
   "outputs": [
    {
     "name": "stdout",
     "output_type": "stream",
     "text": [
      "2.3079531776387228\n"
     ]
    }
   ],
   "source": [
    "group_mean_fd_pop2 = subject_means_fd_pop2.mean()\n",
    "group_std_fd_pop2 = subject_means_fd_pop2.std(ddof=1)\n",
    "CVbs_fd_pop2 = group_std_fd_pop2 / group_mean_fd_pop2 * 100\n",
    "print(CVbs_fd_pop2)"
   ]
  },
  {
   "cell_type": "markdown",
   "id": "3fc91bed",
   "metadata": {},
   "source": [
    "## **Whole-brain FC**"
   ]
  },
  {
   "cell_type": "markdown",
   "id": "1fb094d8",
   "metadata": {},
   "source": [
    "### Step 1: Compute means & CV"
   ]
  },
  {
   "cell_type": "code",
   "execution_count": 56,
   "id": "b8082905",
   "metadata": {},
   "outputs": [
    {
     "name": "stdout",
     "output_type": "stream",
     "text": [
      "mean value for FC (whole-brain mean) is:  1.0542144\n",
      "std for FC (whole-brain mean) is:  0.0649606612460819\n",
      "CV for FC (whole-brain mean) is:  6.161997146508518\n"
     ]
    }
   ],
   "source": [
    "# CV of mean FC\n",
    "mean_fc_pop2 = fc_pop2_df['means'].mean()\n",
    "std_fc_pop2 = fc_pop2_df['means'].std(ddof=1)\n",
    "cv_fc_pop2 = std_fc_pop2/mean_fc_pop2*100\n",
    "\n",
    "print(\"mean value for FC (whole-brain mean) is: \", mean_fc_pop2)\n",
    "print(\"std for FC (whole-brain mean) is: \", std_fc_pop2)\n",
    "print(\"CV for FC (whole-brain mean) is: \", cv_fc_pop2)"
   ]
  },
  {
   "cell_type": "markdown",
   "id": "047e3e8f",
   "metadata": {},
   "source": [
    "### Step 2: CV per site"
   ]
  },
  {
   "cell_type": "code",
   "execution_count": 57,
   "id": "90e3fd6f",
   "metadata": {},
   "outputs": [
    {
     "name": "stdout",
     "output_type": "stream",
     "text": [
      "Site     ID  FloreyPrisma  FloreyVida       MBI      RCH\n",
      "0     TH001      1.007950     1.00194  0.999505  1.00066\n",
      "1     TH002      1.054910     1.06233  1.050370  1.04681\n",
      "2     TH003      0.976496     0.97806  0.959545  0.97528\n",
      "3     TH004      1.123890     1.11698  1.119470  1.11894\n",
      "4     TH005      1.011850     1.00960  1.015560  1.01473\n",
      "5     TH006      1.027670     1.02572  1.016170  1.03238\n",
      "6     TH007      1.011560     1.01024  1.008130  1.01225\n",
      "7     TH008      1.041230     1.04397  1.029270  1.03407\n",
      "8     TH009      1.122850     1.11382  1.114060  1.11883\n",
      "9     TH010      1.193850     1.19171  1.185390  1.19053\n"
     ]
    }
   ],
   "source": [
    "mean_data_fc_pop2 = fc_pop2_df.pivot(index='ID', columns='Site', values='means').reset_index()\n",
    "print(mean_data_fc_pop2)"
   ]
  },
  {
   "cell_type": "code",
   "execution_count": 58,
   "id": "116b746e",
   "metadata": {},
   "outputs": [
    {
     "name": "stdout",
     "output_type": "stream",
     "text": [
      "Florey Prisma mean is:  1.0572255999999998\n",
      "Florey Vida mean is:  1.055437\n",
      "MBI mean is:  1.049747\n",
      "RCH mean is 1.0544480000000003\n",
      "Florey Prisma std is:  0.06802069183744344\n",
      "Florey Vida std is:  0.06651773381754841\n",
      "MBI std is:  0.0687224512562428\n",
      "RCH std is 0.0669179274767067\n",
      "Florey Prisma CV is:  6.4338861863961165\n",
      "Florey Vida CV is:  6.302387903545964\n",
      "MBI CV is:  6.546572770033427\n",
      "RCH CV is 6.346252017805211\n"
     ]
    }
   ],
   "source": [
    "fc_means_floreyPrisma_cv_pop2 = (mean_data_fc_pop2['FloreyPrisma'].std()/mean_data_fc_pop2['FloreyPrisma'].mean())*100\n",
    "fc_means_floreyVida_cv_pop2 = (mean_data_fc_pop2['FloreyVida'].std()/mean_data_fc_pop2['FloreyVida'].mean())*100\n",
    "fc_means_MBI_cv_pop2 = (mean_data_fc_pop2['MBI'].std()/mean_data_fc_pop2['MBI'].mean())*100\n",
    "fc_means_RCH_cv_pop2 = (mean_data_fc_pop2['RCH'].std()/mean_data_fc_pop2['RCH'].mean())*100\n",
    "\n",
    "print(\"Florey Prisma mean is: \", mean_data_fc_pop2['FloreyPrisma'].mean())\n",
    "print(\"Florey Vida mean is: \", mean_data_fc_pop2['FloreyVida'].mean())\n",
    "print(\"MBI mean is: \", mean_data_fc_pop2['MBI'].mean())\n",
    "print(\"RCH mean is\", mean_data_fc_pop2['RCH'].mean())\n",
    "\n",
    "print(\"Florey Prisma std is: \", mean_data_fc_pop2['FloreyPrisma'].std())\n",
    "print(\"Florey Vida std is: \", mean_data_fc_pop2['FloreyVida'].std())\n",
    "print(\"MBI std is: \", mean_data_fc_pop2['MBI'].std())\n",
    "print(\"RCH std is\", mean_data_fc_pop2['RCH'].std())\n",
    "\n",
    "print(\"Florey Prisma CV is: \", fc_means_floreyPrisma_cv_pop2)\n",
    "print(\"Florey Vida CV is: \", fc_means_floreyVida_cv_pop2)\n",
    "print(\"MBI CV is: \", fc_means_MBI_cv_pop2)\n",
    "print(\"RCH CV is\", fc_means_RCH_cv_pop2)"
   ]
  },
  {
   "cell_type": "markdown",
   "id": "6645812a",
   "metadata": {},
   "source": [
    "### Step 3: Compute ICC"
   ]
  },
  {
   "cell_type": "code",
   "execution_count": 59,
   "id": "7c27adbf",
   "metadata": {},
   "outputs": [
    {
     "name": "stdout",
     "output_type": "stream",
     "text": [
      "    Type              Description       ICC           F  df1  df2  \\\n",
      "0   ICC1   Single raters absolute  0.993979  661.365231    9   30   \n",
      "1   ICC2     Single random raters  0.993982  945.492490    9   27   \n",
      "2   ICC3      Single fixed raters  0.995783  945.492490    9   27   \n",
      "3  ICC1k  Average raters absolute  0.998488  661.365231    9   30   \n",
      "4  ICC2k    Average random raters  0.998489  945.492490    9   27   \n",
      "5  ICC3k     Average fixed raters  0.998942  945.492490    9   27   \n",
      "\n",
      "           pval        CI95%  \n",
      "0  5.719581e-32  [0.98, 1.0]  \n",
      "1  2.336971e-31  [0.98, 1.0]  \n",
      "2  2.336971e-31  [0.99, 1.0]  \n",
      "3  5.719581e-32   [1.0, 1.0]  \n",
      "4  2.336971e-31   [1.0, 1.0]  \n",
      "5  2.336971e-31   [1.0, 1.0]  \n"
     ]
    }
   ],
   "source": [
    "icc_fc_means_pop2 = pg.intraclass_corr(data=fc_pop2_df, targets='ID', raters='Site', ratings='means')\n",
    "print(icc_fc_means_pop2)"
   ]
  },
  {
   "cell_type": "markdown",
   "id": "07bc8490",
   "metadata": {},
   "source": [
    "### Step 4: Plot means"
   ]
  },
  {
   "cell_type": "code",
   "execution_count": 60,
   "id": "83a4bbf1",
   "metadata": {},
   "outputs": [
    {
     "name": "stderr",
     "output_type": "stream",
     "text": [
      "/var/folders/g8/w52c85dx1fsgxg5681hppls80000gn/T/ipykernel_79666/8868020.py:8: FutureWarning: \n",
      "\n",
      "Passing `palette` without assigning `hue` is deprecated and will be removed in v0.14.0. Assign the `x` variable to `hue` and set `legend=False` for the same effect.\n",
      "\n",
      "  sns.boxplot(data=fc_pop2_df, x=\"Site\", y=\"means\", palette=\"hls\",\n"
     ]
    },
    {
     "data": {
      "image/png": "[encoded data removed]",
      "text/plain": [
       "<Figure size 300x400 with 1 Axes>"
      ]
     },
     "metadata": {},
     "output_type": "display_data"
    }
   ],
   "source": [
    "## Plot means\n",
    "\n",
    "plt.figure(figsize=(3, 4))\n",
    "\n",
    "plt.rcParams['font.family'] = 'Arial'\n",
    "\n",
    "# boxplot\n",
    "sns.boxplot(data=fc_pop2_df, x=\"Site\", y=\"means\", palette=\"hls\", \n",
    "            boxprops={'alpha': 0.8})  # Box transparency\n",
    "\n",
    "# lines between IDs\n",
    "sns.lineplot(data=fc_pop2_df, x=\"Site\", y=\"means\", hue=\"ID\", marker=\"o\", \n",
    "             palette=\"dark:k\", alpha=0.8, linewidth=1, legend=False)  \n",
    "\n",
    "# dummy labels\n",
    "dummy_labels = [\"Site 1\", \"Site 2\", \"Site 3\", \"Site 4\"]\n",
    "plt.xticks(ticks=range(len(dummy_labels)), labels=dummy_labels)\n",
    "\n",
    "# plot headings\n",
    "plt.title(\"Mean FC by site\")\n",
    "#plt.xlabel(\"Site\")\n",
    "plt.ylabel(\"Mean FC\")\n",
    "\n",
    "plt.savefig(os.path.join(output_dir, \"boxplot_fc_means_groupRFs.svg\"), format=\"svg\")\n"
   ]
  },
  {
   "cell_type": "markdown",
   "id": "0bdcecfa",
   "metadata": {},
   "source": [
    "### Step 5: CVws and CVbs"
   ]
  },
  {
   "cell_type": "code",
   "execution_count": 106,
   "id": "cd8c3f4e",
   "metadata": {},
   "outputs": [
    {
     "name": "stdout",
     "output_type": "stream",
     "text": [
      "Site  FloreyPrisma  FloreyVida       MBI      RCH\n",
      "0         1.007950     1.00194  0.999505  1.00066\n",
      "1         1.054910     1.06233  1.050370  1.04681\n",
      "2         0.976496     0.97806  0.959545  0.97528\n",
      "3         1.123890     1.11698  1.119470  1.11894\n",
      "4         1.011850     1.00960  1.015560  1.01473\n",
      "5         1.027670     1.02572  1.016170  1.03238\n",
      "6         1.011560     1.01024  1.008130  1.01225\n",
      "7         1.041230     1.04397  1.029270  1.03407\n",
      "8         1.122850     1.11382  1.114060  1.11883\n",
      "9         1.193850     1.19171  1.185390  1.19053\n"
     ]
    }
   ],
   "source": [
    "site_fc_pop2 = mean_data_fc_pop2.iloc[:, 1:]\n",
    "print(site_fc_pop2)"
   ]
  },
  {
   "cell_type": "code",
   "execution_count": 107,
   "id": "5051a1ff",
   "metadata": {},
   "outputs": [
    {
     "name": "stdout",
     "output_type": "stream",
     "text": [
      "0.46032578521180395\n"
     ]
    }
   ],
   "source": [
    "subject_means_fc_pop2 = site_fc_pop2.mean(axis=1)\n",
    "subject_stds_fc_pop2 = site_fc_pop2.std(axis=1, ddof=1)\n",
    "\n",
    "cvws_indiv_fc_pop2 = subject_stds_fc_pop2 / subject_means_fc_pop2\n",
    "CVws_fc_pop2 = cvws_indiv_fc_pop2.mean() * 100\n",
    "print(CVws_fc_pop2)"
   ]
  },
  {
   "cell_type": "code",
   "execution_count": 136,
   "id": "1eba0842",
   "metadata": {},
   "outputs": [
    {
     "name": "stdout",
     "output_type": "stream",
     "text": [
      "0.5098546053057844\n"
     ]
    }
   ],
   "source": [
    "### Alternative CVws from QIBA guidelines\n",
    "subject_var_fc_pop2 = site_fc_pop2.var(axis=1)\n",
    "\n",
    "cvws_squared_indiv_fc_pop2 = subject_var_fc_pop2 / (subject_means_fc_pop2 ** 2)\n",
    "\n",
    "CVws_qiba_fc_pop2 = np.sqrt(cvws_squared_indiv_fc_pop2.mean())*100\n",
    "print(CVws_qiba_fc_pop2)"
   ]
  },
  {
   "cell_type": "code",
   "execution_count": 108,
   "id": "9eb9055a",
   "metadata": {},
   "outputs": [
    {
     "name": "stdout",
     "output_type": "stream",
     "text": [
      "6.397508262248552\n"
     ]
    }
   ],
   "source": [
    "group_mean_fc_pop2 = subject_means_fc_pop2.mean()\n",
    "group_std_fc_pop2 = subject_means_fc_pop2.std(ddof=1)\n",
    "CVbs_fc_pop2 = group_std_fc_pop2 / group_mean_fc_pop2 * 100\n",
    "print(CVbs_fc_pop2)"
   ]
  },
  {
   "cell_type": "markdown",
   "id": "45f4d16e",
   "metadata": {},
   "source": [
    "## **Whole-brain FDC**"
   ]
  },
  {
   "cell_type": "markdown",
   "id": "da12f602",
   "metadata": {},
   "source": [
    "### Step 1: Compute means & CV"
   ]
  },
  {
   "cell_type": "code",
   "execution_count": 61,
   "id": "e9f69b5d",
   "metadata": {},
   "outputs": [
    {
     "name": "stdout",
     "output_type": "stream",
     "text": [
      "mean value for FDC (whole-brain mean) is:  0.329736325\n",
      "std for FDC (whole-brain mean) is:  0.02652799065465981\n",
      "CV for FDC (whole-brain mean) is:  8.045213294185835\n"
     ]
    }
   ],
   "source": [
    "# CV of mean FDC\n",
    "mean_fdc_pop2 = fdc_pop2_df['means'].mean()\n",
    "std_fdc_pop2 = fdc_pop2_df['means'].std(ddof=1)\n",
    "cv_fdc_pop2 = std_fdc_pop2/mean_fdc_pop2*100\n",
    "\n",
    "print(\"mean value for FDC (whole-brain mean) is: \", mean_fdc_pop2)\n",
    "print(\"std for FDC (whole-brain mean) is: \", std_fdc_pop2)\n",
    "print(\"CV for FDC (whole-brain mean) is: \", cv_fdc_pop2)"
   ]
  },
  {
   "cell_type": "markdown",
   "id": "1d7bd465",
   "metadata": {},
   "source": [
    "### Step 2: CV per site"
   ]
  },
  {
   "cell_type": "code",
   "execution_count": 62,
   "id": "5bdee629",
   "metadata": {},
   "outputs": [
    {
     "name": "stdout",
     "output_type": "stream",
     "text": [
      "Site     ID  FloreyPrisma  FloreyVida       MBI       RCH\n",
      "0     TH001      0.320922    0.311550  0.313725  0.310168\n",
      "1     TH002      0.342987    0.342893  0.336355  0.336878\n",
      "2     TH003      0.299920    0.292062  0.292248  0.295828\n",
      "3     TH004      0.355657    0.341619  0.351327  0.352582\n",
      "4     TH005      0.313145    0.305683  0.315199  0.312675\n",
      "5     TH006      0.318948    0.312540  0.313641  0.319779\n",
      "6     TH007      0.321013    0.313944  0.318088  0.320384\n",
      "7     TH008      0.322791    0.318349  0.314417  0.312935\n",
      "8     TH009      0.351652    0.336301  0.344691  0.343739\n",
      "9     TH010      0.398245    0.386185  0.385572  0.392816\n"
     ]
    }
   ],
   "source": [
    "mean_data_fdc_pop2 = fdc_pop2_df.pivot(index='ID', columns='Site', values='means').reset_index()\n",
    "print(mean_data_fdc_pop2)"
   ]
  },
  {
   "cell_type": "code",
   "execution_count": 63,
   "id": "1b8758a2",
   "metadata": {},
   "outputs": [
    {
     "name": "stdout",
     "output_type": "stream",
     "text": [
      "Florey Prisma mean is:  0.33452800000000005\n",
      "Florey Vida mean is:  0.3261126\n",
      "MBI mean is:  0.32852629999999994\n",
      "RCH mean is 0.3297784\n",
      "Florey Prisma std is:  0.02842982621981515\n",
      "Florey Vida std is:  0.026699920970336646\n",
      "MBI std is:  0.026539452699079293\n",
      "RCH std is 0.027969651160578403\n",
      "Florey Prisma CV is:  8.435911168358535\n",
      "Florey Vida CV is:  8.1613088070898\n",
      "MBI CV is:  8.069848913992201\n",
      "RCH CV is 8.449040527605552\n"
     ]
    }
   ],
   "source": [
    "fdc_means_floreyPrisma_cv_pop2 = (mean_data_fdc_pop2['FloreyPrisma'].std()/mean_data_fdc_pop2['FloreyPrisma'].mean())*100\n",
    "fdc_means_floreyVida_cv_pop2 = (mean_data_fdc_pop2['FloreyVida'].std()/mean_data_fdc_pop2['FloreyVida'].mean())*100\n",
    "fdc_means_MBI_cv_pop2 = (mean_data_fdc_pop2['MBI'].std()/mean_data_fdc_pop2['MBI'].mean())*100\n",
    "fdc_means_RCH_cv_pop2 = (mean_data_fdc_pop2['RCH'].std()/mean_data_fdc_pop2['RCH'].mean())*100\n",
    "\n",
    "print(\"Florey Prisma mean is: \", mean_data_fdc_pop2['FloreyPrisma'].mean())\n",
    "print(\"Florey Vida mean is: \", mean_data_fdc_pop2['FloreyVida'].mean())\n",
    "print(\"MBI mean is: \", mean_data_fdc_pop2['MBI'].mean())\n",
    "print(\"RCH mean is\", mean_data_fdc_pop2['RCH'].mean())\n",
    "\n",
    "print(\"Florey Prisma std is: \", mean_data_fdc_pop2['FloreyPrisma'].std())\n",
    "print(\"Florey Vida std is: \", mean_data_fdc_pop2['FloreyVida'].std())\n",
    "print(\"MBI std is: \", mean_data_fdc_pop2['MBI'].std())\n",
    "print(\"RCH std is\", mean_data_fdc_pop2['RCH'].std())\n",
    "\n",
    "print(\"Florey Prisma CV is: \", fdc_means_floreyPrisma_cv)\n",
    "print(\"Florey Vida CV is: \", fdc_means_floreyVida_cv)\n",
    "print(\"MBI CV is: \", fdc_means_MBI_cv)\n",
    "print(\"RCH CV is\", fdc_means_RCH_cv)"
   ]
  },
  {
   "cell_type": "markdown",
   "id": "1c060e1a",
   "metadata": {},
   "source": [
    "### Step 3: Compute ICC"
   ]
  },
  {
   "cell_type": "code",
   "execution_count": 64,
   "id": "1058a6e8",
   "metadata": {},
   "outputs": [
    {
     "name": "stdout",
     "output_type": "stream",
     "text": [
      "    Type              Description       ICC           F  df1  df2  \\\n",
      "0   ICC1   Single raters absolute  0.970740  133.703818    9   30   \n",
      "1   ICC2     Single random raters  0.970849  275.096704    9   27   \n",
      "2   ICC3      Single fixed raters  0.985617  275.096704    9   27   \n",
      "3  ICC1k  Average raters absolute  0.992521  133.703818    9   30   \n",
      "4  ICC2k    Average random raters  0.992549  275.096704    9   27   \n",
      "5  ICC3k     Average fixed raters  0.996365  275.096704    9   27   \n",
      "\n",
      "           pval         CI95%  \n",
      "0  1.038158e-21  [0.93, 0.99]  \n",
      "1  3.557189e-24  [0.89, 0.99]  \n",
      "2  3.557189e-24   [0.96, 1.0]  \n",
      "3  1.038158e-21   [0.98, 1.0]  \n",
      "4  3.557189e-24   [0.97, 1.0]  \n",
      "5  3.557189e-24   [0.99, 1.0]  \n"
     ]
    }
   ],
   "source": [
    "icc_fdc_means_pop2 = pg.intraclass_corr(data=fdc_pop2_df, targets='ID', raters='Site', ratings='means')\n",
    "print(icc_fdc_means_pop2)"
   ]
  },
  {
   "cell_type": "markdown",
   "id": "d6932953",
   "metadata": {},
   "source": [
    "### Step 4: Plot means"
   ]
  },
  {
   "cell_type": "code",
   "execution_count": 65,
   "id": "371a2484",
   "metadata": {},
   "outputs": [
    {
     "name": "stderr",
     "output_type": "stream",
     "text": [
      "/var/folders/g8/w52c85dx1fsgxg5681hppls80000gn/T/ipykernel_79666/1826996523.py:8: FutureWarning: \n",
      "\n",
      "Passing `palette` without assigning `hue` is deprecated and will be removed in v0.14.0. Assign the `x` variable to `hue` and set `legend=False` for the same effect.\n",
      "\n",
      "  sns.boxplot(data=fdc_pop2_df, x=\"Site\", y=\"means\", palette=\"hls\",\n"
     ]
    },
    {
     "data": {
      "image/png": "[encoded data removed]",
      "text/plain": [
       "<Figure size 300x400 with 1 Axes>"
      ]
     },
     "metadata": {},
     "output_type": "display_data"
    }
   ],
   "source": [
    "## Plot means\n",
    "\n",
    "plt.figure(figsize=(3, 4))\n",
    "\n",
    "plt.rcParams['font.family'] = 'Arial'\n",
    "\n",
    "# boxplot\n",
    "sns.boxplot(data=fdc_pop2_df, x=\"Site\", y=\"means\", palette=\"hls\", \n",
    "            boxprops={'alpha': 0.8})  # Box transparency\n",
    "\n",
    "# lines between IDs\n",
    "sns.lineplot(data=fdc_pop2_df, x=\"Site\", y=\"means\", hue=\"ID\", marker=\"o\", \n",
    "             palette=\"dark:k\", alpha=0.8, linewidth=1, legend=False)  \n",
    "\n",
    "# dummy labels\n",
    "dummy_labels = [\"Site 1\", \"Site 2\", \"Site 3\", \"Site 4\"]\n",
    "plt.xticks(ticks=range(len(dummy_labels)), labels=dummy_labels)\n",
    "\n",
    "# plot headings\n",
    "plt.title(\"Mean FDC by site\")\n",
    "#plt.xlabel(\"Site\")\n",
    "plt.ylabel(\"Mean FDC\")\n",
    "\n",
    "plt.savefig(os.path.join(output_dir, \"boxplot_fdc_means_groupRFs.svg\"), format=\"svg\")\n"
   ]
  },
  {
   "cell_type": "markdown",
   "id": "27cfb59a",
   "metadata": {},
   "source": [
    "### Step 5: CVws & CVbs"
   ]
  },
  {
   "cell_type": "code",
   "execution_count": 109,
   "id": "dcb01a2d",
   "metadata": {},
   "outputs": [
    {
     "name": "stdout",
     "output_type": "stream",
     "text": [
      "Site  FloreyPrisma  FloreyVida       MBI       RCH\n",
      "0         0.320922    0.311550  0.313725  0.310168\n",
      "1         0.342987    0.342893  0.336355  0.336878\n",
      "2         0.299920    0.292062  0.292248  0.295828\n",
      "3         0.355657    0.341619  0.351327  0.352582\n",
      "4         0.313145    0.305683  0.315199  0.312675\n",
      "5         0.318948    0.312540  0.313641  0.319779\n",
      "6         0.321013    0.313944  0.318088  0.320384\n",
      "7         0.322791    0.318349  0.314417  0.312935\n",
      "8         0.351652    0.336301  0.344691  0.343739\n",
      "9         0.398245    0.386185  0.385572  0.392816\n"
     ]
    }
   ],
   "source": [
    "site_fdc_pop2 = mean_data_fdc_pop2.iloc[:, 1:]\n",
    "print(site_fdc_pop2)"
   ]
  },
  {
   "cell_type": "code",
   "execution_count": 110,
   "id": "ff2f8fc1",
   "metadata": {},
   "outputs": [
    {
     "name": "stdout",
     "output_type": "stream",
     "text": [
      "1.3832133790092187\n"
     ]
    }
   ],
   "source": [
    "subject_means_fdc_pop2 = site_fdc_pop2.mean(axis=1)\n",
    "subject_stds_fdc_pop2 = site_fdc_pop2.std(axis=1, ddof=1)\n",
    "\n",
    "cvws_indiv_fdc_pop2 = subject_stds_fdc_pop2 / subject_means_fdc_pop2\n",
    "CVws_fdc_pop2 = cvws_indiv_fdc_pop2.mean() * 100\n",
    "print(CVws_fdc_pop2)"
   ]
  },
  {
   "cell_type": "code",
   "execution_count": 137,
   "id": "36e0c484",
   "metadata": {},
   "outputs": [
    {
     "name": "stdout",
     "output_type": "stream",
     "text": [
      "1.4070955487342813\n"
     ]
    }
   ],
   "source": [
    "### Alternative CVws from QIBA guidelines\n",
    "subject_var_fdc_pop2 = site_fdc_pop2.var(axis=1)\n",
    "\n",
    "cvws_squared_indiv_fdc_pop2 = subject_var_fdc_pop2 / (subject_means_fdc_pop2 ** 2)\n",
    "\n",
    "CVws_qiba_fdc_pop2 = np.sqrt(cvws_squared_indiv_fdc_pop2.mean())*100\n",
    "print(CVws_qiba_fdc_pop2)"
   ]
  },
  {
   "cell_type": "code",
   "execution_count": 111,
   "id": "2cba3e7f",
   "metadata": {},
   "outputs": [
    {
     "name": "stdout",
     "output_type": "stream",
     "text": [
      "8.271254027524565\n"
     ]
    }
   ],
   "source": [
    "group_mean_fdc_pop2 = subject_means_fdc_pop2.mean()\n",
    "group_std_fdc_pop2 = subject_means_fdc_pop2.std(ddof=1)\n",
    "CVbs_fdc_pop2 = group_std_fdc_pop2 / group_mean_fdc_pop2 * 100\n",
    "print(CVbs_fdc_pop2)"
   ]
  },
  {
   "cell_type": "code",
   "execution_count": 114,
   "id": "a40875d8",
   "metadata": {},
   "outputs": [
    {
     "name": "stdout",
     "output_type": "stream",
     "text": [
      "0    0.004783\n",
      "1    0.003657\n",
      "2    0.003701\n",
      "3    0.006064\n",
      "4    0.004143\n",
      "5    0.003665\n",
      "6    0.003199\n",
      "7    0.004416\n",
      "8    0.006281\n",
      "9    0.006002\n",
      "dtype: float64\n"
     ]
    }
   ],
   "source": [
    "print(subject_stds_fdc_pop2)"
   ]
  },
  {
   "cell_type": "code",
   "execution_count": 115,
   "id": "c16b3787",
   "metadata": {},
   "outputs": [
    {
     "name": "stdout",
     "output_type": "stream",
     "text": [
      "0    0.000023\n",
      "1    0.000013\n",
      "2    0.000014\n",
      "3    0.000037\n",
      "4    0.000017\n",
      "5    0.000013\n",
      "6    0.000010\n",
      "7    0.000019\n",
      "8    0.000039\n",
      "9    0.000036\n",
      "dtype: float64\n"
     ]
    }
   ],
   "source": [
    "subject_var_fdc_pop2 = site_fdc_pop2.var(axis=1, ddof=1)\n",
    "print(subject_var_fdc_pop2)"
   ]
  },
  {
   "cell_type": "code",
   "execution_count": 118,
   "id": "a4f652d4",
   "metadata": {},
   "outputs": [
    {
     "name": "stdout",
     "output_type": "stream",
     "text": [
      "1.4070955487342813\n"
     ]
    }
   ],
   "source": [
    "import numpy as np\n",
    "subject_means_fdc_pop2 = site_fdc_pop2.mean(axis=1)\n",
    "subject_var_fdc_pop2 = site_fdc_pop2.var(axis=1, ddof=1)\n",
    "\n",
    "cv_squared_fdc_pop2 = subject_var_fdc_pop2 / (subject_means_fdc_pop2 ** 2)\n",
    "CVws_fdc_pop2_v2 = np.sqrt(cv_squared_fdc_pop2.mean()) * 100\n",
    "print(CVws_fdc_pop2_v2)"
   ]
  },
  {
   "cell_type": "markdown",
   "id": "520dbc24",
   "metadata": {},
   "source": [
    "# **DTI metrics (site-specific pipeline)**"
   ]
  },
  {
   "cell_type": "markdown",
   "id": "835820bd",
   "metadata": {},
   "source": [
    "## **Whole-brain FA (WM mask)**"
   ]
  },
  {
   "cell_type": "markdown",
   "id": "a55c65a3",
   "metadata": {},
   "source": [
    "### Step 1: Means & CV "
   ]
  },
  {
   "cell_type": "code",
   "execution_count": 37,
   "id": "83b90785",
   "metadata": {},
   "outputs": [
    {
     "name": "stdout",
     "output_type": "stream",
     "text": [
      "mean value for FA (whole-brain WM mask mean) is:  0.30186324999999997\n",
      "std for FA (whole-brain WM mask mean) is:  0.006834938233359986\n",
      "CV for FA (whole-brain WM mask mean) is:  2.2642498659111325\n"
     ]
    }
   ],
   "source": [
    "# CV of mean FA\n",
    "mean_fa_wm = fa_wm_df['means'].mean()\n",
    "std_fa_wm = fa_wm_df['means'].std(ddof=1)\n",
    "cv_fa_wm = std_fa_wm/mean_fa_wm*100\n",
    "\n",
    "print(\"mean value for FA (whole-brain WM mask mean) is: \", mean_fa_wm)\n",
    "print(\"std for FA (whole-brain WM mask mean) is: \", std_fa_wm)\n",
    "print(\"CV for FA (whole-brain WM mask mean) is: \", cv_fa_wm)"
   ]
  },
  {
   "cell_type": "code",
   "execution_count": 38,
   "id": "0ebe652e",
   "metadata": {},
   "outputs": [
    {
     "name": "stdout",
     "output_type": "stream",
     "text": [
      "mean value for FA (whole-brain WM mask median) is:  0.260078828425\n",
      "std for FA (whole-brain WM mask median) is:  0.006482311208467003\n",
      "CV for FA (whole-brain WM mask median) is:  2.2642498659111325\n"
     ]
    }
   ],
   "source": [
    "# CV of median FA\n",
    "mean_fa_wm_medians = fa_wm_df['medians'].mean()\n",
    "std_fa_wm_medians = fa_wm_df['medians'].std(ddof=1)\n",
    "cv_fa_wm_medians = std_fa_wm_medians/mean_fa_wm_medians*100\n",
    "\n",
    "print(\"mean value for FA (whole-brain WM mask median) is: \", mean_fa_wm_medians)\n",
    "print(\"std for FA (whole-brain WM mask median) is: \", std_fa_wm_medians)\n",
    "print(\"CV for FA (whole-brain WM mask median) is: \", cv_fa_wm)"
   ]
  },
  {
   "cell_type": "markdown",
   "id": "8863653d",
   "metadata": {},
   "source": [
    "### Step 2: CV per site"
   ]
  },
  {
   "cell_type": "code",
   "execution_count": 39,
   "id": "ba128479",
   "metadata": {},
   "outputs": [
    {
     "name": "stdout",
     "output_type": "stream",
     "text": [
      "Site     ID  FloreyPrisma  FloreyVida       MBI       RCH\n",
      "0     TH001      0.300967    0.290889  0.301069  0.298801\n",
      "1     TH002      0.310901    0.309721  0.312484  0.312975\n",
      "2     TH003      0.295905    0.286627  0.291792  0.291650\n",
      "3     TH004      0.304946    0.300898  0.307297  0.307684\n",
      "4     TH005      0.296743    0.289684  0.299605  0.294018\n",
      "5     TH006      0.307611    0.302398  0.307593  0.307814\n",
      "6     TH007      0.301112    0.291860  0.303361  0.298606\n",
      "7     TH008      0.300816    0.297923  0.300693  0.300216\n",
      "8     TH009      0.305453    0.298565  0.308475  0.306272\n",
      "9     TH010      0.308961    0.301351  0.311741  0.309053\n"
     ]
    }
   ],
   "source": [
    "mean_data_fa_wm = fa_wm_df.pivot(index='ID', columns='Site', values='means').reset_index()\n",
    "print(mean_data_fa_wm)"
   ]
  },
  {
   "cell_type": "code",
   "execution_count": 40,
   "id": "47e2a980",
   "metadata": {},
   "outputs": [
    {
     "name": "stdout",
     "output_type": "stream",
     "text": [
      "Florey Prisma mean is:  0.3033415\n",
      "Florey Vida mean is:  0.2969916\n",
      "MBI mean is:  0.304411\n",
      "RCH mean is 0.30270889999999995\n",
      "Florey Prisma std is:  0.005053217990108444\n",
      "Florey Vida std is:  0.00709675359583521\n",
      "MBI std is:  0.006344763632756979\n",
      "RCH std is 0.007034050476077066\n",
      "Florey Prisma CV is:  1.6658511908553375\n",
      "Florey Vida CV is:  2.3895469083419227\n",
      "MBI CV is:  2.0842754147376343\n",
      "RCH CV is 2.3237012443562337\n"
     ]
    }
   ],
   "source": [
    "fa_wm_means_floreyPrisma_cv = (mean_data_fa_wm['FloreyPrisma'].std()/mean_data_fa_wm['FloreyPrisma'].mean())*100\n",
    "fa_wm_means_floreyVida_cv = (mean_data_fa_wm['FloreyVida'].std()/mean_data_fa_wm['FloreyVida'].mean())*100\n",
    "fa_wm_means_MBI_cv = (mean_data_fa_wm['MBI'].std()/mean_data_fa_wm['MBI'].mean())*100\n",
    "fa_wm_means_RCH_cv = (mean_data_fa_wm['RCH'].std()/mean_data_fa_wm['RCH'].mean())*100\n",
    "\n",
    "print(\"Florey Prisma mean is: \", mean_data_fa_wm['FloreyPrisma'].mean())\n",
    "print(\"Florey Vida mean is: \", mean_data_fa_wm['FloreyVida'].mean())\n",
    "print(\"MBI mean is: \", mean_data_fa_wm['MBI'].mean())\n",
    "print(\"RCH mean is\", mean_data_fa_wm['RCH'].mean())\n",
    "\n",
    "print(\"Florey Prisma std is: \", mean_data_fa_wm['FloreyPrisma'].std())\n",
    "print(\"Florey Vida std is: \", mean_data_fa_wm['FloreyVida'].std())\n",
    "print(\"MBI std is: \", mean_data_fa_wm['MBI'].std())\n",
    "print(\"RCH std is\", mean_data_fa_wm['RCH'].std())\n",
    "\n",
    "print(\"Florey Prisma CV is: \", fa_wm_means_floreyPrisma_cv)\n",
    "print(\"Florey Vida CV is: \", fa_wm_means_floreyVida_cv)\n",
    "print(\"MBI CV is: \", fa_wm_means_MBI_cv)\n",
    "print(\"RCH CV is\", fa_wm_means_RCH_cv)"
   ]
  },
  {
   "cell_type": "markdown",
   "id": "9712091a",
   "metadata": {},
   "source": [
    "### Step 3: ICC"
   ]
  },
  {
   "cell_type": "code",
   "execution_count": 41,
   "id": "81798d02",
   "metadata": {},
   "outputs": [
    {
     "name": "stdout",
     "output_type": "stream",
     "text": [
      "    Type              Description       ICC          F  df1  df2  \\\n",
      "0   ICC1   Single raters absolute  0.718493  11.209263    9   30   \n",
      "1   ICC2     Single random raters  0.732968  48.780502    9   27   \n",
      "2   ICC3      Single fixed raters  0.922751  48.780502    9   27   \n",
      "3  ICC1k  Average raters absolute  0.910788  11.209263    9   30   \n",
      "4  ICC2k    Average random raters  0.916524  48.780502    9   27   \n",
      "5  ICC3k     Average fixed raters  0.979500  48.780502    9   27   \n",
      "\n",
      "           pval         CI95%  \n",
      "0  1.981981e-07  [0.46, 0.91]  \n",
      "1  2.175666e-14  [0.26, 0.93]  \n",
      "2  2.175666e-14  [0.81, 0.98]  \n",
      "3  1.981981e-07  [0.77, 0.97]  \n",
      "4  2.175666e-14  [0.59, 0.98]  \n",
      "5  2.175666e-14  [0.95, 0.99]  \n"
     ]
    }
   ],
   "source": [
    "icc_fa_wm_means = pg.intraclass_corr(data=fa_wm_df, targets='ID', raters='Site', ratings='means')\n",
    "print(icc_fa_wm_means)"
   ]
  },
  {
   "cell_type": "markdown",
   "id": "351ff1ea",
   "metadata": {},
   "source": [
    "### Step 4: Plot means"
   ]
  },
  {
   "cell_type": "code",
   "execution_count": 42,
   "id": "27e4192d",
   "metadata": {},
   "outputs": [
    {
     "name": "stderr",
     "output_type": "stream",
     "text": [
      "/var/folders/g8/w52c85dx1fsgxg5681hppls80000gn/T/ipykernel_79666/325219995.py:11: FutureWarning: \n",
      "\n",
      "Passing `palette` without assigning `hue` is deprecated and will be removed in v0.14.0. Assign the `x` variable to `hue` and set `legend=False` for the same effect.\n",
      "\n",
      "  sns.boxplot(data=fa_wm_df, x=\"Site\", y=\"means\", palette=\"hls\",\n"
     ]
    },
    {
     "data": {
      "image/png": "[encoded data removed]",
      "text/plain": [
       "<Figure size 300x400 with 1 Axes>"
      ]
     },
     "metadata": {},
     "output_type": "display_data"
    }
   ],
   "source": [
    "import seaborn as sns\n",
    "import matplotlib.pyplot as plt\n",
    "\n",
    "## Plot means\n",
    "\n",
    "plt.figure(figsize=(3, 4))\n",
    "\n",
    "plt.rcParams['font.family'] = 'Arial'\n",
    "\n",
    "# boxplot\n",
    "sns.boxplot(data=fa_wm_df, x=\"Site\", y=\"means\", palette=\"hls\", \n",
    "            boxprops={'alpha': 0.8})  # Box transparency\n",
    "\n",
    "# lines between IDs\n",
    "sns.lineplot(data=fa_wm_df, x=\"Site\", y=\"means\", hue=\"ID\", marker=\"o\", \n",
    "             palette=\"dark:k\", alpha=0.8, linewidth=1, legend=False)  \n",
    "\n",
    "# dummy labels\n",
    "dummy_labels = [\"Site 1\", \"Site 2\", \"Site 3\", \"Site 4\"]\n",
    "plt.xticks(ticks=range(len(dummy_labels)), labels=dummy_labels)\n",
    "\n",
    "# plot headings\n",
    "plt.title(\"FA\")\n",
    "#plt.xlabel(\"Site\")\n",
    "plt.ylabel(\"Mean FA\")\n",
    "\n",
    "plt.savefig(os.path.join(output_dir, \"boxplot_fa_means_WMmask.svg\"), format=\"svg\")\n"
   ]
  },
  {
   "cell_type": "markdown",
   "id": "8a9c0403",
   "metadata": {},
   "source": [
    "### Step 5: CVws and CVbs"
   ]
  },
  {
   "cell_type": "code",
   "execution_count": 87,
   "id": "34e1eb11",
   "metadata": {},
   "outputs": [
    {
     "name": "stdout",
     "output_type": "stream",
     "text": [
      "Site  FloreyPrisma  FloreyVida       MBI       RCH\n",
      "0         0.300967    0.290889  0.301069  0.298801\n",
      "1         0.310901    0.309721  0.312484  0.312975\n",
      "2         0.295905    0.286627  0.291792  0.291650\n",
      "3         0.304946    0.300898  0.307297  0.307684\n",
      "4         0.296743    0.289684  0.299605  0.294018\n",
      "5         0.307611    0.302398  0.307593  0.307814\n",
      "6         0.301112    0.291860  0.303361  0.298606\n",
      "7         0.300816    0.297923  0.300693  0.300216\n",
      "8         0.305453    0.298565  0.308475  0.306272\n",
      "9         0.308961    0.301351  0.311741  0.309053\n"
     ]
    }
   ],
   "source": [
    "site_fa = mean_data_fa_wm.iloc[:, 1:]\n",
    "print(site_fa)"
   ]
  },
  {
   "cell_type": "code",
   "execution_count": 88,
   "id": "fdb7f88e",
   "metadata": {},
   "outputs": [
    {
     "name": "stdout",
     "output_type": "stream",
     "text": [
      "1.1683901908696268\n"
     ]
    }
   ],
   "source": [
    "subject_means_fa = site_fa.mean(axis=1)\n",
    "subject_stds_fa = site_fa.std(axis=1, ddof=1)\n",
    "\n",
    "cvws_indiv_fa = subject_stds_fa / subject_means_fa\n",
    "CVws_fa = cvws_indiv_fa.mean() * 100\n",
    "print(CVws_fa)"
   ]
  },
  {
   "cell_type": "code",
   "execution_count": null,
   "id": "979eb380",
   "metadata": {},
   "outputs": [
    {
     "ename": "NameError",
     "evalue": "name 'site_fa' is not defined",
     "output_type": "error",
     "traceback": [
      "\u001b[0;31m---------------------------------------------------------------------------\u001b[0m",
      "\u001b[0;31mNameError\u001b[0m                                 Traceback (most recent call last)",
      "\u001b[0;32m/var/folders/g8/w52c85dx1fsgxg5681hppls80000gn/T/ipykernel_48447/4020771669.py\u001b[0m in \u001b[0;36m<module>\u001b[0;34m\u001b[0m\n\u001b[1;32m      2\u001b[0m \u001b[0;34m\u001b[0m\u001b[0m\n\u001b[1;32m      3\u001b[0m \u001b[0;31m### Alternative CVws from QIBA guidelines\u001b[0m\u001b[0;34m\u001b[0m\u001b[0;34m\u001b[0m\u001b[0m\n\u001b[0;32m----> 4\u001b[0;31m \u001b[0msubject_var_fa\u001b[0m \u001b[0;34m=\u001b[0m \u001b[0msite_fa\u001b[0m\u001b[0;34m.\u001b[0m\u001b[0mvar\u001b[0m\u001b[0;34m(\u001b[0m\u001b[0maxis\u001b[0m\u001b[0;34m=\u001b[0m\u001b[0;36m1\u001b[0m\u001b[0;34m)\u001b[0m\u001b[0;34m\u001b[0m\u001b[0;34m\u001b[0m\u001b[0m\n\u001b[0m\u001b[1;32m      5\u001b[0m \u001b[0;34m\u001b[0m\u001b[0m\n\u001b[1;32m      6\u001b[0m \u001b[0mcvws_squared_indiv_fa\u001b[0m \u001b[0;34m=\u001b[0m \u001b[0msubject_var_fa\u001b[0m \u001b[0;34m/\u001b[0m \u001b[0;34m(\u001b[0m\u001b[0msubject_means_fa\u001b[0m \u001b[0;34m**\u001b[0m \u001b[0;36m2\u001b[0m\u001b[0;34m)\u001b[0m\u001b[0;34m\u001b[0m\u001b[0;34m\u001b[0m\u001b[0m\n",
      "\u001b[0;31mNameError\u001b[0m: name 'site_fa' is not defined"
     ]
    }
   ],
   "source": [
    "### Alternative CVws from QIBA guidelines\n",
    "subject_var_fa = site_fa.var(axis=1)\n",
    "\n",
    "cvws_squared_indiv_fa = subject_var_fa / (subject_means_fa ** 2)\n",
    "\n",
    "CVws_qiba_fa = np.sqrt(cvws_squared_indiv_fa.mean())*100\n",
    "print(CVws_qiba_fa)"
   ]
  },
  {
   "cell_type": "code",
   "execution_count": 89,
   "id": "945f6d6a",
   "metadata": {},
   "outputs": [
    {
     "name": "stdout",
     "output_type": "stream",
     "text": [
      "2.0690593918437736\n"
     ]
    }
   ],
   "source": [
    "group_mean_fa = subject_means_fa.mean()\n",
    "group_std_fa = subject_means_fa.std(ddof=1)\n",
    "CVbs_fa = group_std_fa / group_mean_fa * 100\n",
    "print(CVbs_fa)"
   ]
  },
  {
   "cell_type": "markdown",
   "id": "07fec3f2",
   "metadata": {},
   "source": [
    "## **Whole-brain ADC (WM mask)**"
   ]
  },
  {
   "cell_type": "markdown",
   "id": "15ddc96b",
   "metadata": {},
   "source": [
    "### Step 1: Means & CV"
   ]
  },
  {
   "cell_type": "code",
   "execution_count": 43,
   "id": "234f1e84",
   "metadata": {},
   "outputs": [
    {
     "name": "stdout",
     "output_type": "stream",
     "text": [
      "mean value for ADC (whole-brain WM mask mean) is:  0.000840122075\n",
      "std for ADC (whole-brain WM mask mean) is:  1.5021968429838062e-05\n",
      "CV for ADC (whole-brain WM mask mean) is:  1.7880697194914277\n"
     ]
    }
   ],
   "source": [
    "# CV of mean ADC\n",
    "mean_adc_wm = adc_wm_df['means'].mean()\n",
    "std_adc_wm = adc_wm_df['means'].std(ddof=1)\n",
    "cv_adc_wm = std_adc_wm/mean_adc_wm*100\n",
    "\n",
    "print(\"mean value for ADC (whole-brain WM mask mean) is: \", mean_adc_wm)\n",
    "print(\"std for ADC (whole-brain WM mask mean) is: \", std_adc_wm)\n",
    "print(\"CV for ADC (whole-brain WM mask mean) is: \", cv_adc_wm)"
   ]
  },
  {
   "cell_type": "code",
   "execution_count": 44,
   "id": "e063e975",
   "metadata": {},
   "outputs": [
    {
     "name": "stdout",
     "output_type": "stream",
     "text": [
      "mean value for ADC (whole-brain WM mask median) is:  0.000742846747725\n",
      "std for ADC (whole-brain WM mask median) is:  1.3148318714619783e-05\n",
      "CV for ADC (whole-brain WM mask median) is:  1.7880697194914277\n"
     ]
    }
   ],
   "source": [
    "# CV of median ADC\n",
    "mean_adc_wm_medians = adc_wm_df['medians'].mean()\n",
    "std_adc_wm_medians = adc_wm_df['medians'].std(ddof=1)\n",
    "cv_adc_wm_medians = std_adc_wm_medians/mean_adc_wm_medians*100\n",
    "\n",
    "print(\"mean value for ADC (whole-brain WM mask median) is: \", mean_adc_wm_medians)\n",
    "print(\"std for ADC (whole-brain WM mask median) is: \", std_adc_wm_medians)\n",
    "print(\"CV for ADC (whole-brain WM mask median) is: \", cv_adc_wm)"
   ]
  },
  {
   "cell_type": "markdown",
   "id": "8c838c9b",
   "metadata": {},
   "source": [
    "### Step 2: CV per site"
   ]
  },
  {
   "cell_type": "code",
   "execution_count": 45,
   "id": "03685733",
   "metadata": {},
   "outputs": [
    {
     "name": "stdout",
     "output_type": "stream",
     "text": [
      "Site     ID  FloreyPrisma  FloreyVida       MBI       RCH\n",
      "0     TH001      0.000836    0.000844  0.000820  0.000819\n",
      "1     TH002      0.000839    0.000847  0.000828  0.000845\n",
      "2     TH003      0.000842    0.000858  0.000822  0.000839\n",
      "3     TH004      0.000849    0.000847  0.000853  0.000850\n",
      "4     TH005      0.000840    0.000851  0.000832  0.000840\n",
      "5     TH006      0.000812    0.000817  0.000809  0.000810\n",
      "6     TH007      0.000860    0.000867  0.000853  0.000856\n",
      "7     TH008      0.000832    0.000848  0.000827  0.000836\n",
      "8     TH009      0.000856    0.000862  0.000851  0.000858\n",
      "9     TH010      0.000838    0.000846  0.000825  0.000837\n"
     ]
    }
   ],
   "source": [
    "mean_data_adc_wm = adc_wm_df.pivot(index='ID', columns='Site', values='means').reset_index()\n",
    "print(mean_data_adc_wm)"
   ]
  },
  {
   "cell_type": "code",
   "execution_count": 46,
   "id": "4319d21a",
   "metadata": {},
   "outputs": [
    {
     "name": "stdout",
     "output_type": "stream",
     "text": [
      "Florey Prisma mean is:  0.0008404618000000001\n",
      "Florey Vida mean is:  0.0008487871\n",
      "MBI mean is:  0.000832256\n",
      "RCH mean is 0.0008389833999999999\n",
      "Florey Prisma std is:  1.3556294059300346e-05\n",
      "Florey Vida std is:  1.3571342523043851e-05\n",
      "MBI std is:  1.527055828856444e-05\n",
      "RCH std is 1.4932159300575994e-05\n",
      "Florey Prisma CV is:  1.6129577881231896\n",
      "Florey Vida CV is:  1.5989100827573666\n",
      "MBI CV is:  1.8348390745833543\n",
      "RCH CV is 1.7797919840340102\n"
     ]
    }
   ],
   "source": [
    "adc_wm_means_floreyPrisma_cv = (mean_data_adc_wm['FloreyPrisma'].std()/mean_data_adc_wm['FloreyPrisma'].mean())*100\n",
    "adc_wm_means_floreyVida_cv = (mean_data_adc_wm['FloreyVida'].std()/mean_data_adc_wm['FloreyVida'].mean())*100\n",
    "adc_wm_means_MBI_cv = (mean_data_adc_wm['MBI'].std()/mean_data_adc_wm['MBI'].mean())*100\n",
    "adc_wm_means_RCH_cv = (mean_data_adc_wm['RCH'].std()/mean_data_adc_wm['RCH'].mean())*100\n",
    "\n",
    "print(\"Florey Prisma mean is: \", mean_data_adc_wm['FloreyPrisma'].mean())\n",
    "print(\"Florey Vida mean is: \", mean_data_adc_wm['FloreyVida'].mean())\n",
    "print(\"MBI mean is: \", mean_data_adc_wm['MBI'].mean())\n",
    "print(\"RCH mean is\", mean_data_adc_wm['RCH'].mean())\n",
    "\n",
    "print(\"Florey Prisma std is: \", mean_data_adc_wm['FloreyPrisma'].std())\n",
    "print(\"Florey Vida std is: \", mean_data_adc_wm['FloreyVida'].std())\n",
    "print(\"MBI std is: \", mean_data_adc_wm['MBI'].std())\n",
    "print(\"RCH std is\", mean_data_adc_wm['RCH'].std())\n",
    "\n",
    "print(\"Florey Prisma CV is: \", adc_wm_means_floreyPrisma_cv)\n",
    "print(\"Florey Vida CV is: \", adc_wm_means_floreyVida_cv)\n",
    "print(\"MBI CV is: \", adc_wm_means_MBI_cv)\n",
    "print(\"RCH CV is\", adc_wm_means_RCH_cv)"
   ]
  },
  {
   "cell_type": "markdown",
   "id": "189e8174",
   "metadata": {},
   "source": [
    "### Step 3: ICC"
   ]
  },
  {
   "cell_type": "code",
   "execution_count": 47,
   "id": "d1f56d99",
   "metadata": {},
   "outputs": [
    {
     "name": "stdout",
     "output_type": "stream",
     "text": [
      "    Type              Description       ICC          F  df1  df2  \\\n",
      "0   ICC1   Single raters absolute  0.696741  10.190046    9   30   \n",
      "1   ICC2     Single random raters  0.709886  25.324994    9   27   \n",
      "2   ICC3      Single fixed raters  0.858782  25.324994    9   27   \n",
      "3  ICC1k  Average raters absolute  0.901865  10.190046    9   30   \n",
      "4  ICC2k    Average random raters  0.907302  25.324994    9   27   \n",
      "5  ICC3k     Average fixed raters  0.960513  25.324994    9   27   \n",
      "\n",
      "           pval         CI95%  \n",
      "0  5.481310e-07   [0.43, 0.9]  \n",
      "1  6.325666e-11  [0.32, 0.91]  \n",
      "2  6.325666e-11  [0.68, 0.96]  \n",
      "3  5.481310e-07  [0.75, 0.97]  \n",
      "4  6.325666e-11  [0.65, 0.98]  \n",
      "5  6.325666e-11   [0.9, 0.99]  \n"
     ]
    }
   ],
   "source": [
    "icc_adc_wm_means = pg.intraclass_corr(data=adc_wm_df, targets='ID', raters='Site', ratings='means')\n",
    "print(icc_adc_wm_means)"
   ]
  },
  {
   "cell_type": "markdown",
   "id": "351d7684",
   "metadata": {},
   "source": [
    "### Step 4: Plot means"
   ]
  },
  {
   "cell_type": "code",
   "execution_count": 48,
   "id": "729c8014",
   "metadata": {},
   "outputs": [
    {
     "name": "stderr",
     "output_type": "stream",
     "text": [
      "/var/folders/g8/w52c85dx1fsgxg5681hppls80000gn/T/ipykernel_79666/4227588073.py:11: FutureWarning: \n",
      "\n",
      "Passing `palette` without assigning `hue` is deprecated and will be removed in v0.14.0. Assign the `x` variable to `hue` and set `legend=False` for the same effect.\n",
      "\n",
      "  sns.boxplot(data=adc_wm_df, x=\"Site\", y=\"means\", palette=\"hls\",\n"
     ]
    },
    {
     "data": {
      "image/png": "[encoded data removed]",
      "text/plain": [
       "<Figure size 300x400 with 1 Axes>"
      ]
     },
     "metadata": {},
     "output_type": "display_data"
    }
   ],
   "source": [
    "import seaborn as sns\n",
    "import matplotlib.pyplot as plt\n",
    "\n",
    "## Plot means\n",
    "\n",
    "plt.figure(figsize=(3, 4))\n",
    "\n",
    "plt.rcParams['font.family'] = 'Arial'\n",
    "\n",
    "# boxplot\n",
    "sns.boxplot(data=adc_wm_df, x=\"Site\", y=\"means\", palette=\"hls\", \n",
    "            boxprops={'alpha': 0.8})  # Box transparency\n",
    "\n",
    "# lines between IDs\n",
    "sns.lineplot(data=adc_wm_df, x=\"Site\", y=\"means\", hue=\"ID\", marker=\"o\", \n",
    "             palette=\"dark:k\", alpha=0.8, linewidth=1, legend=False)  \n",
    "\n",
    "# dummy labels\n",
    "dummy_labels = [\"Site 1\", \"Site 2\", \"Site 3\", \"Site 4\"]\n",
    "plt.xticks(ticks=range(len(dummy_labels)), labels=dummy_labels)\n",
    "\n",
    "# plot headings\n",
    "plt.title(\"MD\")\n",
    "#plt.xlabel(\"Site\")\n",
    "plt.ylabel(\"Mean MD\")\n",
    "\n",
    "plt.savefig(os.path.join(output_dir, \"boxplot_adc_means_WMmask.svg\"), format=\"svg\")\n"
   ]
  },
  {
   "cell_type": "markdown",
   "id": "f00844d3",
   "metadata": {},
   "source": [
    "### Step 5: CVws & CVbs"
   ]
  },
  {
   "cell_type": "code",
   "execution_count": 96,
   "id": "b0d04a20",
   "metadata": {},
   "outputs": [
    {
     "name": "stdout",
     "output_type": "stream",
     "text": [
      "Site  FloreyPrisma  FloreyVida       MBI       RCH\n",
      "0         0.000836    0.000844  0.000820  0.000819\n",
      "1         0.000839    0.000847  0.000828  0.000845\n",
      "2         0.000842    0.000858  0.000822  0.000839\n",
      "3         0.000849    0.000847  0.000853  0.000850\n",
      "4         0.000840    0.000851  0.000832  0.000840\n",
      "5         0.000812    0.000817  0.000809  0.000810\n",
      "6         0.000860    0.000867  0.000853  0.000856\n",
      "7         0.000832    0.000848  0.000827  0.000836\n",
      "8         0.000856    0.000862  0.000851  0.000858\n",
      "9         0.000838    0.000846  0.000825  0.000837\n"
     ]
    }
   ],
   "source": [
    "site_adc = mean_data_adc_wm.iloc[:, 1:]\n",
    "print(site_adc)"
   ]
  },
  {
   "cell_type": "code",
   "execution_count": 97,
   "id": "09be1d68",
   "metadata": {},
   "outputs": [
    {
     "name": "stdout",
     "output_type": "stream",
     "text": [
      "0.9237982726746724\n"
     ]
    }
   ],
   "source": [
    "subject_means_adc = site_adc.mean(axis=1)\n",
    "subject_stds_adc = site_adc.std(axis=1, ddof=1)\n",
    "\n",
    "cvws_indiv_adc = subject_stds_adc / subject_means_adc\n",
    "CVws_adc = cvws_indiv_adc.mean() * 100\n",
    "print(CVws_adc)"
   ]
  },
  {
   "cell_type": "code",
   "execution_count": 139,
   "id": "04089cfb",
   "metadata": {},
   "outputs": [
    {
     "name": "stdout",
     "output_type": "stream",
     "text": [
      "1.0142445454590199\n"
     ]
    }
   ],
   "source": [
    "### Alternative CVws from QIBA guidelines\n",
    "subject_var_adc = site_adc.var(axis=1)\n",
    "\n",
    "cvws_squared_indiv_adc = subject_var_adc / (subject_means_adc ** 2)\n",
    "\n",
    "CVws_qiba_adc = np.sqrt(cvws_squared_indiv_adc.mean())*100\n",
    "print(CVws_qiba_adc)"
   ]
  },
  {
   "cell_type": "code",
   "execution_count": 98,
   "id": "a8374c01",
   "metadata": {},
   "outputs": [
    {
     "name": "stdout",
     "output_type": "stream",
     "text": [
      "1.6155148641548531\n"
     ]
    }
   ],
   "source": [
    "group_mean_adc = subject_means_adc.mean()\n",
    "group_std_adc = subject_means_adc.std(ddof=1)\n",
    "CVbs_adc = group_std_adc / group_mean_adc * 100\n",
    "print(CVbs_adc)"
   ]
  },
  {
   "cell_type": "markdown",
   "id": "a021a7cc",
   "metadata": {},
   "source": [
    "## **Whole-brain FA (FA skeleton)**"
   ]
  },
  {
   "cell_type": "markdown",
   "id": "2fd5ec2a",
   "metadata": {},
   "source": [
    "### Step 1: Means & CV"
   ]
  },
  {
   "cell_type": "code",
   "execution_count": 5,
   "id": "ff1a56fb",
   "metadata": {},
   "outputs": [
    {
     "name": "stdout",
     "output_type": "stream",
     "text": [
      "mean value for FA (whole-brain FA skeleton mean) is:  0.3785101\n",
      "std for FA (whole-brain FA skeleton mean) is:  0.009385210634632036\n",
      "CV for FA (whole-brain FA skeleton mean) is:  2.4795139243660964\n"
     ]
    }
   ],
   "source": [
    "# CV of mean FA\n",
    "mean_fa_skel = fa_skel_df['means'].mean()\n",
    "std_fa_skel = fa_skel_df['means'].std(ddof=1)\n",
    "cv_fa_skel = std_fa_skel/mean_fa_skel*100\n",
    "\n",
    "print(\"mean value for FA (whole-brain FA skeleton mean) is: \", mean_fa_skel)\n",
    "print(\"std for FA (whole-brain FA skeleton mean) is: \", std_fa_skel)\n",
    "print(\"CV for FA (whole-brain FA skeleton mean) is: \", cv_fa_skel)"
   ]
  },
  {
   "cell_type": "markdown",
   "id": "4899f039",
   "metadata": {},
   "source": [
    "### Step 2: CV per site"
   ]
  },
  {
   "cell_type": "code",
   "execution_count": 8,
   "id": "cc2a01ef",
   "metadata": {},
   "outputs": [
    {
     "name": "stdout",
     "output_type": "stream",
     "text": [
      "Site     ID  FloreyPrisma  FloreyVida       MBI       RCH\n",
      "0     TH001      0.378025    0.362925  0.377688  0.375086\n",
      "1     TH002      0.391722    0.389691  0.393895  0.395018\n",
      "2     TH003      0.371605    0.356917  0.366207  0.366148\n",
      "3     TH004      0.383836    0.377017  0.386669  0.387480\n",
      "4     TH005      0.371584    0.360939  0.375033  0.367942\n",
      "5     TH006      0.385047    0.377052  0.385768  0.385672\n",
      "6     TH007      0.378896    0.364964  0.381305  0.374709\n",
      "7     TH008      0.377287    0.371977  0.376775  0.376314\n",
      "8     TH009      0.384464    0.373538  0.387899  0.385185\n",
      "9     TH010      0.386806    0.374279  0.390510  0.386530\n"
     ]
    }
   ],
   "source": [
    "mean_data_fa_skel = fa_skel_df.pivot(index='ID', columns='Site', values='means').reset_index()\n",
    "print(mean_data_fa_skel)"
   ]
  },
  {
   "cell_type": "code",
   "execution_count": null,
   "id": "cc72bf20",
   "metadata": {},
   "outputs": [],
   "source": []
  },
  {
   "cell_type": "markdown",
   "id": "83739b46",
   "metadata": {},
   "source": [
    "### Step 3: ICC"
   ]
  },
  {
   "cell_type": "code",
   "execution_count": 7,
   "id": "0db0c05b",
   "metadata": {},
   "outputs": [
    {
     "name": "stdout",
     "output_type": "stream",
     "text": [
      "    Type              Description       ICC          F  df1  df2  \\\n",
      "0   ICC1   Single raters absolute  0.656796   8.654888    9   30   \n",
      "1   ICC2     Single random raters  0.679037  44.986334    9   27   \n",
      "2   ICC3      Single fixed raters  0.916643  44.986334    9   27   \n",
      "3  ICC1k  Average raters absolute  0.884458   8.654888    9   30   \n",
      "4  ICC2k    Average random raters  0.894320  44.986334    9   27   \n",
      "5  ICC3k     Average fixed raters  0.977771  44.986334    9   27   \n",
      "\n",
      "           pval         CI95%  \n",
      "0  2.913723e-06  [0.37, 0.88]  \n",
      "1  5.982553e-14  [0.19, 0.91]  \n",
      "2  5.982553e-14   [0.8, 0.98]  \n",
      "3  2.913723e-06   [0.7, 0.97]  \n",
      "4  5.982553e-14  [0.49, 0.98]  \n",
      "5  5.982553e-14  [0.94, 0.99]  \n"
     ]
    }
   ],
   "source": [
    "import pingouin as pg\n",
    "icc_fa_skel_means = pg.intraclass_corr(data=fa_skel_df, targets='ID', raters='Site', ratings='means')\n",
    "print(icc_fa_skel_means)"
   ]
  },
  {
   "cell_type": "markdown",
   "id": "8327682d",
   "metadata": {},
   "source": [
    "### Step 4: Plot means"
   ]
  },
  {
   "cell_type": "markdown",
   "id": "d4a66b9b",
   "metadata": {},
   "source": [
    "### Step 5: CVws & CVbs"
   ]
  },
  {
   "cell_type": "code",
   "execution_count": 9,
   "id": "e7c21f23",
   "metadata": {},
   "outputs": [
    {
     "name": "stdout",
     "output_type": "stream",
     "text": [
      "Site  FloreyPrisma  FloreyVida       MBI       RCH\n",
      "0         0.378025    0.362925  0.377688  0.375086\n",
      "1         0.391722    0.389691  0.393895  0.395018\n",
      "2         0.371605    0.356917  0.366207  0.366148\n",
      "3         0.383836    0.377017  0.386669  0.387480\n",
      "4         0.371584    0.360939  0.375033  0.367942\n",
      "5         0.385047    0.377052  0.385768  0.385672\n",
      "6         0.378896    0.364964  0.381305  0.374709\n",
      "7         0.377287    0.371977  0.376775  0.376314\n",
      "8         0.384464    0.373538  0.387899  0.385185\n",
      "9         0.386806    0.374279  0.390510  0.386530\n"
     ]
    }
   ],
   "source": [
    "site_fa_skel = mean_data_fa_skel.iloc[:, 1:]\n",
    "print(site_fa_skel)"
   ]
  },
  {
   "cell_type": "code",
   "execution_count": 10,
   "id": "f598709d",
   "metadata": {},
   "outputs": [
    {
     "name": "stdout",
     "output_type": "stream",
     "text": [
      "1.422179218106083\n"
     ]
    }
   ],
   "source": [
    "subject_means_fa_skel = site_fa_skel.mean(axis=1)\n",
    "subject_stds_fa_skel = site_fa_skel.std(axis=1, ddof=1)\n",
    "\n",
    "cvws_indiv_fa_skel = subject_stds_fa_skel / subject_means_fa_skel\n",
    "CVws_fa_skel = cvws_indiv_fa_skel.mean() * 100\n",
    "print(CVws_fa_skel)"
   ]
  },
  {
   "cell_type": "code",
   "execution_count": 13,
   "id": "e30c472e",
   "metadata": {},
   "outputs": [
    {
     "name": "stdout",
     "output_type": "stream",
     "text": [
      "1.4983212105955372\n"
     ]
    }
   ],
   "source": [
    "import numpy as np\n",
    "\n",
    "### Alternative CVws from QIBA guidelines\n",
    "subject_var_fa_skel = site_fa_skel.var(axis=1)\n",
    "\n",
    "cvws_squared_indiv_fa_skel = subject_var_fa_skel / (subject_means_fa_skel ** 2)\n",
    "\n",
    "CVws_qiba_fa_skel = np.sqrt(cvws_squared_indiv_fa_skel.mean())*100\n",
    "print(CVws_qiba_fa_skel)"
   ]
  },
  {
   "cell_type": "code",
   "execution_count": 15,
   "id": "fcc89ad9",
   "metadata": {},
   "outputs": [
    {
     "name": "stdout",
     "output_type": "stream",
     "text": [
      "2.192809755474752\n"
     ]
    }
   ],
   "source": [
    "group_mean_fa_skel = subject_means_fa_skel.mean()\n",
    "group_std_fa_skel = subject_means_fa_skel.std(ddof=1)\n",
    "CVbs_fa_skel = group_std_fa_skel / group_mean_fa_skel * 100\n",
    "print(CVbs_fa_skel)"
   ]
  },
  {
   "cell_type": "markdown",
   "id": "2e94e3df",
   "metadata": {},
   "source": [
    "## **Whole-brain ADC (FA skeleton)**"
   ]
  },
  {
   "cell_type": "markdown",
   "id": "380487e9",
   "metadata": {},
   "source": [
    "### Step 1: Compute means & CV"
   ]
  },
  {
   "cell_type": "code",
   "execution_count": 16,
   "id": "1af00008",
   "metadata": {},
   "outputs": [
    {
     "name": "stdout",
     "output_type": "stream",
     "text": [
      "mean value for ADC (whole-brain FA skeleton mean) is:  0.00077074805\n",
      "std for ADC (whole-brain FA skeleton mean) is:  1.193580163045359e-05\n",
      "CV for ADC (whole-brain FA skeleton mean) is:  1.548599653343734\n"
     ]
    }
   ],
   "source": [
    "# CV of mean ADC\n",
    "mean_adc_skel = adc_skel_df['means'].mean()\n",
    "std_adc_skel = adc_skel_df['means'].std(ddof=1)\n",
    "cv_adc_skel = std_adc_skel/mean_adc_skel*100\n",
    "\n",
    "print(\"mean value for ADC (whole-brain FA skeleton mean) is: \", mean_adc_skel)\n",
    "print(\"std for ADC (whole-brain FA skeleton mean) is: \", std_adc_skel)\n",
    "print(\"CV for ADC (whole-brain FA skeleton mean) is: \", cv_adc_skel)"
   ]
  },
  {
   "cell_type": "markdown",
   "id": "f41bbad1",
   "metadata": {},
   "source": [
    "### Step 2: CV per site"
   ]
  },
  {
   "cell_type": "code",
   "execution_count": 17,
   "id": "361fcfbd",
   "metadata": {},
   "outputs": [
    {
     "name": "stdout",
     "output_type": "stream",
     "text": [
      "Site     ID  FloreyPrisma  FloreyVida       MBI       RCH\n",
      "0     TH001      0.000770    0.000779  0.000755  0.000755\n",
      "1     TH002      0.000760    0.000768  0.000750  0.000762\n",
      "2     TH003      0.000781    0.000798  0.000757  0.000776\n",
      "3     TH004      0.000769    0.000770  0.000765  0.000767\n",
      "4     TH005      0.000774    0.000786  0.000765  0.000775\n",
      "5     TH006      0.000758    0.000765  0.000751  0.000756\n",
      "6     TH007      0.000785    0.000798  0.000778  0.000784\n",
      "7     TH008      0.000772    0.000789  0.000767  0.000774\n",
      "8     TH009      0.000776    0.000783  0.000768  0.000775\n",
      "9     TH010      0.000768    0.000779  0.000754  0.000766\n"
     ]
    }
   ],
   "source": [
    "mean_data_adc_skel = adc_skel_df.pivot(index='ID', columns='Site', values='means').reset_index()\n",
    "print(mean_data_adc_skel)"
   ]
  },
  {
   "cell_type": "markdown",
   "id": "675d5ccb",
   "metadata": {},
   "source": [
    "### Step 3: Compute ICC"
   ]
  },
  {
   "cell_type": "code",
   "execution_count": 18,
   "id": "5d8ccb25",
   "metadata": {},
   "outputs": [
    {
     "name": "stdout",
     "output_type": "stream",
     "text": [
      "    Type              Description       ICC          F  df1  df2  \\\n",
      "0   ICC1   Single raters absolute  0.390165   3.559148    9   30   \n",
      "1   ICC2     Single random raters  0.454476  15.696813    9   27   \n",
      "2   ICC3      Single fixed raters  0.786060  15.696813    9   27   \n",
      "3  ICC1k  Average raters absolute  0.719034   3.559148    9   30   \n",
      "4  ICC2k    Average random raters  0.769181  15.696813    9   27   \n",
      "5  ICC3k     Average fixed raters  0.936293  15.696813    9   27   \n",
      "\n",
      "           pval         CI95%  \n",
      "0  4.125234e-03  [0.09, 0.74]  \n",
      "1  1.407900e-08   [0.08, 0.8]  \n",
      "2  1.407900e-08  [0.55, 0.93]  \n",
      "3  4.125234e-03  [0.28, 0.92]  \n",
      "4  1.407900e-08  [0.26, 0.94]  \n",
      "5  1.407900e-08  [0.83, 0.98]  \n"
     ]
    }
   ],
   "source": [
    "icc_adc_skel_means = pg.intraclass_corr(data=adc_skel_df, targets='ID', raters='Site', ratings='means')\n",
    "print(icc_adc_skel_means)"
   ]
  },
  {
   "cell_type": "markdown",
   "id": "617021fb",
   "metadata": {},
   "source": [
    "### Step 4: Compute CVws & CVbs"
   ]
  },
  {
   "cell_type": "code",
   "execution_count": 19,
   "id": "088bb598",
   "metadata": {},
   "outputs": [
    {
     "name": "stdout",
     "output_type": "stream",
     "text": [
      "Site  FloreyPrisma  FloreyVida       MBI       RCH\n",
      "0         0.000770    0.000779  0.000755  0.000755\n",
      "1         0.000760    0.000768  0.000750  0.000762\n",
      "2         0.000781    0.000798  0.000757  0.000776\n",
      "3         0.000769    0.000770  0.000765  0.000767\n",
      "4         0.000774    0.000786  0.000765  0.000775\n",
      "5         0.000758    0.000765  0.000751  0.000756\n",
      "6         0.000785    0.000798  0.000778  0.000784\n",
      "7         0.000772    0.000789  0.000767  0.000774\n",
      "8         0.000776    0.000783  0.000768  0.000775\n",
      "9         0.000768    0.000779  0.000754  0.000766\n"
     ]
    }
   ],
   "source": [
    "site_adc_skel = mean_data_adc_skel.iloc[:, 1:]\n",
    "print(site_adc_skel)"
   ]
  },
  {
   "cell_type": "code",
   "execution_count": 20,
   "id": "c3a2dfa8",
   "metadata": {},
   "outputs": [
    {
     "name": "stdout",
     "output_type": "stream",
     "text": [
      "1.128147250001948\n"
     ]
    }
   ],
   "source": [
    "subject_means_adc_skel = site_adc_skel.mean(axis=1)\n",
    "subject_stds_adc_skel = site_adc_skel.std(axis=1, ddof=1)\n",
    "\n",
    "cvws_indiv_adc_skel = subject_stds_adc_skel / subject_means_adc_skel\n",
    "CVws_adc_skel = cvws_indiv_adc_skel.mean() * 100\n",
    "print(CVws_adc_skel)"
   ]
  },
  {
   "cell_type": "code",
   "execution_count": 21,
   "id": "9ba8770a",
   "metadata": {},
   "outputs": [
    {
     "name": "stdout",
     "output_type": "stream",
     "text": [
      "1.224907627945384\n"
     ]
    }
   ],
   "source": [
    "### Alternative CVws from QIBA guidelines\n",
    "subject_var_adc_skel = site_adc_skel.var(axis=1)\n",
    "\n",
    "cvws_squared_indiv_adc_skel = subject_var_adc_skel / (subject_means_adc_skel ** 2)\n",
    "\n",
    "CVws_qiba_adc_skel = np.sqrt(cvws_squared_indiv_adc_skel.mean())*100\n",
    "print(CVws_qiba_adc_skel)"
   ]
  },
  {
   "cell_type": "code",
   "execution_count": 22,
   "id": "a3d4a136",
   "metadata": {},
   "outputs": [
    {
     "name": "stdout",
     "output_type": "stream",
     "text": [
      "1.158258320784037\n"
     ]
    }
   ],
   "source": [
    "group_mean_adc_skel = subject_means_adc_skel.mean()\n",
    "group_std_adc_skel = subject_means_adc_skel.std(ddof=1)\n",
    "CVbs_adc_skel = group_std_adc_skel / group_mean_adc_skel * 100\n",
    "print(CVbs_adc_skel)"
   ]
  },
  {
   "cell_type": "markdown",
   "id": "afe3c6f2",
   "metadata": {},
   "source": [
    "# **DTI metrics (group pipeline)**"
   ]
  },
  {
   "cell_type": "markdown",
   "id": "7d76f940",
   "metadata": {},
   "source": []
  }
 ],
 "metadata": {
  "kernelspec": {
   "display_name": "base",
   "language": "python",
   "name": "python3"
  },
  "language_info": {
   "codemirror_mode": {
    "name": "ipython",
    "version": 3
   },
   "file_extension": ".py",
   "mimetype": "text/x-python",
   "name": "python",
   "nbconvert_exporter": "python",
   "pygments_lexer": "ipython3",
   "version": "3.9.13"
  }
 },
 "nbformat": 4,
 "nbformat_minor": 5
}
